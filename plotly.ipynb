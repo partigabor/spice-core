{
 "cells": [
  {
   "cell_type": "code",
   "execution_count": 2,
   "metadata": {},
   "outputs": [],
   "source": [
    "import pandas as pd\n",
    "import numpy as np\n",
    "import json\n",
    "import re\n",
    "import plotly.express\n",
    "import plotly.express as px\n",
    "import plotly.graph_objs as go\n",
    "from plotly.offline import plot"
   ]
  },
  {
   "cell_type": "code",
   "execution_count": 3,
   "metadata": {},
   "outputs": [],
   "source": [
    "# Maps ################################\n",
    "\n",
    "# Variables (light) ################\n",
    "transparent = 'rgba(255,255,255,0)'\n",
    "half_transparent = 'rgba(255,255,255,0.5)'\n",
    "quarter_transparent = 'rgba(255,255,255,0.25)'\n",
    "tenth_transparent = 'rgba(255,255,255,0.1)'\n",
    "\n",
    "font_size = 16\n",
    "font_color = \"black\"\n",
    "font_family = \"Raleway\"\n",
    "\n",
    "marker_symbol= 'circle'\n",
    "marker_size = 16\n",
    "max_marker_size = 32\n",
    "\n",
    "edge_color = transparent\n",
    "edge_size = 1\n",
    "opacity = 0.75\n",
    "\n",
    "line_width = 4\n",
    "\n",
    "# water = '#ebedef'\n",
    "# grid_color = '#d6dbdf'\n",
    "# land = '#aeb6bf'\n",
    "# lines = '#85929e'\n",
    "# copyright_color = '#5d6d7e'\n",
    "\n",
    "water = 'white'\n",
    "grid_color = '#ededed'\n",
    "land = 'gainsboro'\n",
    "lines = 'gainsboro'\n",
    "copyright_color = 'lightgray'\n",
    "\n",
    "background_color = transparent\n",
    "legend_background_color = tenth_transparent\n",
    "\n",
    "###########################################\n",
    "\n",
    "# # Variables (dark) ################\n",
    "# transparent = 'rgba(0,0,0,0)'\n",
    "# half_transparent = 'rgba(0,0,0,0.5)'\n",
    "# quarter_transparent = 'rgba(0,0,0,0.25)'\n",
    "# tenth_transparent = 'rgba(0,0,0,0.1)'\n",
    "\n",
    "# font_size = 14\n",
    "# font_color = \"black\"\n",
    "# font_family = \"Serif\"\n",
    "\n",
    "# marker_symbol= 'circle'\n",
    "# marker_size = 14\n",
    "# max_marker_size = 32\n",
    "\n",
    "# edge_color = transparent\n",
    "# edge_size = 1\n",
    "# opacity = 0.75\n",
    "\n",
    "# line_width = 4\n",
    "\n",
    "# water = '#212f3c'\n",
    "# grid_color = '#283747'\n",
    "# land = ' #2e4053'\n",
    "# lines = '#34495e'\n",
    "# copyright_color = '#5d6d7e'\n",
    "\n",
    "# background_color = transparent\n",
    "# legend_background_color = tenth_transparent"
   ]
  },
  {
   "cell_type": "code",
   "execution_count": 4,
   "metadata": {},
   "outputs": [],
   "source": [
    "# Elements\n",
    "\n",
    "## Traces\n",
    "ne_traces = dict(\n",
    "    textposition = 'middle right',\n",
    "    textfont = dict(size=font_size, color=font_color, family=font_family),\n",
    "    hovertemplate=\n",
    "        \"<b>%{text}</b><br><br>\" +\n",
    "        \"Species: <i>%{customdata[1]}</i><br>\" +\n",
    "        \"Family: <i>%{customdata[2]}</i><br>\" +\n",
    "        \"Region of origin: %{customdata[3]}<br>\" +\n",
    "        \"Arabic: %{customdata[4]} <i>%{customdata[5]}</i><br>\" +\n",
    "        \"Chinese: %{customdata[6]} <i>%{customdata[7]}</i><br>\" +\n",
    "        \"Spreadability: %{customdata[8]:.2f}<br>\" +\n",
    "        \"<extra></extra>\",\n",
    "    marker = dict(\n",
    "        symbol = marker_symbol,\n",
    "        # size = marker_size,\n",
    "        line = dict(\n",
    "            color=edge_color,\n",
    "            width=edge_size\n",
    "        )\n",
    "    )\n",
    ")\n",
    "\n",
    "ne_layout = go.Layout(\n",
    "    paper_bgcolor=background_color,\n",
    "    plot_bgcolor=background_color,\n",
    "    geo = dict(\n",
    "        resolution=110, #50 is large or 110 small\n",
    "    #     scope='world',\n",
    "        projection_type = 'natural earth',\n",
    "        projection_scale = 1,\n",
    "        # projection_rotation = {'lat': 15, 'lon': 30, 'roll': 0}, #not good for NE\n",
    "        bgcolor=background_color,\n",
    "        showcoastlines=True, coastlinewidth = 1, coastlinecolor = lines,\n",
    "        # showcountries=True, countrywidth = 1, countrycolor = lines, \n",
    "        showframe=True, framewidth = 1, framecolor = lines, \n",
    "        showlakes=True, lakecolor = water,\n",
    "        showland=True, landcolor = land, \n",
    "        showocean=True, oceancolor = water,\n",
    "        showrivers=True, riverwidth = 1, rivercolor = water,\n",
    "        # showsubunits=True, subunitwidth = 1, subunitcolor = lines, \n",
    "        # lonaxis = dict(showgrid = True, gridwidth = 0.5, dtick = 10, gridcolor=grid_color),\n",
    "        # lataxis = dict (showgrid = True, gridwidth = 0.5, dtick = 10, gridcolor=grid_color),\n",
    "    ),\n",
    "    showlegend = True,\n",
    "    legend=dict(x=0, y=0, xanchor=\"left\", yanchor=\"bottom\", bgcolor=half_transparent,  \n",
    "                font=dict(color=font_color, size=font_size, family=font_family), \n",
    "                title_font=dict(color=font_color, size=font_size+2, family=font_family),\n",
    "                traceorder = 'normal', orientation=\"v\"),\n",
    "    title=dict(x=0.5, y=0.99, xanchor='center', yanchor='top', text='',\n",
    "               font=dict(color=font_color, size=font_size+4, family=font_family)),\n",
    "    margin={\"r\":0,\"t\":0,\"l\":0,\"b\":0},\n",
    "    hoverlabel=dict(#bgcolor=\"white\", \n",
    "                    font_size=font_size, \n",
    "                    font_family=font_family),\n",
    "    )"
   ]
  },
  {
   "cell_type": "code",
   "execution_count": 5,
   "metadata": {},
   "outputs": [
    {
     "name": "stdout",
     "output_type": "stream",
     "text": [
      "(24, 102)\n"
     ]
    }
   ],
   "source": [
    "# Path\n",
    "path_in = \"data/\"\n",
    "\n",
    "# Read and store content of an excel file \n",
    "read_file = pd.read_excel(path_in+\"spices.xlsx\")\n",
    "\n",
    "# Write the dataframe object into csv file\n",
    "read_file.to_csv (path_in+\"spices.csv\", index = None, header=True)\n",
    "\n",
    "# Load in dataset\n",
    "df_spices=pd.read_csv(path_in+'spices.csv', header =[0], delimiter=',', encoding=\"utf-8\")\n",
    "\n",
    "df_spices = df_spices.loc[df_spices['include'] == 'in'] # include ones to include\n",
    "\n",
    "print(df_spices.shape)\n",
    "\n",
    "df = df_spices.copy()\n",
    "\n",
    "df['spreadability'] = df['spreadability'].astype(float)\n",
    "df['spreadability'] = df['spreadability'].round(3)\n",
    "df['size'] = df['spreadability'] + 2"
   ]
  },
  {
   "cell_type": "code",
   "execution_count": 6,
   "metadata": {},
   "outputs": [],
   "source": [
    "# # Plot map \n",
    "\n",
    "# fig = px.scatter_geo(df, lat='lat', lon='lon', \n",
    "#     text='id',\n",
    "#     color=\"family\",\n",
    "#     color_discrete_sequence=px.colors.qualitative.Prism,\n",
    "#     opacity = opacity,\n",
    "#     size=\"size\",\n",
    "#     # size_max=max_marker_size,\n",
    "#     hover_name=\"id\", \n",
    "#     hover_data={'species':True, 'family':True, 'region of origin':True, 'Arabic':True, 'Ar transliteration':True, 'Chinese':True, 'pinyin':True, 'spreadability':':.2f', 'url':True, 'lon':False, 'lat':False, 'size':False},\n",
    "#     # labels={\"group\": \"category\"},\n",
    "#     )\n",
    "\n",
    "# fig.update_traces(ne_traces)\n",
    "\n",
    "# fig.update_layout(ne_layout)\n",
    "\n",
    "# fig.show()\n",
    "\n",
    "# # write\n",
    "# filename = \"test\"\n",
    "# fig.write_html(filename + \".html\")\n",
    "# fig.write_json(filename + \".json\", validate=True, pretty=True)\n",
    "# fig.write_image(filename + \".pdf\", engine=\"kaleido\")\n",
    "# fig.write_image(filename + \".png\", scale=3)"
   ]
  },
  {
   "cell_type": "code",
   "execution_count": 7,
   "metadata": {},
   "outputs": [
    {
     "data": {
      "application/vnd.plotly.v1+json": {
       "config": {
        "plotlyServerURL": "https://plot.ly"
       },
       "data": [
        {
         "customdata": [
          [
           "https://partigabor.github.io/spice/book/",
           "Pimenta dioica",
           "Myrtaceae",
           "S. Mexico to C. America; Caribbean",
           "فلفل إفرنجي",
           "fulful ifranjī",
           "多香果",
           "duōxiāngguǒ",
           0.846,
           "-77",
           "18",
           2.846
          ],
          [
           "https://partigabor.github.io/spice/book/",
           "Syzygium aromaticum",
           "Myrtaceae",
           "Moluccas (Indonesia)",
           "قرنفل",
           "qaranful",
           "丁香",
           "dīngxiāng",
           9,
           "127",
           "0",
           11
          ]
         ],
         "geo": "geo",
         "hovertemplate": "<b>%{text}</b><br><br>Species: <i>%{customdata[1]}</i><br>Family: <i>%{customdata[2]}</i><br>Region of origin: %{customdata[3]}<br>Arabic: %{customdata[4]} <i>%{customdata[5]}</i><br>Chinese: %{customdata[6]} <i>%{customdata[7]}</i><br>Spreadability: %{customdata[8]:.2f}<br><extra></extra>",
         "hovertext": [
          "allspice",
          "clove"
         ],
         "lat": [
          "18",
          "0"
         ],
         "legendgroup": "Myrtaceae",
         "lon": [
          "-77",
          "127"
         ],
         "marker": {
          "color": "rgb(95, 70, 144)",
          "line": {
           "color": "rgba(255,255,255,0)",
           "width": 1
          },
          "opacity": 0.75,
          "size": [
           2.846,
           11
          ],
          "sizemode": "area",
          "sizeref": 0.1375,
          "symbol": "circle"
         },
         "mode": "markers+text",
         "name": "Myrtaceae",
         "showlegend": true,
         "text": [
          "allspice",
          "clove"
         ],
         "textfont": {
          "color": "black",
          "family": "Raleway",
          "size": 16
         },
         "textposition": "middle right",
         "type": "scattergeo"
        },
        {
         "customdata": [
          [
           "https://partigabor.github.io/spice/book/",
           "Pimpinella anisum",
           "Apiaceae",
           "E. Mediterranean; W. Asia",
           "أنيسون",
           "anīsūn",
           "茴芹",
           "huíqín",
           10.5,
           "35",
           "39",
           12.5
          ],
          [
           "https://partigabor.github.io/spice/book/",
           "Ferula foetida",
           "Apiaceae",
           "Iran; W. and C. Asia",
           "حلتیت",
           "ḥiltīt",
           "阿魏",
           "āwèi",
           0.125,
           "55",
           "35",
           2.125
          ],
          [
           "https://partigabor.github.io/spice/book/",
           "Carum carvi",
           "Apiaceae",
           "Mediterranean; Eurasia",
           "كراويا",
           "karāwiyā",
           "葛縷子",
           "gě​lǚ​zi",
           0.851,
           "69",
           "45",
           2.851
          ],
          [
           "https://partigabor.github.io/spice/book/",
           "Coriandrum sativum",
           "Apiaceae",
           "Mediterranean; W. Asia; India; SW As",
           "كزبرة",
           "kuzbara",
           "芫荽",
           "yán​sui",
           15,
           "39",
           "35",
           17
          ],
          [
           "https://partigabor.github.io/spice/book/",
           "Cuminum cyminum",
           "Apiaceae",
           "W. \\& C. Asia; India ",
           "كمون ",
           "kammūn",
           "孜然",
           "zī​rán",
           8.667,
           "53",
           "32",
           10.667
          ],
          [
           "https://partigabor.github.io/spice/book/",
           "Anethum graveolens",
           "Apiaceae",
           "Nort Africa; West Asia",
           "شبت",
           "shibitt",
           "蒔蘿",
           "shíluó",
           12.182,
           "30",
           "28",
           14.182
          ],
          [
           "https://partigabor.github.io/spice/book/",
           "Foeniculum vulgare",
           "Apiaceae",
           "Med",
           "شمر",
           "shamar",
           "茴香",
           "huíxiāng",
           2.778,
           "42",
           "29",
           4.7780000000000005
          ]
         ],
         "geo": "geo",
         "hovertemplate": "<b>%{text}</b><br><br>Species: <i>%{customdata[1]}</i><br>Family: <i>%{customdata[2]}</i><br>Region of origin: %{customdata[3]}<br>Arabic: %{customdata[4]} <i>%{customdata[5]}</i><br>Chinese: %{customdata[6]} <i>%{customdata[7]}</i><br>Spreadability: %{customdata[8]:.2f}<br><extra></extra>",
         "hovertext": [
          "anise",
          "asafoetida",
          "caraway",
          "coriander",
          "cumin",
          "dill",
          "fennel"
         ],
         "lat": [
          "39",
          "35",
          "45",
          "35",
          "32",
          "28",
          "29"
         ],
         "legendgroup": "Apiaceae",
         "lon": [
          "35",
          "55",
          "69",
          "39",
          "53",
          "30",
          "42"
         ],
         "marker": {
          "color": "rgb(29, 105, 150)",
          "line": {
           "color": "rgba(255,255,255,0)",
           "width": 1
          },
          "opacity": 0.75,
          "size": [
           12.5,
           2.125,
           2.851,
           17,
           10.667,
           14.182,
           4.7780000000000005
          ],
          "sizemode": "area",
          "sizeref": 0.1375,
          "symbol": "circle"
         },
         "mode": "markers+text",
         "name": "Apiaceae",
         "showlegend": true,
         "text": [
          "anise",
          "asafoetida",
          "caraway",
          "coriander",
          "cumin",
          "dill",
          "fennel"
         ],
         "textfont": {
          "color": "black",
          "family": "Raleway",
          "size": 16
         },
         "textposition": "middle right",
         "type": "scattergeo"
        },
        {
         "customdata": [
          [
           "https://partigabor.github.io/spice/book/",
           "Elettaria cardamomum",
           "Zingiberaceae",
           "India",
           "هال",
           "hāl",
           "豆蔻",
           "dòukòu",
           3.5,
           "75",
           "16",
           5.5
          ],
          [
           "https://partigabor.github.io/spice/book/",
           "Zingiber officinale",
           "Zingiberaceae",
           "South East Asia; India (secondary)",
           "زنجبيل",
           "zanjabīl",
           "薑",
           "jiāng",
           8.75,
           "95",
           "24",
           10.75
          ],
          [
           "https://partigabor.github.io/spice/book/",
           "Curcuma longa",
           "Zingiberaceae",
           "India",
           "كركم",
           "kurkum",
           "薑黃",
           "jiānghuáng",
           53,
           "79",
           "12",
           55
          ]
         ],
         "geo": "geo",
         "hovertemplate": "<b>%{text}</b><br><br>Species: <i>%{customdata[1]}</i><br>Family: <i>%{customdata[2]}</i><br>Region of origin: %{customdata[3]}<br>Arabic: %{customdata[4]} <i>%{customdata[5]}</i><br>Chinese: %{customdata[6]} <i>%{customdata[7]}</i><br>Spreadability: %{customdata[8]:.2f}<br><extra></extra>",
         "hovertext": [
          "cardamom",
          "ginger",
          "turmeric"
         ],
         "lat": [
          "16",
          "24",
          "12"
         ],
         "legendgroup": "Zingiberaceae",
         "lon": [
          "75",
          "95",
          "79"
         ],
         "marker": {
          "color": "rgb(56, 166, 165)",
          "line": {
           "color": "rgba(255,255,255,0)",
           "width": 1
          },
          "opacity": 0.75,
          "size": [
           5.5,
           10.75,
           55
          ],
          "sizemode": "area",
          "sizeref": 0.1375,
          "symbol": "circle"
         },
         "mode": "markers+text",
         "name": "Zingiberaceae",
         "showlegend": true,
         "text": [
          "cardamom",
          "ginger",
          "turmeric"
         ],
         "textfont": {
          "color": "black",
          "family": "Raleway",
          "size": 16
         },
         "textposition": "middle right",
         "type": "scattergeo"
        },
        {
         "customdata": [
          [
           "https://partigabor.github.io/spice/book/",
           "Cinnamomum cassia",
           "Lauraceae",
           "Southeast China",
           "سليخة",
           "salīkha",
           "肉桂",
           "ròuguì",
           15,
           "111",
           "22",
           17
          ],
          [
           "https://partigabor.github.io/spice/book/",
           "Cinnamomum verum",
           "Lauraceae",
           "Sri Lanka; SW. India",
           "قرفة",
           "qirfa",
           "錫蘭肉桂",
           "xīlánròuguì",
           26,
           "81",
           "7",
           28
          ]
         ],
         "geo": "geo",
         "hovertemplate": "<b>%{text}</b><br><br>Species: <i>%{customdata[1]}</i><br>Family: <i>%{customdata[2]}</i><br>Region of origin: %{customdata[3]}<br>Arabic: %{customdata[4]} <i>%{customdata[5]}</i><br>Chinese: %{customdata[6]} <i>%{customdata[7]}</i><br>Spreadability: %{customdata[8]:.2f}<br><extra></extra>",
         "hovertext": [
          "cassia",
          "cinnamon"
         ],
         "lat": [
          "22",
          "7"
         ],
         "legendgroup": "Lauraceae",
         "lon": [
          "111",
          "81"
         ],
         "marker": {
          "color": "rgb(15, 133, 84)",
          "line": {
           "color": "rgba(255,255,255,0)",
           "width": 1
          },
          "opacity": 0.75,
          "size": [
           17,
           28
          ],
          "sizemode": "area",
          "sizeref": 0.1375,
          "symbol": "circle"
         },
         "mode": "markers+text",
         "name": "Lauraceae",
         "showlegend": true,
         "text": [
          "cassia",
          "cinnamon"
         ],
         "textfont": {
          "color": "black",
          "family": "Raleway",
          "size": 16
         },
         "textposition": "middle right",
         "type": "scattergeo"
        },
        {
         "customdata": [
          [
           "https://partigabor.github.io/spice/book/",
           "Capsicum annuum",
           "Solanaceae",
           "Central America",
           "فلفل حار",
           "fulful hārr",
           "辣椒",
           "làjiāo",
           17.143,
           "-85",
           "12",
           19.143
          ]
         ],
         "geo": "geo",
         "hovertemplate": "<b>%{text}</b><br><br>Species: <i>%{customdata[1]}</i><br>Family: <i>%{customdata[2]}</i><br>Region of origin: %{customdata[3]}<br>Arabic: %{customdata[4]} <i>%{customdata[5]}</i><br>Chinese: %{customdata[6]} <i>%{customdata[7]}</i><br>Spreadability: %{customdata[8]:.2f}<br><extra></extra>",
         "hovertext": [
          "chile"
         ],
         "lat": [
          "12"
         ],
         "legendgroup": "Solanaceae",
         "lon": [
          "-85"
         ],
         "marker": {
          "color": "rgb(115, 175, 72)",
          "line": {
           "color": "rgba(255,255,255,0)",
           "width": 1
          },
          "opacity": 0.75,
          "size": [
           19.143
          ],
          "sizemode": "area",
          "sizeref": 0.1375,
          "symbol": "circle"
         },
         "mode": "markers+text",
         "name": "Solanaceae",
         "showlegend": true,
         "text": [
          "chile"
         ],
         "textfont": {
          "color": "black",
          "family": "Raleway",
          "size": 16
         },
         "textposition": "middle right",
         "type": "scattergeo"
        },
        {
         "customdata": [
          [
           "https://partigabor.github.io/spice/book/",
           "Trigonella foenum-graecum",
           "Fabaceae",
           "S Eur; W As",
           "حلبة",
           "ḥulba",
           "胡蘆巴",
           "húlúbā",
           17,
           "67",
           "33",
           19
          ]
         ],
         "geo": "geo",
         "hovertemplate": "<b>%{text}</b><br><br>Species: <i>%{customdata[1]}</i><br>Family: <i>%{customdata[2]}</i><br>Region of origin: %{customdata[3]}<br>Arabic: %{customdata[4]} <i>%{customdata[5]}</i><br>Chinese: %{customdata[6]} <i>%{customdata[7]}</i><br>Spreadability: %{customdata[8]:.2f}<br><extra></extra>",
         "hovertext": [
          "fenugreek"
         ],
         "lat": [
          "33"
         ],
         "legendgroup": "Fabaceae",
         "lon": [
          "67"
         ],
         "marker": {
          "color": "rgb(237, 173, 8)",
          "line": {
           "color": "rgba(255,255,255,0)",
           "width": 1
          },
          "opacity": 0.75,
          "size": [
           19
          ],
          "sizemode": "area",
          "sizeref": 0.1375,
          "symbol": "circle"
         },
         "mode": "markers+text",
         "name": "Fabaceae",
         "showlegend": true,
         "text": [
          "fenugreek"
         ],
         "textfont": {
          "color": "black",
          "family": "Raleway",
          "size": 16
         },
         "textposition": "middle right",
         "type": "scattergeo"
        },
        {
         "customdata": [
          [
           "https://partigabor.github.io/spice/book/",
           "Piper longum",
           "Piperaceae",
           "E. Himalaya to S. China; Indo-China",
           "دارفلفل",
           "dārfilfil",
           "蓽撥",
           "bìbō",
           0.7,
           "80",
           "23",
           2.7
          ],
          [
           "https://partigabor.github.io/spice/book/",
           "Piper nigrum",
           "Piperaceae",
           "Malabar coast (South India)",
           "فلفل",
           "filfil, fulful",
           "胡椒",
           "hújiāo",
           37,
           "76",
           "14",
           39
          ]
         ],
         "geo": "geo",
         "hovertemplate": "<b>%{text}</b><br><br>Species: <i>%{customdata[1]}</i><br>Family: <i>%{customdata[2]}</i><br>Region of origin: %{customdata[3]}<br>Arabic: %{customdata[4]} <i>%{customdata[5]}</i><br>Chinese: %{customdata[6]} <i>%{customdata[7]}</i><br>Spreadability: %{customdata[8]:.2f}<br><extra></extra>",
         "hovertext": [
          "long pepper",
          "pepper"
         ],
         "lat": [
          "23",
          "14"
         ],
         "legendgroup": "Piperaceae",
         "lon": [
          "80",
          "76"
         ],
         "marker": {
          "color": "rgb(225, 124, 5)",
          "line": {
           "color": "rgba(255,255,255,0)",
           "width": 1
          },
          "opacity": 0.75,
          "size": [
           2.7,
           39
          ],
          "sizemode": "area",
          "sizeref": 0.1375,
          "symbol": "circle"
         },
         "mode": "markers+text",
         "name": "Piperaceae",
         "showlegend": true,
         "text": [
          "long pepper",
          "pepper"
         ],
         "textfont": {
          "color": "black",
          "family": "Raleway",
          "size": 16
         },
         "textposition": "middle right",
         "type": "scattergeo"
        },
        {
         "customdata": [
          [
           "https://partigabor.github.io/spice/book/",
           "Myristica fragrans",
           "Myristicaceae",
           "Moluccas (Indonesia)",
           "بسباسة",
           "basbāsa",
           "肉豆蔻皮",
           "ròudòukòupí",
           14,
           "130",
           "-6",
           16
          ],
          [
           "https://partigabor.github.io/spice/book/",
           "Myristica fragrans",
           "Myristicaceae",
           "Moluccas (Indonesia)",
           "جوز الطيب",
           "jawz al-ṭīb",
           "肉豆蔻",
           "ròudòukòu",
           14,
           "129",
           "-4",
           16
          ]
         ],
         "geo": "geo",
         "hovertemplate": "<b>%{text}</b><br><br>Species: <i>%{customdata[1]}</i><br>Family: <i>%{customdata[2]}</i><br>Region of origin: %{customdata[3]}<br>Arabic: %{customdata[4]} <i>%{customdata[5]}</i><br>Chinese: %{customdata[6]} <i>%{customdata[7]}</i><br>Spreadability: %{customdata[8]:.2f}<br><extra></extra>",
         "hovertext": [
          "mace",
          "nutmeg"
         ],
         "lat": [
          "-6",
          "-4"
         ],
         "legendgroup": "Myristicaceae",
         "lon": [
          "130",
          "129"
         ],
         "marker": {
          "color": "rgb(204, 80, 62)",
          "line": {
           "color": "rgba(255,255,255,0)",
           "width": 1
          },
          "opacity": 0.75,
          "size": [
           16,
           16
          ],
          "sizemode": "area",
          "sizeref": 0.1375,
          "symbol": "circle"
         },
         "mode": "markers+text",
         "name": "Myristicaceae",
         "showlegend": true,
         "text": [
          "mace",
          "nutmeg"
         ],
         "textfont": {
          "color": "black",
          "family": "Raleway",
          "size": 16
         },
         "textposition": "middle right",
         "type": "scattergeo"
        },
        {
         "customdata": [
          [
           "https://partigabor.github.io/spice/book/",
           "Crocus sativus",
           "Iridaceae",
           "Greece",
           "زعفران",
           "zaʿfarān",
           "藏紅花",
           "zànghónghuā",
           8,
           "22",
           "39",
           10
          ]
         ],
         "geo": "geo",
         "hovertemplate": "<b>%{text}</b><br><br>Species: <i>%{customdata[1]}</i><br>Family: <i>%{customdata[2]}</i><br>Region of origin: %{customdata[3]}<br>Arabic: %{customdata[4]} <i>%{customdata[5]}</i><br>Chinese: %{customdata[6]} <i>%{customdata[7]}</i><br>Spreadability: %{customdata[8]:.2f}<br><extra></extra>",
         "hovertext": [
          "saffron"
         ],
         "lat": [
          "39"
         ],
         "legendgroup": "Iridaceae",
         "lon": [
          "22"
         ],
         "marker": {
          "color": "rgb(148, 52, 110)",
          "line": {
           "color": "rgba(255,255,255,0)",
           "width": 1
          },
          "opacity": 0.75,
          "size": [
           10
          ],
          "sizemode": "area",
          "sizeref": 0.1375,
          "symbol": "circle"
         },
         "mode": "markers+text",
         "name": "Iridaceae",
         "showlegend": true,
         "text": [
          "saffron"
         ],
         "textfont": {
          "color": "black",
          "family": "Raleway",
          "size": 16
         },
         "textposition": "middle right",
         "type": "scattergeo"
        },
        {
         "customdata": [
          [
           "https://partigabor.github.io/spice/book/",
           "Zanthoxylum bungeanum",
           "Rutaceae",
           "China",
           "فلفل سيتشوان",
           "fulful sītshuwān",
           "花椒",
           "huā​jiāo",
           0.1,
           "105",
           "35",
           2.1
          ]
         ],
         "geo": "geo",
         "hovertemplate": "<b>%{text}</b><br><br>Species: <i>%{customdata[1]}</i><br>Family: <i>%{customdata[2]}</i><br>Region of origin: %{customdata[3]}<br>Arabic: %{customdata[4]} <i>%{customdata[5]}</i><br>Chinese: %{customdata[6]} <i>%{customdata[7]}</i><br>Spreadability: %{customdata[8]:.2f}<br><extra></extra>",
         "hovertext": [
          "Sichuan pepper"
         ],
         "lat": [
          "35"
         ],
         "legendgroup": "Rutaceae",
         "lon": [
          "105"
         ],
         "marker": {
          "color": "rgb(111, 64, 112)",
          "line": {
           "color": "rgba(255,255,255,0)",
           "width": 1
          },
          "opacity": 0.75,
          "size": [
           2.1
          ],
          "sizemode": "area",
          "sizeref": 0.1375,
          "symbol": "circle"
         },
         "mode": "markers+text",
         "name": "Rutaceae",
         "showlegend": true,
         "text": [
          "Sichuan pepper"
         ],
         "textfont": {
          "color": "black",
          "family": "Raleway",
          "size": 16
         },
         "textposition": "middle right",
         "type": "scattergeo"
        },
        {
         "customdata": [
          [
           "https://partigabor.github.io/spice/book/",
           "Illicium verum",
           "Schisandraceae",
           "SE. China; Vietnam",
           "يانسون نجمي",
           "yānsūn najmī",
           "八角",
           "bājiǎo",
           1,
           "106",
           "18",
           3
          ]
         ],
         "geo": "geo",
         "hovertemplate": "<b>%{text}</b><br><br>Species: <i>%{customdata[1]}</i><br>Family: <i>%{customdata[2]}</i><br>Region of origin: %{customdata[3]}<br>Arabic: %{customdata[4]} <i>%{customdata[5]}</i><br>Chinese: %{customdata[6]} <i>%{customdata[7]}</i><br>Spreadability: %{customdata[8]:.2f}<br><extra></extra>",
         "hovertext": [
          "star anise"
         ],
         "lat": [
          "18"
         ],
         "legendgroup": "Schisandraceae",
         "lon": [
          "106"
         ],
         "marker": {
          "color": "rgb(102, 102, 102)",
          "line": {
           "color": "rgba(255,255,255,0)",
           "width": 1
          },
          "opacity": 0.75,
          "size": [
           3
          ],
          "sizemode": "area",
          "sizeref": 0.1375,
          "symbol": "circle"
         },
         "mode": "markers+text",
         "name": "Schisandraceae",
         "showlegend": true,
         "text": [
          "star anise"
         ],
         "textfont": {
          "color": "black",
          "family": "Raleway",
          "size": 16
         },
         "textposition": "middle right",
         "type": "scattergeo"
        },
        {
         "customdata": [
          [
           "https://partigabor.github.io/spice/book/",
           "Vanilla planifolia",
           "Orchidaceae",
           "Tropical America",
           "فانيليا",
           "fānīliyā",
           "香草",
           "xiāngcǎo",
           2.643,
           "-55",
           "-10",
           4.643
          ]
         ],
         "geo": "geo",
         "hovertemplate": "<b>%{text}</b><br><br>Species: <i>%{customdata[1]}</i><br>Family: <i>%{customdata[2]}</i><br>Region of origin: %{customdata[3]}<br>Arabic: %{customdata[4]} <i>%{customdata[5]}</i><br>Chinese: %{customdata[6]} <i>%{customdata[7]}</i><br>Spreadability: %{customdata[8]:.2f}<br><extra></extra>",
         "hovertext": [
          "vanilla"
         ],
         "lat": [
          "-10"
         ],
         "legendgroup": "Orchidaceae",
         "lon": [
          "-55"
         ],
         "marker": {
          "color": "rgb(95, 70, 144)",
          "line": {
           "color": "rgba(255,255,255,0)",
           "width": 1
          },
          "opacity": 0.75,
          "size": [
           4.643
          ],
          "sizemode": "area",
          "sizeref": 0.1375,
          "symbol": "circle"
         },
         "mode": "markers+text",
         "name": "Orchidaceae",
         "showlegend": true,
         "text": [
          "vanilla"
         ],
         "textfont": {
          "color": "black",
          "family": "Raleway",
          "size": 16
         },
         "textposition": "middle right",
         "type": "scattergeo"
        }
       ],
       "layout": {
        "geo": {
         "bgcolor": "rgba(255,255,255,0)",
         "center": {},
         "coastlinecolor": "gainsboro",
         "coastlinewidth": 1,
         "domain": {
          "x": [
           0,
           1
          ],
          "y": [
           0,
           1
          ]
         },
         "framecolor": "gainsboro",
         "framewidth": 1,
         "lakecolor": "white",
         "landcolor": "gainsboro",
         "oceancolor": "white",
         "projection": {
          "scale": 1,
          "type": "natural earth"
         },
         "resolution": 110,
         "rivercolor": "white",
         "riverwidth": 1,
         "showcoastlines": true,
         "showframe": true,
         "showlakes": true,
         "showland": true,
         "showocean": true,
         "showrivers": true
        },
        "hoverlabel": {
         "font": {
          "family": "Raleway",
          "size": 16
         }
        },
        "legend": {
         "bgcolor": "rgba(255,255,255,0.5)",
         "font": {
          "color": "black",
          "family": "Raleway",
          "size": 16
         },
         "itemsizing": "constant",
         "orientation": "v",
         "title": {
          "font": {
           "color": "black",
           "family": "Raleway",
           "size": 18
          },
          "text": "family"
         },
         "tracegroupgap": 0,
         "traceorder": "normal",
         "x": 0,
         "xanchor": "left",
         "y": 0,
         "yanchor": "bottom"
        },
        "margin": {
         "b": 0,
         "l": 0,
         "r": 0,
         "t": 0
        },
        "paper_bgcolor": "rgba(255,255,255,0)",
        "plot_bgcolor": "rgba(255,255,255,0)",
        "showlegend": true,
        "template": {
         "data": {
          "bar": [
           {
            "error_x": {
             "color": "#2a3f5f"
            },
            "error_y": {
             "color": "#2a3f5f"
            },
            "marker": {
             "line": {
              "color": "#E5ECF6",
              "width": 0.5
             },
             "pattern": {
              "fillmode": "overlay",
              "size": 10,
              "solidity": 0.2
             }
            },
            "type": "bar"
           }
          ],
          "barpolar": [
           {
            "marker": {
             "line": {
              "color": "#E5ECF6",
              "width": 0.5
             },
             "pattern": {
              "fillmode": "overlay",
              "size": 10,
              "solidity": 0.2
             }
            },
            "type": "barpolar"
           }
          ],
          "carpet": [
           {
            "aaxis": {
             "endlinecolor": "#2a3f5f",
             "gridcolor": "white",
             "linecolor": "white",
             "minorgridcolor": "white",
             "startlinecolor": "#2a3f5f"
            },
            "baxis": {
             "endlinecolor": "#2a3f5f",
             "gridcolor": "white",
             "linecolor": "white",
             "minorgridcolor": "white",
             "startlinecolor": "#2a3f5f"
            },
            "type": "carpet"
           }
          ],
          "choropleth": [
           {
            "colorbar": {
             "outlinewidth": 0,
             "ticks": ""
            },
            "type": "choropleth"
           }
          ],
          "contour": [
           {
            "colorbar": {
             "outlinewidth": 0,
             "ticks": ""
            },
            "colorscale": [
             [
              0,
              "#0d0887"
             ],
             [
              0.1111111111111111,
              "#46039f"
             ],
             [
              0.2222222222222222,
              "#7201a8"
             ],
             [
              0.3333333333333333,
              "#9c179e"
             ],
             [
              0.4444444444444444,
              "#bd3786"
             ],
             [
              0.5555555555555556,
              "#d8576b"
             ],
             [
              0.6666666666666666,
              "#ed7953"
             ],
             [
              0.7777777777777778,
              "#fb9f3a"
             ],
             [
              0.8888888888888888,
              "#fdca26"
             ],
             [
              1,
              "#f0f921"
             ]
            ],
            "type": "contour"
           }
          ],
          "contourcarpet": [
           {
            "colorbar": {
             "outlinewidth": 0,
             "ticks": ""
            },
            "type": "contourcarpet"
           }
          ],
          "heatmap": [
           {
            "colorbar": {
             "outlinewidth": 0,
             "ticks": ""
            },
            "colorscale": [
             [
              0,
              "#0d0887"
             ],
             [
              0.1111111111111111,
              "#46039f"
             ],
             [
              0.2222222222222222,
              "#7201a8"
             ],
             [
              0.3333333333333333,
              "#9c179e"
             ],
             [
              0.4444444444444444,
              "#bd3786"
             ],
             [
              0.5555555555555556,
              "#d8576b"
             ],
             [
              0.6666666666666666,
              "#ed7953"
             ],
             [
              0.7777777777777778,
              "#fb9f3a"
             ],
             [
              0.8888888888888888,
              "#fdca26"
             ],
             [
              1,
              "#f0f921"
             ]
            ],
            "type": "heatmap"
           }
          ],
          "heatmapgl": [
           {
            "colorbar": {
             "outlinewidth": 0,
             "ticks": ""
            },
            "colorscale": [
             [
              0,
              "#0d0887"
             ],
             [
              0.1111111111111111,
              "#46039f"
             ],
             [
              0.2222222222222222,
              "#7201a8"
             ],
             [
              0.3333333333333333,
              "#9c179e"
             ],
             [
              0.4444444444444444,
              "#bd3786"
             ],
             [
              0.5555555555555556,
              "#d8576b"
             ],
             [
              0.6666666666666666,
              "#ed7953"
             ],
             [
              0.7777777777777778,
              "#fb9f3a"
             ],
             [
              0.8888888888888888,
              "#fdca26"
             ],
             [
              1,
              "#f0f921"
             ]
            ],
            "type": "heatmapgl"
           }
          ],
          "histogram": [
           {
            "marker": {
             "pattern": {
              "fillmode": "overlay",
              "size": 10,
              "solidity": 0.2
             }
            },
            "type": "histogram"
           }
          ],
          "histogram2d": [
           {
            "colorbar": {
             "outlinewidth": 0,
             "ticks": ""
            },
            "colorscale": [
             [
              0,
              "#0d0887"
             ],
             [
              0.1111111111111111,
              "#46039f"
             ],
             [
              0.2222222222222222,
              "#7201a8"
             ],
             [
              0.3333333333333333,
              "#9c179e"
             ],
             [
              0.4444444444444444,
              "#bd3786"
             ],
             [
              0.5555555555555556,
              "#d8576b"
             ],
             [
              0.6666666666666666,
              "#ed7953"
             ],
             [
              0.7777777777777778,
              "#fb9f3a"
             ],
             [
              0.8888888888888888,
              "#fdca26"
             ],
             [
              1,
              "#f0f921"
             ]
            ],
            "type": "histogram2d"
           }
          ],
          "histogram2dcontour": [
           {
            "colorbar": {
             "outlinewidth": 0,
             "ticks": ""
            },
            "colorscale": [
             [
              0,
              "#0d0887"
             ],
             [
              0.1111111111111111,
              "#46039f"
             ],
             [
              0.2222222222222222,
              "#7201a8"
             ],
             [
              0.3333333333333333,
              "#9c179e"
             ],
             [
              0.4444444444444444,
              "#bd3786"
             ],
             [
              0.5555555555555556,
              "#d8576b"
             ],
             [
              0.6666666666666666,
              "#ed7953"
             ],
             [
              0.7777777777777778,
              "#fb9f3a"
             ],
             [
              0.8888888888888888,
              "#fdca26"
             ],
             [
              1,
              "#f0f921"
             ]
            ],
            "type": "histogram2dcontour"
           }
          ],
          "mesh3d": [
           {
            "colorbar": {
             "outlinewidth": 0,
             "ticks": ""
            },
            "type": "mesh3d"
           }
          ],
          "parcoords": [
           {
            "line": {
             "colorbar": {
              "outlinewidth": 0,
              "ticks": ""
             }
            },
            "type": "parcoords"
           }
          ],
          "pie": [
           {
            "automargin": true,
            "type": "pie"
           }
          ],
          "scatter": [
           {
            "fillpattern": {
             "fillmode": "overlay",
             "size": 10,
             "solidity": 0.2
            },
            "type": "scatter"
           }
          ],
          "scatter3d": [
           {
            "line": {
             "colorbar": {
              "outlinewidth": 0,
              "ticks": ""
             }
            },
            "marker": {
             "colorbar": {
              "outlinewidth": 0,
              "ticks": ""
             }
            },
            "type": "scatter3d"
           }
          ],
          "scattercarpet": [
           {
            "marker": {
             "colorbar": {
              "outlinewidth": 0,
              "ticks": ""
             }
            },
            "type": "scattercarpet"
           }
          ],
          "scattergeo": [
           {
            "marker": {
             "colorbar": {
              "outlinewidth": 0,
              "ticks": ""
             }
            },
            "type": "scattergeo"
           }
          ],
          "scattergl": [
           {
            "marker": {
             "colorbar": {
              "outlinewidth": 0,
              "ticks": ""
             }
            },
            "type": "scattergl"
           }
          ],
          "scattermapbox": [
           {
            "marker": {
             "colorbar": {
              "outlinewidth": 0,
              "ticks": ""
             }
            },
            "type": "scattermapbox"
           }
          ],
          "scatterpolar": [
           {
            "marker": {
             "colorbar": {
              "outlinewidth": 0,
              "ticks": ""
             }
            },
            "type": "scatterpolar"
           }
          ],
          "scatterpolargl": [
           {
            "marker": {
             "colorbar": {
              "outlinewidth": 0,
              "ticks": ""
             }
            },
            "type": "scatterpolargl"
           }
          ],
          "scatterternary": [
           {
            "marker": {
             "colorbar": {
              "outlinewidth": 0,
              "ticks": ""
             }
            },
            "type": "scatterternary"
           }
          ],
          "surface": [
           {
            "colorbar": {
             "outlinewidth": 0,
             "ticks": ""
            },
            "colorscale": [
             [
              0,
              "#0d0887"
             ],
             [
              0.1111111111111111,
              "#46039f"
             ],
             [
              0.2222222222222222,
              "#7201a8"
             ],
             [
              0.3333333333333333,
              "#9c179e"
             ],
             [
              0.4444444444444444,
              "#bd3786"
             ],
             [
              0.5555555555555556,
              "#d8576b"
             ],
             [
              0.6666666666666666,
              "#ed7953"
             ],
             [
              0.7777777777777778,
              "#fb9f3a"
             ],
             [
              0.8888888888888888,
              "#fdca26"
             ],
             [
              1,
              "#f0f921"
             ]
            ],
            "type": "surface"
           }
          ],
          "table": [
           {
            "cells": {
             "fill": {
              "color": "#EBF0F8"
             },
             "line": {
              "color": "white"
             }
            },
            "header": {
             "fill": {
              "color": "#C8D4E3"
             },
             "line": {
              "color": "white"
             }
            },
            "type": "table"
           }
          ]
         },
         "layout": {
          "annotationdefaults": {
           "arrowcolor": "#2a3f5f",
           "arrowhead": 0,
           "arrowwidth": 1
          },
          "autotypenumbers": "strict",
          "coloraxis": {
           "colorbar": {
            "outlinewidth": 0,
            "ticks": ""
           }
          },
          "colorscale": {
           "diverging": [
            [
             0,
             "#8e0152"
            ],
            [
             0.1,
             "#c51b7d"
            ],
            [
             0.2,
             "#de77ae"
            ],
            [
             0.3,
             "#f1b6da"
            ],
            [
             0.4,
             "#fde0ef"
            ],
            [
             0.5,
             "#f7f7f7"
            ],
            [
             0.6,
             "#e6f5d0"
            ],
            [
             0.7,
             "#b8e186"
            ],
            [
             0.8,
             "#7fbc41"
            ],
            [
             0.9,
             "#4d9221"
            ],
            [
             1,
             "#276419"
            ]
           ],
           "sequential": [
            [
             0,
             "#0d0887"
            ],
            [
             0.1111111111111111,
             "#46039f"
            ],
            [
             0.2222222222222222,
             "#7201a8"
            ],
            [
             0.3333333333333333,
             "#9c179e"
            ],
            [
             0.4444444444444444,
             "#bd3786"
            ],
            [
             0.5555555555555556,
             "#d8576b"
            ],
            [
             0.6666666666666666,
             "#ed7953"
            ],
            [
             0.7777777777777778,
             "#fb9f3a"
            ],
            [
             0.8888888888888888,
             "#fdca26"
            ],
            [
             1,
             "#f0f921"
            ]
           ],
           "sequentialminus": [
            [
             0,
             "#0d0887"
            ],
            [
             0.1111111111111111,
             "#46039f"
            ],
            [
             0.2222222222222222,
             "#7201a8"
            ],
            [
             0.3333333333333333,
             "#9c179e"
            ],
            [
             0.4444444444444444,
             "#bd3786"
            ],
            [
             0.5555555555555556,
             "#d8576b"
            ],
            [
             0.6666666666666666,
             "#ed7953"
            ],
            [
             0.7777777777777778,
             "#fb9f3a"
            ],
            [
             0.8888888888888888,
             "#fdca26"
            ],
            [
             1,
             "#f0f921"
            ]
           ]
          },
          "colorway": [
           "#636efa",
           "#EF553B",
           "#00cc96",
           "#ab63fa",
           "#FFA15A",
           "#19d3f3",
           "#FF6692",
           "#B6E880",
           "#FF97FF",
           "#FECB52"
          ],
          "font": {
           "color": "#2a3f5f"
          },
          "geo": {
           "bgcolor": "white",
           "lakecolor": "white",
           "landcolor": "#E5ECF6",
           "showlakes": true,
           "showland": true,
           "subunitcolor": "white"
          },
          "hoverlabel": {
           "align": "left"
          },
          "hovermode": "closest",
          "mapbox": {
           "style": "light"
          },
          "paper_bgcolor": "white",
          "plot_bgcolor": "#E5ECF6",
          "polar": {
           "angularaxis": {
            "gridcolor": "white",
            "linecolor": "white",
            "ticks": ""
           },
           "bgcolor": "#E5ECF6",
           "radialaxis": {
            "gridcolor": "white",
            "linecolor": "white",
            "ticks": ""
           }
          },
          "scene": {
           "xaxis": {
            "backgroundcolor": "#E5ECF6",
            "gridcolor": "white",
            "gridwidth": 2,
            "linecolor": "white",
            "showbackground": true,
            "ticks": "",
            "zerolinecolor": "white"
           },
           "yaxis": {
            "backgroundcolor": "#E5ECF6",
            "gridcolor": "white",
            "gridwidth": 2,
            "linecolor": "white",
            "showbackground": true,
            "ticks": "",
            "zerolinecolor": "white"
           },
           "zaxis": {
            "backgroundcolor": "#E5ECF6",
            "gridcolor": "white",
            "gridwidth": 2,
            "linecolor": "white",
            "showbackground": true,
            "ticks": "",
            "zerolinecolor": "white"
           }
          },
          "shapedefaults": {
           "line": {
            "color": "#2a3f5f"
           }
          },
          "ternary": {
           "aaxis": {
            "gridcolor": "white",
            "linecolor": "white",
            "ticks": ""
           },
           "baxis": {
            "gridcolor": "white",
            "linecolor": "white",
            "ticks": ""
           },
           "bgcolor": "#E5ECF6",
           "caxis": {
            "gridcolor": "white",
            "linecolor": "white",
            "ticks": ""
           }
          },
          "title": {
           "x": 0.05
          },
          "xaxis": {
           "automargin": true,
           "gridcolor": "white",
           "linecolor": "white",
           "ticks": "",
           "title": {
            "standoff": 15
           },
           "zerolinecolor": "white",
           "zerolinewidth": 2
          },
          "yaxis": {
           "automargin": true,
           "gridcolor": "white",
           "linecolor": "white",
           "ticks": "",
           "title": {
            "standoff": 15
           },
           "zerolinecolor": "white",
           "zerolinewidth": 2
          }
         }
        },
        "title": {
         "font": {
          "color": "black",
          "family": "Raleway",
          "size": 20
         },
         "text": "",
         "x": 0.5,
         "xanchor": "center",
         "y": 0.99,
         "yanchor": "top"
        }
       }
      }
     },
     "metadata": {},
     "output_type": "display_data"
    }
   ],
   "source": [
    "# Plot map with links\n",
    "\n",
    "data = px.scatter_geo(df, \n",
    "    lat='lat', lon='lon',\n",
    "    text='id',\n",
    "    color=\"family\",\n",
    "    color_discrete_sequence=px.colors.qualitative.Prism,\n",
    "    opacity = opacity,\n",
    "    size=\"size\",\n",
    "    # size_max=max_marker_size,\n",
    "    hover_name=\"id\", \n",
    "    hover_data={'url':False, 'species':True, 'family':True, 'region of origin':True, 'Arabic':True, 'Ar transliteration':True, 'Chinese':True, 'pinyin':True, 'spreadability':':.2f', 'lon':False, 'lat':False, 'size':False},\n",
    "    # labels={\"group\": \"category\"},\n",
    "    )\n",
    "\n",
    "fig = data\n",
    "fig.update_traces(ne_traces)\n",
    "fig.update_layout(ne_layout)\n",
    "fig.show()\n",
    "\n",
    "# Get HTML representation of plotly.js and this figure\n",
    "plot_div = plot(fig, output_type='div', include_plotlyjs=True)\n",
    "\n",
    "# Get id of html div element that looks like\n",
    "# <div id=\"301d22ab-bfba-4621-8f5d-dc4fd855bb33\" ... >\n",
    "res = re.search('<div id=\"([^\"]*)\"', plot_div)\n",
    "div_id = res.groups()[0]\n",
    "\n",
    "# Build JavaScript callback for handling clicks\n",
    "# and opening the URL in the trace's customdata \n",
    "js_callback = \"\"\"\n",
    "<script>\n",
    "var plot_element = document.getElementById(\"{div_id}\");\n",
    "plot_element.on('plotly_click', function(data){{\n",
    "    console.log(data);\n",
    "    var point = data.points[0];\n",
    "    if (point) {{\n",
    "        console.log(point.customdata[0]);\n",
    "        window.open(point.customdata[0]);\n",
    "    }}\n",
    "}})\n",
    "</script>\n",
    "\"\"\".format(div_id=div_id)\n",
    "\n",
    "# Build HTML string\n",
    "html_str = \"\"\"\n",
    "<html>\n",
    "<body>\n",
    "{plot_div}\n",
    "{js_callback}\n",
    "</body>\n",
    "</html>\n",
    "\"\"\".format(plot_div=plot_div, js_callback=js_callback)\n",
    "\n",
    "# # Write\n",
    "filename = \"test\"\n",
    "with open(filename + \"_hyperlinks.html\", 'w') as f:\n",
    "    f.write(html_str)\n",
    "fig.write_html(filename + \".html\")\n",
    "fig.write_json(filename + \".json\", validate=True, pretty=True)\n",
    "fig.write_image(filename + \".pdf\", engine=\"kaleido\")\n",
    "fig.write_image(filename + \".png\", scale=3)\n"
   ]
  },
  {
   "cell_type": "code",
   "execution_count": 8,
   "metadata": {},
   "outputs": [],
   "source": [
    "# Read back html and write it as json\n",
    "\n",
    "def html_to_json(filename):\n",
    "    with open(filename+'.html') as f:\n",
    "        html = f.read()\n",
    "    call_arg_str = re.findall(r'Plotly\\.newPlot\\((.*)\\)', html[-2**16:])[0]\n",
    "    call_args = json.loads(f'[{call_arg_str}]')\n",
    "    plotly_json = {'data': call_args[1], 'layout': call_args[2]}  \n",
    "    figure=plotly.io.from_json(json.dumps(plotly_json))\n",
    "    figure.write_json(filename + \".json\", validate=True, pretty=True)\n",
    "    return\n",
    "\n",
    "html_to_json('test_hyperlinks')"
   ]
  },
  {
   "cell_type": "code",
   "execution_count": 9,
   "metadata": {},
   "outputs": [],
   "source": [
    "# # Code to write, read, and re-read plotly figures from html and json\n",
    "# import json\n",
    "# import re\n",
    "# import plotly.express\n",
    "\n",
    "# def write():\n",
    "#     fig = plotly.express.bar(y=[0, 1, 1, 2, 3, 5, 8, 13, 21, 34])\n",
    "#     fig.write_html('plot.html', full_html=True)\n",
    "#     fig.write_json('plot.json')\n",
    "\n",
    "# def read_from_json():\n",
    "#     return plotly.io.read_json('plot.json')\n",
    "\n",
    "# def read_from_html():\n",
    "#     with open('test_hyperlinks.html') as f:\n",
    "#         html = f.read()\n",
    "#     call_arg_str = re.findall(r'Plotly\\.newPlot\\((.*)\\)', html[-2**16:])[0]\n",
    "#     call_args = json.loads(f'[{call_arg_str}]')\n",
    "#     plotly_json = {'data': call_args[1], 'layout': call_args[2]}  \n",
    "#     return plotly.io.from_json(json.dumps(plotly_json))\n",
    "\n",
    "# if __name__ == '__main__':\n",
    "#     write()\n",
    "#     read_from_json()\n",
    "#     read_from_html()"
   ]
  },
  {
   "cell_type": "code",
   "execution_count": null,
   "metadata": {},
   "outputs": [],
   "source": []
  }
 ],
 "metadata": {
  "kernelspec": {
   "display_name": "base",
   "language": "python",
   "name": "python3"
  },
  "language_info": {
   "codemirror_mode": {
    "name": "ipython",
    "version": 3
   },
   "file_extension": ".py",
   "mimetype": "text/x-python",
   "name": "python",
   "nbconvert_exporter": "python",
   "pygments_lexer": "ipython3",
   "version": "3.9.13"
  },
  "orig_nbformat": 4,
  "vscode": {
   "interpreter": {
    "hash": "18c4d285bf73f8d33795481156cb8e20c5329867a6af52097d4f49f8abbf9900"
   }
  }
 },
 "nbformat": 4,
 "nbformat_minor": 2
}
