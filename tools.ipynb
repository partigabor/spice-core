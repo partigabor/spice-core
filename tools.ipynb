{
  "cells": [
    {
      "cell_type": "markdown",
      "metadata": {},
      "source": [
        "# Tools"
      ]
    },
    {
      "cell_type": "code",
      "execution_count": null,
      "metadata": {},
      "outputs": [],
      "source": [
        "# import matplotlib.pyplot as plt\n",
        "# import networkx as nx\n",
        "# import pydot\n",
        "# from networkx.drawing.nx_pydot import graphviz_layout\n",
        "\n",
        "# T = nx.balanced_tree(2, 5)\n",
        "\n",
        "# for line in nx.generate_adjlist(T):\n",
        "#     print(line)\n",
        "\n",
        "# pos = graphviz_layout(T, prog=\"dot\")\n",
        "# nx.draw(T, pos, node_color=\"y\", edge_color='#909090', node_size=200, with_labels=True)\n",
        "\n",
        "# plt.show()"
      ]
    },
    {
      "attachments": {},
      "cell_type": "markdown",
      "metadata": {},
      "source": [
        "## Trees"
      ]
    },
    {
      "cell_type": "code",
      "execution_count": 8,
      "metadata": {},
      "outputs": [],
      "source": [
        "import igraph\n",
        "from igraph import Graph, EdgeSeq\n",
        "nr_vertices = 25\n",
        "v_label = list(map(str, range(nr_vertices)))\n",
        "G = Graph.Tree(nr_vertices, 2) # 2 stands for children number\n",
        "lay = G.layout('rt')\n",
        "\n",
        "position = {k: lay[k] for k in range(nr_vertices)}\n",
        "Y = [lay[k][1] for k in range(nr_vertices)]\n",
        "M = max(Y)\n",
        "\n",
        "es = EdgeSeq(G) # sequence of edges\n",
        "E = [e.tuple for e in G.es] # list of edges\n",
        "\n",
        "L = len(position)\n",
        "Xn = [position[k][0] for k in range(L)]\n",
        "Yn = [2*M-position[k][1] for k in range(L)]\n",
        "Xe = []\n",
        "Ye = []\n",
        "for edge in E:\n",
        "    Xe+=[position[edge[0]][0],position[edge[1]][0], None]\n",
        "    Ye+=[2*M-position[edge[0]][1],2*M-position[edge[1]][1], None]\n",
        "\n",
        "labels = v_label"
      ]
    },
    {
      "cell_type": "code",
      "execution_count": 20,
      "metadata": {},
      "outputs": [
        {
          "data": {
            "application/vnd.plotly.v1+json": {
              "config": {
                "plotlyServerURL": "https://plot.ly"
              },
              "data": [
                {
                  "hoverinfo": "none",
                  "line": {
                    "color": "rgb(210,210,210)",
                    "width": 1
                  },
                  "mode": "lines",
                  "type": "scatter",
                  "x": [
                    -0.5,
                    -0.5,
                    null,
                    -0.5,
                    -0.5,
                    null,
                    -0.5,
                    -0.5,
                    null,
                    -0.5,
                    -0.5,
                    null,
                    -0.5,
                    -0.5,
                    null,
                    -0.5,
                    -0.5,
                    null,
                    -0.5,
                    0,
                    null,
                    0,
                    0.5,
                    null,
                    0.5,
                    0.5,
                    null
                  ],
                  "y": [
                    7,
                    8,
                    null,
                    8,
                    9,
                    null,
                    9,
                    10,
                    null,
                    10,
                    11,
                    null,
                    11,
                    12,
                    null,
                    12,
                    13,
                    null,
                    13,
                    14,
                    null,
                    14,
                    13,
                    null,
                    13,
                    12,
                    null
                  ]
                },
                {
                  "hoverinfo": "text",
                  "marker": {
                    "color": "#6175c1",
                    "line": {
                      "color": "rgb(50,50,50)",
                      "width": 1
                    },
                    "size": 18,
                    "symbol": "circle-dot"
                  },
                  "mode": "markers",
                  "name": "bla",
                  "opacity": 0.8,
                  "text": [
                    "0",
                    "1",
                    "2",
                    "3",
                    "4",
                    "5",
                    "6",
                    "7",
                    "8",
                    "9"
                  ],
                  "type": "scatter",
                  "x": [
                    -0.5,
                    -0.5,
                    -0.5,
                    -0.5,
                    -0.5,
                    -0.5,
                    -0.5,
                    0,
                    0.5,
                    0.5
                  ],
                  "y": [
                    7,
                    8,
                    9,
                    10,
                    11,
                    12,
                    13,
                    14,
                    13,
                    12
                  ]
                }
              ],
              "layout": {
                "template": {
                  "data": {
                    "bar": [
                      {
                        "error_x": {
                          "color": "#2a3f5f"
                        },
                        "error_y": {
                          "color": "#2a3f5f"
                        },
                        "marker": {
                          "line": {
                            "color": "#E5ECF6",
                            "width": 0.5
                          },
                          "pattern": {
                            "fillmode": "overlay",
                            "size": 10,
                            "solidity": 0.2
                          }
                        },
                        "type": "bar"
                      }
                    ],
                    "barpolar": [
                      {
                        "marker": {
                          "line": {
                            "color": "#E5ECF6",
                            "width": 0.5
                          },
                          "pattern": {
                            "fillmode": "overlay",
                            "size": 10,
                            "solidity": 0.2
                          }
                        },
                        "type": "barpolar"
                      }
                    ],
                    "carpet": [
                      {
                        "aaxis": {
                          "endlinecolor": "#2a3f5f",
                          "gridcolor": "white",
                          "linecolor": "white",
                          "minorgridcolor": "white",
                          "startlinecolor": "#2a3f5f"
                        },
                        "baxis": {
                          "endlinecolor": "#2a3f5f",
                          "gridcolor": "white",
                          "linecolor": "white",
                          "minorgridcolor": "white",
                          "startlinecolor": "#2a3f5f"
                        },
                        "type": "carpet"
                      }
                    ],
                    "choropleth": [
                      {
                        "colorbar": {
                          "outlinewidth": 0,
                          "ticks": ""
                        },
                        "type": "choropleth"
                      }
                    ],
                    "contour": [
                      {
                        "colorbar": {
                          "outlinewidth": 0,
                          "ticks": ""
                        },
                        "colorscale": [
                          [
                            0,
                            "#0d0887"
                          ],
                          [
                            0.1111111111111111,
                            "#46039f"
                          ],
                          [
                            0.2222222222222222,
                            "#7201a8"
                          ],
                          [
                            0.3333333333333333,
                            "#9c179e"
                          ],
                          [
                            0.4444444444444444,
                            "#bd3786"
                          ],
                          [
                            0.5555555555555556,
                            "#d8576b"
                          ],
                          [
                            0.6666666666666666,
                            "#ed7953"
                          ],
                          [
                            0.7777777777777778,
                            "#fb9f3a"
                          ],
                          [
                            0.8888888888888888,
                            "#fdca26"
                          ],
                          [
                            1,
                            "#f0f921"
                          ]
                        ],
                        "type": "contour"
                      }
                    ],
                    "contourcarpet": [
                      {
                        "colorbar": {
                          "outlinewidth": 0,
                          "ticks": ""
                        },
                        "type": "contourcarpet"
                      }
                    ],
                    "heatmap": [
                      {
                        "colorbar": {
                          "outlinewidth": 0,
                          "ticks": ""
                        },
                        "colorscale": [
                          [
                            0,
                            "#0d0887"
                          ],
                          [
                            0.1111111111111111,
                            "#46039f"
                          ],
                          [
                            0.2222222222222222,
                            "#7201a8"
                          ],
                          [
                            0.3333333333333333,
                            "#9c179e"
                          ],
                          [
                            0.4444444444444444,
                            "#bd3786"
                          ],
                          [
                            0.5555555555555556,
                            "#d8576b"
                          ],
                          [
                            0.6666666666666666,
                            "#ed7953"
                          ],
                          [
                            0.7777777777777778,
                            "#fb9f3a"
                          ],
                          [
                            0.8888888888888888,
                            "#fdca26"
                          ],
                          [
                            1,
                            "#f0f921"
                          ]
                        ],
                        "type": "heatmap"
                      }
                    ],
                    "heatmapgl": [
                      {
                        "colorbar": {
                          "outlinewidth": 0,
                          "ticks": ""
                        },
                        "colorscale": [
                          [
                            0,
                            "#0d0887"
                          ],
                          [
                            0.1111111111111111,
                            "#46039f"
                          ],
                          [
                            0.2222222222222222,
                            "#7201a8"
                          ],
                          [
                            0.3333333333333333,
                            "#9c179e"
                          ],
                          [
                            0.4444444444444444,
                            "#bd3786"
                          ],
                          [
                            0.5555555555555556,
                            "#d8576b"
                          ],
                          [
                            0.6666666666666666,
                            "#ed7953"
                          ],
                          [
                            0.7777777777777778,
                            "#fb9f3a"
                          ],
                          [
                            0.8888888888888888,
                            "#fdca26"
                          ],
                          [
                            1,
                            "#f0f921"
                          ]
                        ],
                        "type": "heatmapgl"
                      }
                    ],
                    "histogram": [
                      {
                        "marker": {
                          "pattern": {
                            "fillmode": "overlay",
                            "size": 10,
                            "solidity": 0.2
                          }
                        },
                        "type": "histogram"
                      }
                    ],
                    "histogram2d": [
                      {
                        "colorbar": {
                          "outlinewidth": 0,
                          "ticks": ""
                        },
                        "colorscale": [
                          [
                            0,
                            "#0d0887"
                          ],
                          [
                            0.1111111111111111,
                            "#46039f"
                          ],
                          [
                            0.2222222222222222,
                            "#7201a8"
                          ],
                          [
                            0.3333333333333333,
                            "#9c179e"
                          ],
                          [
                            0.4444444444444444,
                            "#bd3786"
                          ],
                          [
                            0.5555555555555556,
                            "#d8576b"
                          ],
                          [
                            0.6666666666666666,
                            "#ed7953"
                          ],
                          [
                            0.7777777777777778,
                            "#fb9f3a"
                          ],
                          [
                            0.8888888888888888,
                            "#fdca26"
                          ],
                          [
                            1,
                            "#f0f921"
                          ]
                        ],
                        "type": "histogram2d"
                      }
                    ],
                    "histogram2dcontour": [
                      {
                        "colorbar": {
                          "outlinewidth": 0,
                          "ticks": ""
                        },
                        "colorscale": [
                          [
                            0,
                            "#0d0887"
                          ],
                          [
                            0.1111111111111111,
                            "#46039f"
                          ],
                          [
                            0.2222222222222222,
                            "#7201a8"
                          ],
                          [
                            0.3333333333333333,
                            "#9c179e"
                          ],
                          [
                            0.4444444444444444,
                            "#bd3786"
                          ],
                          [
                            0.5555555555555556,
                            "#d8576b"
                          ],
                          [
                            0.6666666666666666,
                            "#ed7953"
                          ],
                          [
                            0.7777777777777778,
                            "#fb9f3a"
                          ],
                          [
                            0.8888888888888888,
                            "#fdca26"
                          ],
                          [
                            1,
                            "#f0f921"
                          ]
                        ],
                        "type": "histogram2dcontour"
                      }
                    ],
                    "mesh3d": [
                      {
                        "colorbar": {
                          "outlinewidth": 0,
                          "ticks": ""
                        },
                        "type": "mesh3d"
                      }
                    ],
                    "parcoords": [
                      {
                        "line": {
                          "colorbar": {
                            "outlinewidth": 0,
                            "ticks": ""
                          }
                        },
                        "type": "parcoords"
                      }
                    ],
                    "pie": [
                      {
                        "automargin": true,
                        "type": "pie"
                      }
                    ],
                    "scatter": [
                      {
                        "fillpattern": {
                          "fillmode": "overlay",
                          "size": 10,
                          "solidity": 0.2
                        },
                        "type": "scatter"
                      }
                    ],
                    "scatter3d": [
                      {
                        "line": {
                          "colorbar": {
                            "outlinewidth": 0,
                            "ticks": ""
                          }
                        },
                        "marker": {
                          "colorbar": {
                            "outlinewidth": 0,
                            "ticks": ""
                          }
                        },
                        "type": "scatter3d"
                      }
                    ],
                    "scattercarpet": [
                      {
                        "marker": {
                          "colorbar": {
                            "outlinewidth": 0,
                            "ticks": ""
                          }
                        },
                        "type": "scattercarpet"
                      }
                    ],
                    "scattergeo": [
                      {
                        "marker": {
                          "colorbar": {
                            "outlinewidth": 0,
                            "ticks": ""
                          }
                        },
                        "type": "scattergeo"
                      }
                    ],
                    "scattergl": [
                      {
                        "marker": {
                          "colorbar": {
                            "outlinewidth": 0,
                            "ticks": ""
                          }
                        },
                        "type": "scattergl"
                      }
                    ],
                    "scattermapbox": [
                      {
                        "marker": {
                          "colorbar": {
                            "outlinewidth": 0,
                            "ticks": ""
                          }
                        },
                        "type": "scattermapbox"
                      }
                    ],
                    "scatterpolar": [
                      {
                        "marker": {
                          "colorbar": {
                            "outlinewidth": 0,
                            "ticks": ""
                          }
                        },
                        "type": "scatterpolar"
                      }
                    ],
                    "scatterpolargl": [
                      {
                        "marker": {
                          "colorbar": {
                            "outlinewidth": 0,
                            "ticks": ""
                          }
                        },
                        "type": "scatterpolargl"
                      }
                    ],
                    "scatterternary": [
                      {
                        "marker": {
                          "colorbar": {
                            "outlinewidth": 0,
                            "ticks": ""
                          }
                        },
                        "type": "scatterternary"
                      }
                    ],
                    "surface": [
                      {
                        "colorbar": {
                          "outlinewidth": 0,
                          "ticks": ""
                        },
                        "colorscale": [
                          [
                            0,
                            "#0d0887"
                          ],
                          [
                            0.1111111111111111,
                            "#46039f"
                          ],
                          [
                            0.2222222222222222,
                            "#7201a8"
                          ],
                          [
                            0.3333333333333333,
                            "#9c179e"
                          ],
                          [
                            0.4444444444444444,
                            "#bd3786"
                          ],
                          [
                            0.5555555555555556,
                            "#d8576b"
                          ],
                          [
                            0.6666666666666666,
                            "#ed7953"
                          ],
                          [
                            0.7777777777777778,
                            "#fb9f3a"
                          ],
                          [
                            0.8888888888888888,
                            "#fdca26"
                          ],
                          [
                            1,
                            "#f0f921"
                          ]
                        ],
                        "type": "surface"
                      }
                    ],
                    "table": [
                      {
                        "cells": {
                          "fill": {
                            "color": "#EBF0F8"
                          },
                          "line": {
                            "color": "white"
                          }
                        },
                        "header": {
                          "fill": {
                            "color": "#C8D4E3"
                          },
                          "line": {
                            "color": "white"
                          }
                        },
                        "type": "table"
                      }
                    ]
                  },
                  "layout": {
                    "annotationdefaults": {
                      "arrowcolor": "#2a3f5f",
                      "arrowhead": 0,
                      "arrowwidth": 1
                    },
                    "autotypenumbers": "strict",
                    "coloraxis": {
                      "colorbar": {
                        "outlinewidth": 0,
                        "ticks": ""
                      }
                    },
                    "colorscale": {
                      "diverging": [
                        [
                          0,
                          "#8e0152"
                        ],
                        [
                          0.1,
                          "#c51b7d"
                        ],
                        [
                          0.2,
                          "#de77ae"
                        ],
                        [
                          0.3,
                          "#f1b6da"
                        ],
                        [
                          0.4,
                          "#fde0ef"
                        ],
                        [
                          0.5,
                          "#f7f7f7"
                        ],
                        [
                          0.6,
                          "#e6f5d0"
                        ],
                        [
                          0.7,
                          "#b8e186"
                        ],
                        [
                          0.8,
                          "#7fbc41"
                        ],
                        [
                          0.9,
                          "#4d9221"
                        ],
                        [
                          1,
                          "#276419"
                        ]
                      ],
                      "sequential": [
                        [
                          0,
                          "#0d0887"
                        ],
                        [
                          0.1111111111111111,
                          "#46039f"
                        ],
                        [
                          0.2222222222222222,
                          "#7201a8"
                        ],
                        [
                          0.3333333333333333,
                          "#9c179e"
                        ],
                        [
                          0.4444444444444444,
                          "#bd3786"
                        ],
                        [
                          0.5555555555555556,
                          "#d8576b"
                        ],
                        [
                          0.6666666666666666,
                          "#ed7953"
                        ],
                        [
                          0.7777777777777778,
                          "#fb9f3a"
                        ],
                        [
                          0.8888888888888888,
                          "#fdca26"
                        ],
                        [
                          1,
                          "#f0f921"
                        ]
                      ],
                      "sequentialminus": [
                        [
                          0,
                          "#0d0887"
                        ],
                        [
                          0.1111111111111111,
                          "#46039f"
                        ],
                        [
                          0.2222222222222222,
                          "#7201a8"
                        ],
                        [
                          0.3333333333333333,
                          "#9c179e"
                        ],
                        [
                          0.4444444444444444,
                          "#bd3786"
                        ],
                        [
                          0.5555555555555556,
                          "#d8576b"
                        ],
                        [
                          0.6666666666666666,
                          "#ed7953"
                        ],
                        [
                          0.7777777777777778,
                          "#fb9f3a"
                        ],
                        [
                          0.8888888888888888,
                          "#fdca26"
                        ],
                        [
                          1,
                          "#f0f921"
                        ]
                      ]
                    },
                    "colorway": [
                      "#636efa",
                      "#EF553B",
                      "#00cc96",
                      "#ab63fa",
                      "#FFA15A",
                      "#19d3f3",
                      "#FF6692",
                      "#B6E880",
                      "#FF97FF",
                      "#FECB52"
                    ],
                    "font": {
                      "color": "#2a3f5f"
                    },
                    "geo": {
                      "bgcolor": "white",
                      "lakecolor": "white",
                      "landcolor": "#E5ECF6",
                      "showlakes": true,
                      "showland": true,
                      "subunitcolor": "white"
                    },
                    "hoverlabel": {
                      "align": "left"
                    },
                    "hovermode": "closest",
                    "mapbox": {
                      "style": "light"
                    },
                    "paper_bgcolor": "white",
                    "plot_bgcolor": "#E5ECF6",
                    "polar": {
                      "angularaxis": {
                        "gridcolor": "white",
                        "linecolor": "white",
                        "ticks": ""
                      },
                      "bgcolor": "#E5ECF6",
                      "radialaxis": {
                        "gridcolor": "white",
                        "linecolor": "white",
                        "ticks": ""
                      }
                    },
                    "scene": {
                      "xaxis": {
                        "backgroundcolor": "#E5ECF6",
                        "gridcolor": "white",
                        "gridwidth": 2,
                        "linecolor": "white",
                        "showbackground": true,
                        "ticks": "",
                        "zerolinecolor": "white"
                      },
                      "yaxis": {
                        "backgroundcolor": "#E5ECF6",
                        "gridcolor": "white",
                        "gridwidth": 2,
                        "linecolor": "white",
                        "showbackground": true,
                        "ticks": "",
                        "zerolinecolor": "white"
                      },
                      "zaxis": {
                        "backgroundcolor": "#E5ECF6",
                        "gridcolor": "white",
                        "gridwidth": 2,
                        "linecolor": "white",
                        "showbackground": true,
                        "ticks": "",
                        "zerolinecolor": "white"
                      }
                    },
                    "shapedefaults": {
                      "line": {
                        "color": "#2a3f5f"
                      }
                    },
                    "ternary": {
                      "aaxis": {
                        "gridcolor": "white",
                        "linecolor": "white",
                        "ticks": ""
                      },
                      "baxis": {
                        "gridcolor": "white",
                        "linecolor": "white",
                        "ticks": ""
                      },
                      "bgcolor": "#E5ECF6",
                      "caxis": {
                        "gridcolor": "white",
                        "linecolor": "white",
                        "ticks": ""
                      }
                    },
                    "title": {
                      "x": 0.05
                    },
                    "xaxis": {
                      "automargin": true,
                      "gridcolor": "white",
                      "linecolor": "white",
                      "ticks": "",
                      "title": {
                        "standoff": 15
                      },
                      "zerolinecolor": "white",
                      "zerolinewidth": 2
                    },
                    "yaxis": {
                      "automargin": true,
                      "gridcolor": "white",
                      "linecolor": "white",
                      "ticks": "",
                      "title": {
                        "standoff": 15
                      },
                      "zerolinecolor": "white",
                      "zerolinewidth": 2
                    }
                  }
                }
              }
            }
          },
          "metadata": {},
          "output_type": "display_data"
        }
      ],
      "source": [
        "import plotly.graph_objects as go\n",
        "fig = go.Figure()\n",
        "fig.add_trace(go.Scatter(x=Xe,\n",
        "                   y=Ye,\n",
        "                   mode='lines',\n",
        "                   line=dict(color='rgb(210,210,210)', width=1),\n",
        "                   hoverinfo='none'\n",
        "                   ))\n",
        "fig.add_trace(go.Scatter(x=Xn,\n",
        "                  y=Yn,\n",
        "                  mode='markers',\n",
        "                  name='bla',\n",
        "                  marker=dict(symbol='circle-dot',\n",
        "                                size=18,\n",
        "                                color='#6175c1',    #'#DB4551',\n",
        "                                line=dict(color='rgb(50,50,50)', width=1)\n",
        "                                ),\n",
        "                  text=labels,\n",
        "                  hoverinfo='text',\n",
        "                  opacity=0.8\n",
        "                  ))"
      ]
    },
    {
      "cell_type": "code",
      "execution_count": 15,
      "metadata": {},
      "outputs": [],
      "source": [
        "def make_annotations(pos, text, font_size=10, font_color='rgb(250,250,250)'):\n",
        "    L=len(pos)\n",
        "    if len(text)!=L:\n",
        "        raise ValueError('The lists pos and text must have the same len')\n",
        "    annotations = []\n",
        "    for k in range(L):\n",
        "        annotations.append(\n",
        "            dict(\n",
        "                text=labels[k], # or replace labels with a different list for the text within the circle\n",
        "                x=pos[k][0], y=2*M-position[k][1],\n",
        "                xref='x1', yref='y1',\n",
        "                font=dict(color=font_color, size=font_size),\n",
        "                showarrow=False)\n",
        "        )\n",
        "    return annotations"
      ]
    },
    {
      "cell_type": "code",
      "execution_count": 16,
      "metadata": {},
      "outputs": [
        {
          "data": {
            "application/vnd.plotly.v1+json": {
              "config": {
                "plotlyServerURL": "https://plot.ly"
              },
              "data": [
                {
                  "hoverinfo": "none",
                  "line": {
                    "color": "rgb(210,210,210)",
                    "width": 1
                  },
                  "mode": "lines",
                  "type": "scatter",
                  "x": [
                    -3.333333333333333,
                    0,
                    null,
                    -3.333333333333333,
                    -3.333333333333333,
                    null,
                    0,
                    0.16666666666666696,
                    null,
                    0,
                    3.166666666666667,
                    null,
                    -3.333333333333333,
                    -4.333333333333333,
                    null,
                    -3.333333333333333,
                    -2.333333333333333,
                    null,
                    0.16666666666666696,
                    -0.833333333333333,
                    null,
                    0.16666666666666696,
                    1.166666666666667,
                    null,
                    3.166666666666667,
                    2.666666666666667,
                    null,
                    3.166666666666667,
                    3.666666666666667,
                    null,
                    -4.333333333333333,
                    -4.833333333333333,
                    null,
                    -4.333333333333333,
                    -3.833333333333333,
                    null,
                    -2.333333333333333,
                    -2.833333333333333,
                    null,
                    -2.333333333333333,
                    -1.833333333333333,
                    null,
                    -0.833333333333333,
                    -1.333333333333333,
                    null,
                    -0.833333333333333,
                    -0.33333333333333304,
                    null,
                    1.166666666666667,
                    0.666666666666667,
                    null,
                    1.166666666666667,
                    1.666666666666667,
                    null,
                    2.666666666666667,
                    2.666666666666667,
                    null
                  ],
                  "y": [
                    7,
                    8,
                    null,
                    7,
                    6,
                    null,
                    8,
                    7,
                    null,
                    8,
                    7,
                    null,
                    6,
                    5,
                    null,
                    6,
                    5,
                    null,
                    7,
                    6,
                    null,
                    7,
                    6,
                    null,
                    7,
                    6,
                    null,
                    7,
                    6,
                    null,
                    5,
                    4,
                    null,
                    5,
                    4,
                    null,
                    5,
                    4,
                    null,
                    5,
                    4,
                    null,
                    6,
                    5,
                    null,
                    6,
                    5,
                    null,
                    6,
                    5,
                    null,
                    6,
                    5,
                    null,
                    6,
                    5,
                    null
                  ]
                },
                {
                  "hoverinfo": "text",
                  "marker": {
                    "color": "#6175c1",
                    "line": {
                      "color": "rgb(50,50,50)",
                      "width": 1
                    },
                    "size": 18,
                    "symbol": "circle-dot"
                  },
                  "mode": "markers",
                  "name": "bla",
                  "opacity": 0.8,
                  "text": [
                    "0",
                    "1",
                    "2",
                    "3",
                    "4",
                    "5",
                    "6",
                    "7",
                    "8",
                    "9",
                    "10",
                    "11",
                    "12",
                    "13",
                    "14",
                    "15",
                    "16",
                    "17",
                    "18",
                    "19"
                  ],
                  "type": "scatter",
                  "x": [
                    -3.333333333333333,
                    0,
                    -3.333333333333333,
                    0.16666666666666696,
                    3.166666666666667,
                    -4.333333333333333,
                    -2.333333333333333,
                    -0.833333333333333,
                    1.166666666666667,
                    2.666666666666667,
                    3.666666666666667,
                    -4.833333333333333,
                    -3.833333333333333,
                    -2.833333333333333,
                    -1.833333333333333,
                    -1.333333333333333,
                    -0.33333333333333304,
                    0.666666666666667,
                    1.666666666666667,
                    2.666666666666667
                  ],
                  "y": [
                    7,
                    8,
                    6,
                    7,
                    7,
                    5,
                    5,
                    6,
                    6,
                    6,
                    6,
                    4,
                    4,
                    4,
                    4,
                    5,
                    5,
                    5,
                    5,
                    5
                  ]
                }
              ],
              "layout": {
                "annotations": [
                  {
                    "font": {
                      "color": "rgb(250,250,250)",
                      "size": 10
                    },
                    "showarrow": false,
                    "text": "0",
                    "x": -3.333333333333333,
                    "xref": "x",
                    "y": 7,
                    "yref": "y"
                  },
                  {
                    "font": {
                      "color": "rgb(250,250,250)",
                      "size": 10
                    },
                    "showarrow": false,
                    "text": "1",
                    "x": 0,
                    "xref": "x",
                    "y": 8,
                    "yref": "y"
                  },
                  {
                    "font": {
                      "color": "rgb(250,250,250)",
                      "size": 10
                    },
                    "showarrow": false,
                    "text": "2",
                    "x": -3.333333333333333,
                    "xref": "x",
                    "y": 6,
                    "yref": "y"
                  },
                  {
                    "font": {
                      "color": "rgb(250,250,250)",
                      "size": 10
                    },
                    "showarrow": false,
                    "text": "3",
                    "x": 0.16666666666666696,
                    "xref": "x",
                    "y": 7,
                    "yref": "y"
                  },
                  {
                    "font": {
                      "color": "rgb(250,250,250)",
                      "size": 10
                    },
                    "showarrow": false,
                    "text": "4",
                    "x": 3.166666666666667,
                    "xref": "x",
                    "y": 7,
                    "yref": "y"
                  },
                  {
                    "font": {
                      "color": "rgb(250,250,250)",
                      "size": 10
                    },
                    "showarrow": false,
                    "text": "5",
                    "x": -4.333333333333333,
                    "xref": "x",
                    "y": 5,
                    "yref": "y"
                  },
                  {
                    "font": {
                      "color": "rgb(250,250,250)",
                      "size": 10
                    },
                    "showarrow": false,
                    "text": "6",
                    "x": -2.333333333333333,
                    "xref": "x",
                    "y": 5,
                    "yref": "y"
                  },
                  {
                    "font": {
                      "color": "rgb(250,250,250)",
                      "size": 10
                    },
                    "showarrow": false,
                    "text": "7",
                    "x": -0.833333333333333,
                    "xref": "x",
                    "y": 6,
                    "yref": "y"
                  },
                  {
                    "font": {
                      "color": "rgb(250,250,250)",
                      "size": 10
                    },
                    "showarrow": false,
                    "text": "8",
                    "x": 1.166666666666667,
                    "xref": "x",
                    "y": 6,
                    "yref": "y"
                  },
                  {
                    "font": {
                      "color": "rgb(250,250,250)",
                      "size": 10
                    },
                    "showarrow": false,
                    "text": "9",
                    "x": 2.666666666666667,
                    "xref": "x",
                    "y": 6,
                    "yref": "y"
                  },
                  {
                    "font": {
                      "color": "rgb(250,250,250)",
                      "size": 10
                    },
                    "showarrow": false,
                    "text": "10",
                    "x": 3.666666666666667,
                    "xref": "x",
                    "y": 6,
                    "yref": "y"
                  },
                  {
                    "font": {
                      "color": "rgb(250,250,250)",
                      "size": 10
                    },
                    "showarrow": false,
                    "text": "11",
                    "x": -4.833333333333333,
                    "xref": "x",
                    "y": 4,
                    "yref": "y"
                  },
                  {
                    "font": {
                      "color": "rgb(250,250,250)",
                      "size": 10
                    },
                    "showarrow": false,
                    "text": "12",
                    "x": -3.833333333333333,
                    "xref": "x",
                    "y": 4,
                    "yref": "y"
                  },
                  {
                    "font": {
                      "color": "rgb(250,250,250)",
                      "size": 10
                    },
                    "showarrow": false,
                    "text": "13",
                    "x": -2.833333333333333,
                    "xref": "x",
                    "y": 4,
                    "yref": "y"
                  },
                  {
                    "font": {
                      "color": "rgb(250,250,250)",
                      "size": 10
                    },
                    "showarrow": false,
                    "text": "14",
                    "x": -1.833333333333333,
                    "xref": "x",
                    "y": 4,
                    "yref": "y"
                  },
                  {
                    "font": {
                      "color": "rgb(250,250,250)",
                      "size": 10
                    },
                    "showarrow": false,
                    "text": "15",
                    "x": -1.333333333333333,
                    "xref": "x",
                    "y": 5,
                    "yref": "y"
                  },
                  {
                    "font": {
                      "color": "rgb(250,250,250)",
                      "size": 10
                    },
                    "showarrow": false,
                    "text": "16",
                    "x": -0.33333333333333304,
                    "xref": "x",
                    "y": 5,
                    "yref": "y"
                  },
                  {
                    "font": {
                      "color": "rgb(250,250,250)",
                      "size": 10
                    },
                    "showarrow": false,
                    "text": "17",
                    "x": 0.666666666666667,
                    "xref": "x",
                    "y": 5,
                    "yref": "y"
                  },
                  {
                    "font": {
                      "color": "rgb(250,250,250)",
                      "size": 10
                    },
                    "showarrow": false,
                    "text": "18",
                    "x": 1.666666666666667,
                    "xref": "x",
                    "y": 5,
                    "yref": "y"
                  },
                  {
                    "font": {
                      "color": "rgb(250,250,250)",
                      "size": 10
                    },
                    "showarrow": false,
                    "text": "19",
                    "x": 2.666666666666667,
                    "xref": "x",
                    "y": 5,
                    "yref": "y"
                  }
                ],
                "font": {
                  "size": 12
                },
                "hovermode": "closest",
                "margin": {
                  "b": 85,
                  "l": 40,
                  "r": 40,
                  "t": 100
                },
                "plot_bgcolor": "rgb(248,248,248)",
                "showlegend": false,
                "template": {
                  "data": {
                    "bar": [
                      {
                        "error_x": {
                          "color": "#2a3f5f"
                        },
                        "error_y": {
                          "color": "#2a3f5f"
                        },
                        "marker": {
                          "line": {
                            "color": "#E5ECF6",
                            "width": 0.5
                          },
                          "pattern": {
                            "fillmode": "overlay",
                            "size": 10,
                            "solidity": 0.2
                          }
                        },
                        "type": "bar"
                      }
                    ],
                    "barpolar": [
                      {
                        "marker": {
                          "line": {
                            "color": "#E5ECF6",
                            "width": 0.5
                          },
                          "pattern": {
                            "fillmode": "overlay",
                            "size": 10,
                            "solidity": 0.2
                          }
                        },
                        "type": "barpolar"
                      }
                    ],
                    "carpet": [
                      {
                        "aaxis": {
                          "endlinecolor": "#2a3f5f",
                          "gridcolor": "white",
                          "linecolor": "white",
                          "minorgridcolor": "white",
                          "startlinecolor": "#2a3f5f"
                        },
                        "baxis": {
                          "endlinecolor": "#2a3f5f",
                          "gridcolor": "white",
                          "linecolor": "white",
                          "minorgridcolor": "white",
                          "startlinecolor": "#2a3f5f"
                        },
                        "type": "carpet"
                      }
                    ],
                    "choropleth": [
                      {
                        "colorbar": {
                          "outlinewidth": 0,
                          "ticks": ""
                        },
                        "type": "choropleth"
                      }
                    ],
                    "contour": [
                      {
                        "colorbar": {
                          "outlinewidth": 0,
                          "ticks": ""
                        },
                        "colorscale": [
                          [
                            0,
                            "#0d0887"
                          ],
                          [
                            0.1111111111111111,
                            "#46039f"
                          ],
                          [
                            0.2222222222222222,
                            "#7201a8"
                          ],
                          [
                            0.3333333333333333,
                            "#9c179e"
                          ],
                          [
                            0.4444444444444444,
                            "#bd3786"
                          ],
                          [
                            0.5555555555555556,
                            "#d8576b"
                          ],
                          [
                            0.6666666666666666,
                            "#ed7953"
                          ],
                          [
                            0.7777777777777778,
                            "#fb9f3a"
                          ],
                          [
                            0.8888888888888888,
                            "#fdca26"
                          ],
                          [
                            1,
                            "#f0f921"
                          ]
                        ],
                        "type": "contour"
                      }
                    ],
                    "contourcarpet": [
                      {
                        "colorbar": {
                          "outlinewidth": 0,
                          "ticks": ""
                        },
                        "type": "contourcarpet"
                      }
                    ],
                    "heatmap": [
                      {
                        "colorbar": {
                          "outlinewidth": 0,
                          "ticks": ""
                        },
                        "colorscale": [
                          [
                            0,
                            "#0d0887"
                          ],
                          [
                            0.1111111111111111,
                            "#46039f"
                          ],
                          [
                            0.2222222222222222,
                            "#7201a8"
                          ],
                          [
                            0.3333333333333333,
                            "#9c179e"
                          ],
                          [
                            0.4444444444444444,
                            "#bd3786"
                          ],
                          [
                            0.5555555555555556,
                            "#d8576b"
                          ],
                          [
                            0.6666666666666666,
                            "#ed7953"
                          ],
                          [
                            0.7777777777777778,
                            "#fb9f3a"
                          ],
                          [
                            0.8888888888888888,
                            "#fdca26"
                          ],
                          [
                            1,
                            "#f0f921"
                          ]
                        ],
                        "type": "heatmap"
                      }
                    ],
                    "heatmapgl": [
                      {
                        "colorbar": {
                          "outlinewidth": 0,
                          "ticks": ""
                        },
                        "colorscale": [
                          [
                            0,
                            "#0d0887"
                          ],
                          [
                            0.1111111111111111,
                            "#46039f"
                          ],
                          [
                            0.2222222222222222,
                            "#7201a8"
                          ],
                          [
                            0.3333333333333333,
                            "#9c179e"
                          ],
                          [
                            0.4444444444444444,
                            "#bd3786"
                          ],
                          [
                            0.5555555555555556,
                            "#d8576b"
                          ],
                          [
                            0.6666666666666666,
                            "#ed7953"
                          ],
                          [
                            0.7777777777777778,
                            "#fb9f3a"
                          ],
                          [
                            0.8888888888888888,
                            "#fdca26"
                          ],
                          [
                            1,
                            "#f0f921"
                          ]
                        ],
                        "type": "heatmapgl"
                      }
                    ],
                    "histogram": [
                      {
                        "marker": {
                          "pattern": {
                            "fillmode": "overlay",
                            "size": 10,
                            "solidity": 0.2
                          }
                        },
                        "type": "histogram"
                      }
                    ],
                    "histogram2d": [
                      {
                        "colorbar": {
                          "outlinewidth": 0,
                          "ticks": ""
                        },
                        "colorscale": [
                          [
                            0,
                            "#0d0887"
                          ],
                          [
                            0.1111111111111111,
                            "#46039f"
                          ],
                          [
                            0.2222222222222222,
                            "#7201a8"
                          ],
                          [
                            0.3333333333333333,
                            "#9c179e"
                          ],
                          [
                            0.4444444444444444,
                            "#bd3786"
                          ],
                          [
                            0.5555555555555556,
                            "#d8576b"
                          ],
                          [
                            0.6666666666666666,
                            "#ed7953"
                          ],
                          [
                            0.7777777777777778,
                            "#fb9f3a"
                          ],
                          [
                            0.8888888888888888,
                            "#fdca26"
                          ],
                          [
                            1,
                            "#f0f921"
                          ]
                        ],
                        "type": "histogram2d"
                      }
                    ],
                    "histogram2dcontour": [
                      {
                        "colorbar": {
                          "outlinewidth": 0,
                          "ticks": ""
                        },
                        "colorscale": [
                          [
                            0,
                            "#0d0887"
                          ],
                          [
                            0.1111111111111111,
                            "#46039f"
                          ],
                          [
                            0.2222222222222222,
                            "#7201a8"
                          ],
                          [
                            0.3333333333333333,
                            "#9c179e"
                          ],
                          [
                            0.4444444444444444,
                            "#bd3786"
                          ],
                          [
                            0.5555555555555556,
                            "#d8576b"
                          ],
                          [
                            0.6666666666666666,
                            "#ed7953"
                          ],
                          [
                            0.7777777777777778,
                            "#fb9f3a"
                          ],
                          [
                            0.8888888888888888,
                            "#fdca26"
                          ],
                          [
                            1,
                            "#f0f921"
                          ]
                        ],
                        "type": "histogram2dcontour"
                      }
                    ],
                    "mesh3d": [
                      {
                        "colorbar": {
                          "outlinewidth": 0,
                          "ticks": ""
                        },
                        "type": "mesh3d"
                      }
                    ],
                    "parcoords": [
                      {
                        "line": {
                          "colorbar": {
                            "outlinewidth": 0,
                            "ticks": ""
                          }
                        },
                        "type": "parcoords"
                      }
                    ],
                    "pie": [
                      {
                        "automargin": true,
                        "type": "pie"
                      }
                    ],
                    "scatter": [
                      {
                        "fillpattern": {
                          "fillmode": "overlay",
                          "size": 10,
                          "solidity": 0.2
                        },
                        "type": "scatter"
                      }
                    ],
                    "scatter3d": [
                      {
                        "line": {
                          "colorbar": {
                            "outlinewidth": 0,
                            "ticks": ""
                          }
                        },
                        "marker": {
                          "colorbar": {
                            "outlinewidth": 0,
                            "ticks": ""
                          }
                        },
                        "type": "scatter3d"
                      }
                    ],
                    "scattercarpet": [
                      {
                        "marker": {
                          "colorbar": {
                            "outlinewidth": 0,
                            "ticks": ""
                          }
                        },
                        "type": "scattercarpet"
                      }
                    ],
                    "scattergeo": [
                      {
                        "marker": {
                          "colorbar": {
                            "outlinewidth": 0,
                            "ticks": ""
                          }
                        },
                        "type": "scattergeo"
                      }
                    ],
                    "scattergl": [
                      {
                        "marker": {
                          "colorbar": {
                            "outlinewidth": 0,
                            "ticks": ""
                          }
                        },
                        "type": "scattergl"
                      }
                    ],
                    "scattermapbox": [
                      {
                        "marker": {
                          "colorbar": {
                            "outlinewidth": 0,
                            "ticks": ""
                          }
                        },
                        "type": "scattermapbox"
                      }
                    ],
                    "scatterpolar": [
                      {
                        "marker": {
                          "colorbar": {
                            "outlinewidth": 0,
                            "ticks": ""
                          }
                        },
                        "type": "scatterpolar"
                      }
                    ],
                    "scatterpolargl": [
                      {
                        "marker": {
                          "colorbar": {
                            "outlinewidth": 0,
                            "ticks": ""
                          }
                        },
                        "type": "scatterpolargl"
                      }
                    ],
                    "scatterternary": [
                      {
                        "marker": {
                          "colorbar": {
                            "outlinewidth": 0,
                            "ticks": ""
                          }
                        },
                        "type": "scatterternary"
                      }
                    ],
                    "surface": [
                      {
                        "colorbar": {
                          "outlinewidth": 0,
                          "ticks": ""
                        },
                        "colorscale": [
                          [
                            0,
                            "#0d0887"
                          ],
                          [
                            0.1111111111111111,
                            "#46039f"
                          ],
                          [
                            0.2222222222222222,
                            "#7201a8"
                          ],
                          [
                            0.3333333333333333,
                            "#9c179e"
                          ],
                          [
                            0.4444444444444444,
                            "#bd3786"
                          ],
                          [
                            0.5555555555555556,
                            "#d8576b"
                          ],
                          [
                            0.6666666666666666,
                            "#ed7953"
                          ],
                          [
                            0.7777777777777778,
                            "#fb9f3a"
                          ],
                          [
                            0.8888888888888888,
                            "#fdca26"
                          ],
                          [
                            1,
                            "#f0f921"
                          ]
                        ],
                        "type": "surface"
                      }
                    ],
                    "table": [
                      {
                        "cells": {
                          "fill": {
                            "color": "#EBF0F8"
                          },
                          "line": {
                            "color": "white"
                          }
                        },
                        "header": {
                          "fill": {
                            "color": "#C8D4E3"
                          },
                          "line": {
                            "color": "white"
                          }
                        },
                        "type": "table"
                      }
                    ]
                  },
                  "layout": {
                    "annotationdefaults": {
                      "arrowcolor": "#2a3f5f",
                      "arrowhead": 0,
                      "arrowwidth": 1
                    },
                    "autotypenumbers": "strict",
                    "coloraxis": {
                      "colorbar": {
                        "outlinewidth": 0,
                        "ticks": ""
                      }
                    },
                    "colorscale": {
                      "diverging": [
                        [
                          0,
                          "#8e0152"
                        ],
                        [
                          0.1,
                          "#c51b7d"
                        ],
                        [
                          0.2,
                          "#de77ae"
                        ],
                        [
                          0.3,
                          "#f1b6da"
                        ],
                        [
                          0.4,
                          "#fde0ef"
                        ],
                        [
                          0.5,
                          "#f7f7f7"
                        ],
                        [
                          0.6,
                          "#e6f5d0"
                        ],
                        [
                          0.7,
                          "#b8e186"
                        ],
                        [
                          0.8,
                          "#7fbc41"
                        ],
                        [
                          0.9,
                          "#4d9221"
                        ],
                        [
                          1,
                          "#276419"
                        ]
                      ],
                      "sequential": [
                        [
                          0,
                          "#0d0887"
                        ],
                        [
                          0.1111111111111111,
                          "#46039f"
                        ],
                        [
                          0.2222222222222222,
                          "#7201a8"
                        ],
                        [
                          0.3333333333333333,
                          "#9c179e"
                        ],
                        [
                          0.4444444444444444,
                          "#bd3786"
                        ],
                        [
                          0.5555555555555556,
                          "#d8576b"
                        ],
                        [
                          0.6666666666666666,
                          "#ed7953"
                        ],
                        [
                          0.7777777777777778,
                          "#fb9f3a"
                        ],
                        [
                          0.8888888888888888,
                          "#fdca26"
                        ],
                        [
                          1,
                          "#f0f921"
                        ]
                      ],
                      "sequentialminus": [
                        [
                          0,
                          "#0d0887"
                        ],
                        [
                          0.1111111111111111,
                          "#46039f"
                        ],
                        [
                          0.2222222222222222,
                          "#7201a8"
                        ],
                        [
                          0.3333333333333333,
                          "#9c179e"
                        ],
                        [
                          0.4444444444444444,
                          "#bd3786"
                        ],
                        [
                          0.5555555555555556,
                          "#d8576b"
                        ],
                        [
                          0.6666666666666666,
                          "#ed7953"
                        ],
                        [
                          0.7777777777777778,
                          "#fb9f3a"
                        ],
                        [
                          0.8888888888888888,
                          "#fdca26"
                        ],
                        [
                          1,
                          "#f0f921"
                        ]
                      ]
                    },
                    "colorway": [
                      "#636efa",
                      "#EF553B",
                      "#00cc96",
                      "#ab63fa",
                      "#FFA15A",
                      "#19d3f3",
                      "#FF6692",
                      "#B6E880",
                      "#FF97FF",
                      "#FECB52"
                    ],
                    "font": {
                      "color": "#2a3f5f"
                    },
                    "geo": {
                      "bgcolor": "white",
                      "lakecolor": "white",
                      "landcolor": "#E5ECF6",
                      "showlakes": true,
                      "showland": true,
                      "subunitcolor": "white"
                    },
                    "hoverlabel": {
                      "align": "left"
                    },
                    "hovermode": "closest",
                    "mapbox": {
                      "style": "light"
                    },
                    "paper_bgcolor": "white",
                    "plot_bgcolor": "#E5ECF6",
                    "polar": {
                      "angularaxis": {
                        "gridcolor": "white",
                        "linecolor": "white",
                        "ticks": ""
                      },
                      "bgcolor": "#E5ECF6",
                      "radialaxis": {
                        "gridcolor": "white",
                        "linecolor": "white",
                        "ticks": ""
                      }
                    },
                    "scene": {
                      "xaxis": {
                        "backgroundcolor": "#E5ECF6",
                        "gridcolor": "white",
                        "gridwidth": 2,
                        "linecolor": "white",
                        "showbackground": true,
                        "ticks": "",
                        "zerolinecolor": "white"
                      },
                      "yaxis": {
                        "backgroundcolor": "#E5ECF6",
                        "gridcolor": "white",
                        "gridwidth": 2,
                        "linecolor": "white",
                        "showbackground": true,
                        "ticks": "",
                        "zerolinecolor": "white"
                      },
                      "zaxis": {
                        "backgroundcolor": "#E5ECF6",
                        "gridcolor": "white",
                        "gridwidth": 2,
                        "linecolor": "white",
                        "showbackground": true,
                        "ticks": "",
                        "zerolinecolor": "white"
                      }
                    },
                    "shapedefaults": {
                      "line": {
                        "color": "#2a3f5f"
                      }
                    },
                    "ternary": {
                      "aaxis": {
                        "gridcolor": "white",
                        "linecolor": "white",
                        "ticks": ""
                      },
                      "baxis": {
                        "gridcolor": "white",
                        "linecolor": "white",
                        "ticks": ""
                      },
                      "bgcolor": "#E5ECF6",
                      "caxis": {
                        "gridcolor": "white",
                        "linecolor": "white",
                        "ticks": ""
                      }
                    },
                    "title": {
                      "x": 0.05
                    },
                    "xaxis": {
                      "automargin": true,
                      "gridcolor": "white",
                      "linecolor": "white",
                      "ticks": "",
                      "title": {
                        "standoff": 15
                      },
                      "zerolinecolor": "white",
                      "zerolinewidth": 2
                    },
                    "yaxis": {
                      "automargin": true,
                      "gridcolor": "white",
                      "linecolor": "white",
                      "ticks": "",
                      "title": {
                        "standoff": 15
                      },
                      "zerolinecolor": "white",
                      "zerolinewidth": 2
                    }
                  }
                },
                "title": {
                  "text": "Tree with Reingold-Tilford Layout"
                },
                "xaxis": {
                  "showgrid": false,
                  "showline": false,
                  "showticklabels": false,
                  "zeroline": false
                },
                "yaxis": {
                  "showgrid": false,
                  "showline": false,
                  "showticklabels": false,
                  "zeroline": false
                }
              }
            }
          },
          "metadata": {},
          "output_type": "display_data"
        }
      ],
      "source": [
        "axis = dict(showline=False, # hide axis line, grid, ticklabels and  title\n",
        "            zeroline=False,\n",
        "            showgrid=False,\n",
        "            showticklabels=False,\n",
        "            )\n",
        "\n",
        "fig.update_layout(title= 'Tree with Reingold-Tilford Layout',\n",
        "              annotations=make_annotations(position, v_label),\n",
        "              font_size=12,\n",
        "              showlegend=False,\n",
        "              xaxis=axis,\n",
        "              yaxis=axis,\n",
        "              margin=dict(l=40, r=40, b=85, t=100),\n",
        "              hovermode='closest',\n",
        "              plot_bgcolor='rgb(248,248,248)'\n",
        "              )\n",
        "fig.show()"
      ]
    },
    {
      "cell_type": "code",
      "execution_count": 12,
      "metadata": {},
      "outputs": [
        {
          "name": "stdout",
          "output_type": "stream",
          "text": [
            "Dash is running on http://127.0.0.1:8050/\n",
            "\n",
            "Dash is running on http://127.0.0.1:8050/\n",
            "\n",
            "Dash is running on http://127.0.0.1:8050/\n",
            "\n",
            " * Serving Flask app \"__main__\" (lazy loading)\n",
            " * Environment: production\n",
            "   WARNING: This is a development server. Do not use it in a production deployment.\n",
            "   Use a production WSGI server instead.\n",
            " * Debug mode: on\n"
          ]
        }
      ],
      "source": [
        "# import plotly.graph_objects as go # or plotly.express as px\n",
        "# # fig = go.Figure() # or any Plotly Express function e.g. px.bar(...)\n",
        "# # fig.add_trace( ... )\n",
        "# # fig.update_layout( ... )\n",
        "\n",
        "# import dash\n",
        "# from dash import dcc, html\n",
        "\n",
        "# app = dash.Dash()\n",
        "# app.layout = html.Div([\n",
        "#     dcc.Graph(figure=fig)\n",
        "# ])\n",
        "\n",
        "# app.run_server(debug=True, use_reloader=False)  # Turn off reloader if inside Jupyter"
      ]
    },
    {
      "attachments": {},
      "cell_type": "markdown",
      "metadata": {},
      "source": [
        "## Read in from a txt"
      ]
    },
    {
      "cell_type": "code",
      "execution_count": 1,
      "metadata": {},
      "outputs": [],
      "source": [
        "import pandas as pd\n",
        "import regex as re\n",
        "import numpy as np\n",
        "\n",
        "txt = open(\"data/dalby.txt\", \"r\", encoding = 'utf-8')\n",
        "lines = txt.readlines()\n",
        "txt.close()\n",
        "\n",
        "# Remove /n at the end of each line\n",
        "for index, line in enumerate(lines):\n",
        "    lines[index] = line.strip()\n",
        "\n",
        "df = pd.DataFrame(columns=('one', 'two'))\n",
        "i = 0  \n",
        "one = \"\" \n",
        "two = \"\"  \n",
        "for line in lines:\n",
        "        # define what are the values in columns, e.g. two colum is extracted from line:\n",
        "        two = re.sub(r\"\", \"\", line)\n",
        "        # next line data\n",
        "        df.loc[i] = [one, two]\n",
        "        i =i+1\n",
        "\n",
        "# # Replace empty cell with NaN\n",
        "# df['two'].replace('', np.nan, inplace=True)\n",
        "\n",
        "# # Drop NAs\n",
        "# df.dropna(axis=0, inplace=True)\n",
        "\n",
        "# # Reset index\n",
        "# df.reset_index(drop=True, inplace=True)\n",
        "\n",
        "# # Drop column?\n",
        "# df.drop(['one'], axis=1, inplace=True)\n",
        "\n",
        "# Check if contains colon?\n",
        "df = df[df.two.str.contains(\":\", regex=True)]\n",
        "\n",
        "# Split columns along colons \n",
        "df = pd.DataFrame(df.two.str.split(':', 1).tolist(), columns = ['name','other'])\n",
        "\n",
        "\n",
        "df['comma'] = df['other'].str.findall(',.*').str.join(\"\")\n",
        "\n",
        "df['dot'] = df['comma'].str.findall('\\..*').str.join(\"\")\n",
        "\n",
        "df['other'] = [re.sub(',.*', \"\", str(x)) for x in df['other']]\n",
        "df['comma'] = [re.sub('^, ', \"\", str(x)) for x in df['comma']]\n",
        "\n",
        "df['comma'] = [re.sub('\\..*', \"\", str(x)) for x in df['comma']]\n",
        "df['dot'] = [re.sub('^\\. ', \"\", str(x)) for x in df['dot']]\n",
        "\n",
        "df.head(60)\n",
        "df.to_csv('data/dalby.csv')"
      ]
    },
    {
      "cell_type": "code",
      "execution_count": 2,
      "metadata": {},
      "outputs": [
        {
          "name": "stdout",
          "output_type": "stream",
          "text": [
            "['adatelemzés', 'alászállása', 'alátétlemez', 'alkalmazása', 'alkatrészek', 'állateledel', 'álszemérmes', 'áremelkedés', 'átkeresztel', 'csekkszámla', 'csekkszámla', 'cselekedete', 'cselekedtél', 'felszerelés', 'darázsderék', 'ékszerekkel', 'ékszerezett', 'elcserélték', 'elkártyázza', 'elkeseredés', 'elmarasztal', 'elméleteket', 'elrekesztés', 'elreteszelt', 'emlékezések', 'emlékezetem', 'emlékezetes', 'érdekszféra', 'értelmezett', 'érzelmekkel', 'ételmaradék', 'éteráramlás', 'falmélyedés', 'fedélzetére', 'fedélzettel', 'fekélyekkel', 'felakasztás', 'felcserélés', 'felékszerez', 'felélesztés', 'felfedezett', 'félreértesz', 'félreértett', 'felszakadás', 'felszállást', 'felszeletel', 'felszerelés', 'feltámadása', 'feltétellel', 'fémreszelék', 'kecskefélék', 'keréktárcsa', 'keresztáram', 'keresztelés', 'keresztezés', 'keresztszél', 'késleltetés', 'készletezés', 'kétszeresét', 'kettészakad', 'lakáskérdés', 'lakatretesz', 'leeresztése', 'leeresztett', 'leértékelés', 'lefektetett', 'lelkesedést', 'lemaradását', 'lemészárlás', 'leszállásra', 'leszármazás', 'letekercsel', 'mellékletek', 'mellkereszt', 'mérsékletes', 'mértékletes', 'mesterkedés', 'métermérték', 'rekeszekkel', 'részesedést', 'részleteket', 'részletekre', 'részletezés', 'selyemsálat', 'sérelmekért', 'sértésekkel', 'startrakéta', 'szakértelem', 'szalmakazal', 'számelmélet', 'századrésze', 'székrekedés', 'szélesztett', 'személyzete', 'szeméremrés', 'szemétrakás', 'szemléletes', 'szerelmemet', 'szerelmesek', 'szeretettel', 'szeretkezés', 'szerkesztés', 'szerkezetet', 'szertartást', 'szétszedése', 'támaszrésze', 'tatfedélzet', 'teáskészlet', 'tekercselés', 'természetes', 'tetraéderes', 'felszerelés', 'zaklatással', 'zsettfekete', 'mézeskalács']\n"
          ]
        }
      ],
      "source": [
        "import regex as re\n",
        "\n",
        "with open('freedict.txt') as f:\n",
        "    z = f.read()\n",
        "\n",
        "z = re.sub('\\n',' ',z)\n",
        "# z = 'hello welxtra xcra crax extra'\n",
        "eleven = re.findall(r'\\b[msőtcfdréálzyeakű][msőtcfdréálzyeakű][msőtcfdréálzyeakű][msőtcfdréálzyeakű][msőtcfdréálzyeakű][msőtcfdréálzyeakű][msőtcfdréálzyeakű][msőtcfdréálzyeakű][msőtcfdréálzyeakű][msőtcfdréálzyeakű][msőtcfdréálzyeakű]\\b', z)\n",
        "print(eleven)"
      ]
    },
    {
      "cell_type": "markdown",
      "metadata": {
        "id": "d76KJTMmHOcR"
      },
      "source": [
        "## Translator"
      ]
    },
    {
      "cell_type": "code",
      "execution_count": null,
      "metadata": {
        "colab": {
          "base_uri": "https://localhost:8080/"
        },
        "id": "eBV_DT8sM2Ls",
        "outputId": "fb216e2e-d005-4eb1-a438-520f6d666707"
      },
      "outputs": [
        {
          "name": "stdout",
          "output_type": "stream",
          "text": [
            "Looking in indexes: https://pypi.org/simple, https://us-python.pkg.dev/colab-wheels/public/simple/\n",
            "Collecting googletrans==3.1.0a0\n",
            "  Downloading googletrans-3.1.0a0.tar.gz (19 kB)\n",
            "Collecting httpx==0.13.3\n",
            "  Downloading httpx-0.13.3-py3-none-any.whl (55 kB)\n",
            "\u001b[K     |████████████████████████████████| 55 kB 2.5 MB/s \n",
            "\u001b[?25hCollecting hstspreload\n",
            "  Downloading hstspreload-2021.12.1-py3-none-any.whl (1.3 MB)\n",
            "\u001b[K     |████████████████████████████████| 1.3 MB 28.7 MB/s \n",
            "\u001b[?25hRequirement already satisfied: certifi in /usr/local/lib/python3.7/dist-packages (from httpx==0.13.3->googletrans==3.1.0a0) (2022.5.18.1)\n",
            "Requirement already satisfied: idna==2.* in /usr/local/lib/python3.7/dist-packages (from httpx==0.13.3->googletrans==3.1.0a0) (2.10)\n",
            "Collecting sniffio\n",
            "  Downloading sniffio-1.2.0-py3-none-any.whl (10 kB)\n",
            "Requirement already satisfied: chardet==3.* in /usr/local/lib/python3.7/dist-packages (from httpx==0.13.3->googletrans==3.1.0a0) (3.0.4)\n",
            "Collecting httpcore==0.9.*\n",
            "  Downloading httpcore-0.9.1-py3-none-any.whl (42 kB)\n",
            "\u001b[K     |████████████████████████████████| 42 kB 1.2 MB/s \n",
            "\u001b[?25hCollecting rfc3986<2,>=1.3\n",
            "  Downloading rfc3986-1.5.0-py2.py3-none-any.whl (31 kB)\n",
            "Collecting h11<0.10,>=0.8\n",
            "  Downloading h11-0.9.0-py2.py3-none-any.whl (53 kB)\n",
            "\u001b[K     |████████████████████████████████| 53 kB 2.2 MB/s \n",
            "\u001b[?25hCollecting h2==3.*\n",
            "  Downloading h2-3.2.0-py2.py3-none-any.whl (65 kB)\n",
            "\u001b[K     |████████████████████████████████| 65 kB 3.0 MB/s \n",
            "\u001b[?25hCollecting hyperframe<6,>=5.2.0\n",
            "  Downloading hyperframe-5.2.0-py2.py3-none-any.whl (12 kB)\n",
            "Collecting hpack<4,>=3.0\n",
            "  Downloading hpack-3.0.0-py2.py3-none-any.whl (38 kB)\n",
            "Building wheels for collected packages: googletrans\n",
            "  Building wheel for googletrans (setup.py) ... \u001b[?25l\u001b[?25hdone\n",
            "  Created wheel for googletrans: filename=googletrans-3.1.0a0-py3-none-any.whl size=16367 sha256=aa014acc41d64145ccf0cae9964d468cbea3546fadf5bafc687cbfe69845b0fb\n",
            "  Stored in directory: /root/.cache/pip/wheels/0c/be/fe/93a6a40ffe386e16089e44dad9018ebab9dc4cb9eb7eab65ae\n",
            "Successfully built googletrans\n",
            "Installing collected packages: hyperframe, hpack, sniffio, h2, h11, rfc3986, httpcore, hstspreload, httpx, googletrans\n",
            "Successfully installed googletrans-3.1.0a0 h11-0.9.0 h2-3.2.0 hpack-3.0.0 hstspreload-2021.12.1 httpcore-0.9.1 httpx-0.13.3 hyperframe-5.2.0 rfc3986-1.5.0 sniffio-1.2.0\n"
          ]
        }
      ],
      "source": [
        "# !pip install googletrans\n",
        "# !pip uninstall googletrans\n",
        "!pip install googletrans==3.1.0a0 #pip install googletrans==4.0.0rc1"
      ]
    },
    {
      "cell_type": "code",
      "execution_count": null,
      "metadata": {
        "id": "WGXK0hJdHQ6b"
      },
      "outputs": [],
      "source": [
        "import googletrans\n",
        "from googletrans import Translator, constants\n",
        "from pprint import pprint"
      ]
    },
    {
      "cell_type": "code",
      "execution_count": null,
      "metadata": {
        "id": "-9W8R_2XLy9V"
      },
      "outputs": [],
      "source": [
        "# init the Google API translator\n",
        "translator = Translator()"
      ]
    },
    {
      "cell_type": "code",
      "execution_count": null,
      "metadata": {
        "colab": {
          "base_uri": "https://localhost:8080/"
        },
        "id": "j6NNd4k-MoZ1",
        "outputId": "8f1527a9-1825-497a-e85e-bfbf96ada7f0"
      },
      "outputs": [
        {
          "name": "stdout",
          "output_type": "stream",
          "text": [
            "Hola Mundo (es) --> Hello World (en)\n"
          ]
        }
      ],
      "source": [
        "# translate a spanish text to english text (by default)\n",
        "translation = translator.translate(\"Hola Mundo\")\n",
        "print(f\"{translation.origin} ({translation.src}) --> {translation.text} ({translation.dest})\")"
      ]
    },
    {
      "cell_type": "code",
      "execution_count": null,
      "metadata": {
        "colab": {
          "base_uri": "https://localhost:8080/"
        },
        "id": "dh7QAD9hMtd9",
        "outputId": "c9c30cfa-8c04-4ffa-fc3b-6e78aabc6b61"
      },
      "outputs": [
        {
          "name": "stdout",
          "output_type": "stream",
          "text": [
            "Hola Mundo (es) --> مرحبا بالعالم (ar)\n"
          ]
        }
      ],
      "source": [
        "# translate a spanish text to arabic for instance\n",
        "translation = translator.translate(\"Hola Mundo\", dest=\"ar\")\n",
        "print(f\"{translation.origin} ({translation.src}) --> {translation.text} ({translation.dest})\")"
      ]
    },
    {
      "cell_type": "code",
      "execution_count": null,
      "metadata": {
        "colab": {
          "base_uri": "https://localhost:8080/"
        },
        "id": "8DNDRkHJNaCL",
        "outputId": "cfcc1c95-4be0-483e-d4c8-170430b8e484"
      },
      "outputs": [
        {
          "name": "stdout",
          "output_type": "stream",
          "text": [
            "Wie gehts ? (de) --> How's it going ? (en)\n"
          ]
        }
      ],
      "source": [
        "# specify source language\n",
        "translation = translator.translate(\"Wie gehts ?\", src=\"de\")\n",
        "print(f\"{translation.origin} ({translation.src}) --> {translation.text} ({translation.dest})\")"
      ]
    },
    {
      "cell_type": "code",
      "execution_count": null,
      "metadata": {
        "colab": {
          "base_uri": "https://localhost:8080/"
        },
        "id": "Tf7lbm14NeoP",
        "outputId": "0416c6d4-9cc5-4dd4-d431-bfc696087d38"
      },
      "outputs": [
        {
          "name": "stdout",
          "output_type": "stream",
          "text": [
            "{'all-translations': [['interjection',\n",
            "                       ['How are you doing?', \"What's up?\"],\n",
            "                       [['How are you doing?', [\"Wie geht's?\"]],\n",
            "                        [\"What's up?\", [\"Wie geht's?\"]]],\n",
            "                       \"Wie geht's?\",\n",
            "                       9]],\n",
            " 'confidence': 1,\n",
            " 'definitions': None,\n",
            " 'examples': None,\n",
            " 'language': [['de'], None, [1], ['de']],\n",
            " 'original-language': 'de',\n",
            " 'possible-mistakes': None,\n",
            " 'possible-translations': [['Wie gehts ?',\n",
            "                            None,\n",
            "                            [[\"How's it going ?\", 1000, True, False, [1]],\n",
            "                             ['How are you ?', 1000, True, False, [1]],\n",
            "                             ['How are you?', 0, True, False, [3], None, [[3]]],\n",
            "                             ['how are you', 0, True, False, [8]]],\n",
            "                            [[0, 11]],\n",
            "                            'Wie gehts ?',\n",
            "                            0,\n",
            "                            0]],\n",
            " 'see-also': None,\n",
            " 'synonyms': None,\n",
            " 'translation': [[\"How's it going ?\", 'Wie gehts ?', None, None, 1]]}\n"
          ]
        }
      ],
      "source": [
        "# print all translations and other data\n",
        "pprint(translation.extra_data)"
      ]
    },
    {
      "cell_type": "code",
      "execution_count": null,
      "metadata": {
        "colab": {
          "base_uri": "https://localhost:8080/"
        },
        "id": "LFO3oxdaNk6L",
        "outputId": "233968ea-48bf-4ad4-9e9a-506d90f4d706"
      },
      "outputs": [
        {
          "name": "stdout",
          "output_type": "stream",
          "text": [
            "Hello everyone (en) --> Herkese merhaba (tr)\n",
            "How are you ? (en) --> Nasılsınız ? (tr)\n",
            "Do you speak english ? (en) --> İngilizce biliyor musunuz ? (tr)\n",
            "Good bye! (en) --> Güle güle! (tr)\n"
          ]
        }
      ],
      "source": [
        "# translate more than a phrase\n",
        "sentences = [\n",
        "    \"Hello everyone\",\n",
        "    \"How are you ?\",\n",
        "    \"Do you speak english ?\",\n",
        "    \"Good bye!\"\n",
        "]\n",
        "translations = translator.translate(sentences, dest=\"tr\")\n",
        "for translation in translations:\n",
        "    print(f\"{translation.origin} ({translation.src}) --> {translation.text} ({translation.dest})\")"
      ]
    },
    {
      "cell_type": "code",
      "execution_count": null,
      "metadata": {
        "colab": {
          "base_uri": "https://localhost:8080/"
        },
        "id": "-gqX-zXSNryS",
        "outputId": "69810a0b-fb10-4482-b4f4-1d6a2700c67d"
      },
      "outputs": [
        {
          "name": "stdout",
          "output_type": "stream",
          "text": [
            "Language code: hi\n",
            "Confidence: 0.98368657\n"
          ]
        }
      ],
      "source": [
        "# detect a language\n",
        "detection = translator.detect(\"नमस्ते दुनिया\")\n",
        "print(\"Language code:\", detection.lang)\n",
        "print(\"Confidence:\", detection.confidence)"
      ]
    },
    {
      "cell_type": "code",
      "execution_count": null,
      "metadata": {
        "colab": {
          "base_uri": "https://localhost:8080/"
        },
        "id": "OoZpxl22NtlL",
        "outputId": "69f52e75-7bf5-4935-c799-80c377f35e76"
      },
      "outputs": [
        {
          "name": "stdout",
          "output_type": "stream",
          "text": [
            "Language: hindi\n"
          ]
        }
      ],
      "source": [
        "print(\"Language:\", constants.LANGUAGES[detection.lang])"
      ]
    },
    {
      "cell_type": "code",
      "execution_count": null,
      "metadata": {
        "colab": {
          "base_uri": "https://localhost:8080/"
        },
        "id": "fskD2YO5Nt0x",
        "outputId": "94f823d9-47bf-4b6d-efc4-f032bd0138fa"
      },
      "outputs": [
        {
          "name": "stdout",
          "output_type": "stream",
          "text": [
            "Total supported languages: 107\n",
            "Languages:\n",
            "{'af': 'afrikaans',\n",
            " 'am': 'amharic',\n",
            " 'ar': 'arabic',\n",
            " 'az': 'azerbaijani',\n",
            " 'be': 'belarusian',\n",
            " 'bg': 'bulgarian',\n",
            " 'bn': 'bengali',\n",
            " 'bs': 'bosnian',\n",
            " 'ca': 'catalan',\n",
            " 'ceb': 'cebuano',\n",
            " 'co': 'corsican',\n",
            " 'cs': 'czech',\n",
            " 'cy': 'welsh',\n",
            " 'da': 'danish',\n",
            " 'de': 'german',\n",
            " 'el': 'greek',\n",
            " 'en': 'english',\n",
            " 'eo': 'esperanto',\n",
            " 'es': 'spanish',\n",
            " 'et': 'estonian',\n",
            " 'eu': 'basque',\n",
            " 'fa': 'persian',\n",
            " 'fi': 'finnish',\n",
            " 'fr': 'french',\n",
            " 'fy': 'frisian',\n",
            " 'ga': 'irish',\n",
            " 'gd': 'scots gaelic',\n",
            " 'gl': 'galician',\n",
            " 'gu': 'gujarati',\n",
            " 'ha': 'hausa',\n",
            " 'haw': 'hawaiian',\n",
            " 'he': 'hebrew',\n",
            " 'hi': 'hindi',\n",
            " 'hmn': 'hmong',\n",
            " 'hr': 'croatian',\n",
            " 'ht': 'haitian creole',\n",
            " 'hu': 'hungarian',\n",
            " 'hy': 'armenian',\n",
            " 'id': 'indonesian',\n",
            " 'ig': 'igbo',\n",
            " 'is': 'icelandic',\n",
            " 'it': 'italian',\n",
            " 'iw': 'hebrew',\n",
            " 'ja': 'japanese',\n",
            " 'jw': 'javanese',\n",
            " 'ka': 'georgian',\n",
            " 'kk': 'kazakh',\n",
            " 'km': 'khmer',\n",
            " 'kn': 'kannada',\n",
            " 'ko': 'korean',\n",
            " 'ku': 'kurdish (kurmanji)',\n",
            " 'ky': 'kyrgyz',\n",
            " 'la': 'latin',\n",
            " 'lb': 'luxembourgish',\n",
            " 'lo': 'lao',\n",
            " 'lt': 'lithuanian',\n",
            " 'lv': 'latvian',\n",
            " 'mg': 'malagasy',\n",
            " 'mi': 'maori',\n",
            " 'mk': 'macedonian',\n",
            " 'ml': 'malayalam',\n",
            " 'mn': 'mongolian',\n",
            " 'mr': 'marathi',\n",
            " 'ms': 'malay',\n",
            " 'mt': 'maltese',\n",
            " 'my': 'myanmar (burmese)',\n",
            " 'ne': 'nepali',\n",
            " 'nl': 'dutch',\n",
            " 'no': 'norwegian',\n",
            " 'ny': 'chichewa',\n",
            " 'or': 'odia',\n",
            " 'pa': 'punjabi',\n",
            " 'pl': 'polish',\n",
            " 'ps': 'pashto',\n",
            " 'pt': 'portuguese',\n",
            " 'ro': 'romanian',\n",
            " 'ru': 'russian',\n",
            " 'sd': 'sindhi',\n",
            " 'si': 'sinhala',\n",
            " 'sk': 'slovak',\n",
            " 'sl': 'slovenian',\n",
            " 'sm': 'samoan',\n",
            " 'sn': 'shona',\n",
            " 'so': 'somali',\n",
            " 'sq': 'albanian',\n",
            " 'sr': 'serbian',\n",
            " 'st': 'sesotho',\n",
            " 'su': 'sundanese',\n",
            " 'sv': 'swedish',\n",
            " 'sw': 'swahili',\n",
            " 'ta': 'tamil',\n",
            " 'te': 'telugu',\n",
            " 'tg': 'tajik',\n",
            " 'th': 'thai',\n",
            " 'tl': 'filipino',\n",
            " 'tr': 'turkish',\n",
            " 'ug': 'uyghur',\n",
            " 'uk': 'ukrainian',\n",
            " 'ur': 'urdu',\n",
            " 'uz': 'uzbek',\n",
            " 'vi': 'vietnamese',\n",
            " 'xh': 'xhosa',\n",
            " 'yi': 'yiddish',\n",
            " 'yo': 'yoruba',\n",
            " 'zh-cn': 'chinese (simplified)',\n",
            " 'zh-tw': 'chinese (traditional)',\n",
            " 'zu': 'zulu'}\n"
          ]
        }
      ],
      "source": [
        "# print all available languages\n",
        "print(\"Total supported languages:\", len(constants.LANGUAGES))\n",
        "print(\"Languages:\")\n",
        "pprint(constants.LANGUAGES)"
      ]
    },
    {
      "cell_type": "code",
      "execution_count": null,
      "metadata": {
        "id": "n7rlvHTMN-in"
      },
      "outputs": [],
      "source": [
        "#END"
      ]
    },
    {
      "cell_type": "code",
      "execution_count": null,
      "metadata": {
        "colab": {
          "base_uri": "https://localhost:8080/"
        },
        "id": "UlEx4qQ0OOY0",
        "outputId": "e6c8e922-739e-4789-b0af-3d51465eeb93"
      },
      "outputs": [
        {
          "name": "stdout",
          "output_type": "stream",
          "text": [
            "hello.\n",
            "こんにちは。\n",
            "The truth is my light\n"
          ]
        }
      ],
      "source": [
        "from googletrans import Translator\n",
        "\n",
        "translator = Translator()\n",
        "\n",
        "translated_text = translator.translate('안녕하세요.')\n",
        "print(translated_text.text)\n",
        "\n",
        "translated_text = translator.translate('안녕하세요.', dest='ja')\n",
        "print(translated_text.text)\n",
        "\n",
        "translated_text = translator.translate('veritas lux mea', src='la')\n",
        "print(translated_text.text)"
      ]
    },
    {
      "cell_type": "code",
      "execution_count": null,
      "metadata": {
        "id": "U-e75vgbOOrW"
      },
      "outputs": [],
      "source": []
    },
    {
      "cell_type": "code",
      "execution_count": null,
      "metadata": {
        "id": "kyxHNoWWOwHN"
      },
      "outputs": [],
      "source": [
        "result = translator.translate('Mitä sinä teet')"
      ]
    },
    {
      "cell_type": "code",
      "execution_count": null,
      "metadata": {
        "colab": {
          "base_uri": "https://localhost:8080/"
        },
        "id": "ehWrsyqlOwkC",
        "outputId": "a35f2df7-e6ba-4868-aba9-505967e4a77b"
      },
      "outputs": [
        {
          "name": "stdout",
          "output_type": "stream",
          "text": [
            "fi\n",
            "en\n",
            "Mitä sinä teet\n",
            "What are you doing\n",
            "What are you doing\n"
          ]
        }
      ],
      "source": [
        "print(result.src)\n",
        "print(result.dest)\n",
        "print(result.origin)\n",
        "print(result.text)\n",
        "print(result.pronunciation)"
      ]
    },
    {
      "cell_type": "code",
      "execution_count": null,
      "metadata": {
        "colab": {
          "base_uri": "https://localhost:8080/",
          "height": 35
        },
        "id": "CGk4AVoyO3tw",
        "outputId": "379a319a-6e8b-4ead-d983-9a1044084034"
      },
      "outputs": [
        {
          "data": {
            "application/vnd.google.colaboratory.intrinsic+json": {
              "type": "string"
            },
            "text/plain": [
              "'What is your name'"
            ]
          },
          "metadata": {},
          "output_type": "display_data"
        }
      ],
      "source": [
        "result = translator.translate('Mikä on nimesi', src='fi')\n",
        "result.text"
      ]
    },
    {
      "cell_type": "code",
      "execution_count": null,
      "metadata": {
        "colab": {
          "base_uri": "https://localhost:8080/",
          "height": 35
        },
        "id": "4wdh_11lO0ts",
        "outputId": "75731962-152b-45ea-87a2-e538c59254c3"
      },
      "outputs": [
        {
          "data": {
            "application/vnd.google.colaboratory.intrinsic+json": {
              "type": "string"
            },
            "text/plain": [
              "'Quel est ton nom'"
            ]
          },
          "metadata": {},
          "output_type": "display_data"
        }
      ],
      "source": [
        "result = translator.translate('Mikä on nimesi', dest='fr')\n",
        "result.text"
      ]
    },
    {
      "cell_type": "code",
      "execution_count": null,
      "metadata": {
        "colab": {
          "base_uri": "https://localhost:8080/",
          "height": 35
        },
        "id": "951Wgzz6PF1W",
        "outputId": "1890d3bb-07b4-4e64-eef1-ab4943a04e31"
      },
      "outputs": [
        {
          "data": {
            "application/vnd.google.colaboratory.intrinsic+json": {
              "type": "string"
            },
            "text/plain": [
              "'Quel est ton nom'"
            ]
          },
          "metadata": {},
          "output_type": "display_data"
        }
      ],
      "source": [
        "result = translator.translate('Mikä on nimesi', src='fi', dest='fr')\n",
        "result.text"
      ]
    },
    {
      "cell_type": "code",
      "execution_count": null,
      "metadata": {
        "colab": {
          "base_uri": "https://localhost:8080/"
        },
        "id": "UjaFpuHdO5PV",
        "outputId": "5e19d2ae-f73b-42d9-cfeb-eef7f21e1e0a"
      },
      "outputs": [
        {
          "name": "stdout",
          "output_type": "stream",
          "text": [
            "fi\n",
            "fr\n",
            "Quel est ton nom\n"
          ]
        }
      ],
      "source": [
        "from googletrans import Translator\n",
        "\n",
        "translator = Translator()\n",
        "result = translator.translate('Mikä on nimesi', src='fi', dest='fr')\n",
        "\n",
        "print(result.src)\n",
        "print(result.dest)\n",
        "print(result.text)"
      ]
    },
    {
      "cell_type": "code",
      "execution_count": null,
      "metadata": {
        "colab": {
          "base_uri": "https://localhost:8080/"
        },
        "id": "vE_SscCsPNP2",
        "outputId": "d1f3fec7-1cf6-40f9-bd5d-cfed1c3bfe88"
      },
      "outputs": [
        {
          "name": "stdout",
          "output_type": "stream",
          "text": [
            "Bienvenu -> Karibu\n",
            "Comment allez-vous -> Habari yako\n",
            "je vais bien -> Niko sawa\n"
          ]
        }
      ],
      "source": [
        "sentences = ['Bienvenu', 'Comment allez-vous', 'je vais bien']\n",
        "\n",
        "result = translator.translate(sentences, src='fr', dest='sw')\n",
        "\n",
        "for trans in result:\n",
        "    print(f'{trans.origin} -> {trans.text}')"
      ]
    },
    {
      "cell_type": "code",
      "execution_count": null,
      "metadata": {
        "colab": {
          "base_uri": "https://localhost:8080/"
        },
        "id": "Nc8lfL6_POlV",
        "outputId": "ade1c743-c2ad-4604-8aec-84f6868d85c3"
      },
      "outputs": [
        {
          "name": "stdout",
          "output_type": "stream",
          "text": [
            "To those of us who interested in the spread of words, especially wanderwort and their underlying cultural, historical, and geo-political reasons, the map of tea might come to mind. This is a map that shows the journey of words for tea (either from Sinitic cha or Minnan te), and their distribution in a sample of the world's languages. The point of this map is that it clearly shows if the name for tea arrived by overland trade or via a sea route.\n",
            "Pour ceux d'entre nous qui s'intéressent à la propagation des mots, en particulier à l'erudaire et à leurs raisons culturelles, historiques et géopolitiques sous-jacentes, la carte du thé pourrait venir à l'esprit. Il s'agit d'une carte qui montre le parcours des mots pour le thé (soit du sinitique cha ou du minnan te), et leur distribution dans un échantillon de langues du monde. L'intérêt de cette carte est qu'elle indique clairement si le nom du thé est arrivé par voie terrestre ou par voie maritime.\n"
          ]
        }
      ],
      "source": [
        "f = open('/content/test_in.txt', 'r')\n",
        "if f.mode == 'r':\n",
        "  contents = f.read()\n",
        "print(contents)\n",
        "\n",
        "# file_translate = Translator()\n",
        "result = translator.translate(contents, dest='fr')\n",
        "print(result.text)\n",
        "\n",
        "with open('/content/test_out.txt', 'w') as f:\n",
        "    f.write(result.text)"
      ]
    },
    {
      "cell_type": "code",
      "execution_count": null,
      "metadata": {
        "id": "yM2ua3ozPn7a"
      },
      "outputs": [],
      "source": []
    },
    {
      "cell_type": "markdown",
      "metadata": {
        "id": "TbyRuOcEN-zd"
      },
      "source": [
        "https://stackabuse.com/text-translation-with-google-translate-api-in-python/\n",
        "\n",
        "https://www.thepythoncode.com/article/convert-text-to-speech-in-python\n",
        "\n",
        "https://medium.com/analytics-vidhya/how-to-translate-text-with-python-9d203139dcf5\n",
        "\n",
        "https://towardsdatascience.com/language-translation-using-python-bd8020772ccc"
      ]
    },
    {
      "cell_type": "markdown",
      "metadata": {
        "id": "hr-JExvnSvQG"
      },
      "source": [
        "{'af': 'afrikaans',\n",
        " 'am': 'amharic',\n",
        " 'ar': 'arabic',\n",
        " 'az': 'azerbaijani',\n",
        " 'be': 'belarusian',\n",
        " 'bg': 'bulgarian',\n",
        " 'bn': 'bengali',\n",
        " 'bs': 'bosnian',\n",
        " 'ca': 'catalan',\n",
        " 'ceb': 'cebuano',\n",
        " 'co': 'corsican',\n",
        " 'cs': 'czech',\n",
        " 'cy': 'welsh',\n",
        " 'da': 'danish',\n",
        " 'de': 'german',\n",
        " 'el': 'greek',\n",
        " 'en': 'english',\n",
        " 'eo': 'esperanto',\n",
        " 'es': 'spanish',\n",
        " 'et': 'estonian',\n",
        " 'eu': 'basque',\n",
        " 'fa': 'persian',\n",
        " 'fi': 'finnish',\n",
        " 'fr': 'french',\n",
        " 'fy': 'frisian',\n",
        " 'ga': 'irish',\n",
        " 'gd': 'scots gaelic',\n",
        " 'gl': 'galician',\n",
        " 'gu': 'gujarati',\n",
        " 'ha': 'hausa',\n",
        " 'haw': 'hawaiian',\n",
        " 'he': 'hebrew',\n",
        " 'hi': 'hindi',\n",
        " 'hmn': 'hmong',\n",
        " 'hr': 'croatian',\n",
        " 'ht': 'haitian creole',\n",
        " 'hu': 'hungarian',\n",
        " 'hy': 'armenian',\n",
        " 'id': 'indonesian',\n",
        " 'ig': 'igbo',\n",
        " 'is': 'icelandic',\n",
        " 'it': 'italian',\n",
        " 'iw': 'hebrew',\n",
        " 'ja': 'japanese',\n",
        " 'jw': 'javanese',\n",
        " 'ka': 'georgian',\n",
        " 'kk': 'kazakh',\n",
        " 'km': 'khmer',\n",
        " 'kn': 'kannada',\n",
        " 'ko': 'korean',\n",
        " 'ku': 'kurdish (kurmanji)',\n",
        " 'ky': 'kyrgyz',\n",
        " 'la': 'latin',\n",
        " 'lb': 'luxembourgish',\n",
        " 'lo': 'lao',\n",
        " 'lt': 'lithuanian',\n",
        " 'lv': 'latvian',\n",
        " 'mg': 'malagasy',\n",
        " 'mi': 'maori',\n",
        " 'mk': 'macedonian',\n",
        " 'ml': 'malayalam',\n",
        " 'mn': 'mongolian',\n",
        " 'mr': 'marathi',\n",
        " 'ms': 'malay',\n",
        " 'mt': 'maltese',\n",
        " 'my': 'myanmar (burmese)',\n",
        " 'ne': 'nepali',\n",
        " 'nl': 'dutch',\n",
        " 'no': 'norwegian',\n",
        " 'ny': 'chichewa',\n",
        " 'or': 'odia',\n",
        " 'pa': 'punjabi',\n",
        " 'pl': 'polish',\n",
        " 'ps': 'pashto',\n",
        " 'pt': 'portuguese',\n",
        " 'ro': 'romanian',\n",
        " 'ru': 'russian',\n",
        " 'sd': 'sindhi',\n",
        " 'si': 'sinhala',\n",
        " 'sk': 'slovak',\n",
        " 'sl': 'slovenian',\n",
        " 'sm': 'samoan',\n",
        " 'sn': 'shona',\n",
        " 'so': 'somali',\n",
        " 'sq': 'albanian',\n",
        " 'sr': 'serbian',\n",
        " 'st': 'sesotho',\n",
        " 'su': 'sundanese',\n",
        " 'sv': 'swedish',\n",
        " 'sw': 'swahili',\n",
        " 'ta': 'tamil',\n",
        " 'te': 'telugu',\n",
        " 'tg': 'tajik',\n",
        " 'th': 'thai',\n",
        " 'tl': 'filipino',\n",
        " 'tr': 'turkish',\n",
        " 'ug': 'uyghur',\n",
        " 'uk': 'ukrainian',\n",
        " 'ur': 'urdu',\n",
        " 'uz': 'uzbek',\n",
        " 'vi': 'vietnamese',\n",
        " 'xh': 'xhosa',\n",
        " 'yi': 'yiddish',\n",
        " 'yo': 'yoruba',\n",
        " 'zh-cn': 'chinese (simplified)',\n",
        " 'zh-tw': 'chinese (traditional)',\n",
        " 'zu': 'zulu'}"
      ]
    },
    {
      "cell_type": "code",
      "execution_count": null,
      "metadata": {
        "colab": {
          "base_uri": "https://localhost:8080/",
          "height": 35
        },
        "id": "--nk65glVkAR",
        "outputId": "7cfef64c-123e-4448-d94e-82455e2723c9"
      },
      "outputs": [
        {
          "data": {
            "application/vnd.google.colaboratory.intrinsic+json": {
              "type": "string"
            },
            "text/plain": [
              "'afrikaans'"
            ]
          },
          "metadata": {},
          "output_type": "display_data"
        }
      ],
      "source": [
        "# pprint(constants.LANGUAGES)\n",
        "lgs = constants.LANGUAGES\n",
        "lgs['af']\n",
        "\n",
        "for key in a_dict:\n",
        "...     print(key)"
      ]
    },
    {
      "cell_type": "code",
      "execution_count": null,
      "metadata": {
        "colab": {
          "base_uri": "https://localhost:8080/"
        },
        "id": "ZkVCmWdvRHkJ",
        "outputId": "225ac071-e46c-48c9-ce94-3fbec6949e48"
      },
      "outputs": [
        {
          "name": "stdout",
          "output_type": "stream",
          "text": [
            "darçın\n"
          ]
        }
      ],
      "source": [
        "translated_text = translator.translate('cinnamon', dest='az')\n",
        "print(translated_text.text)"
      ]
    },
    {
      "cell_type": "markdown",
      "metadata": {},
      "source": [
        "## Wiktionary parser"
      ]
    },
    {
      "cell_type": "code",
      "execution_count": null,
      "metadata": {},
      "outputs": [
        {
          "name": "stdout",
          "output_type": "stream",
          "text": [
            "Requirement already satisfied: wiktionaryparser in c:\\users\\parti\\anaconda3\\lib\\site-packages (0.0.97)\n",
            "Requirement already satisfied: requests in c:\\users\\parti\\anaconda3\\lib\\site-packages (from wiktionaryparser) (2.28.1)\n",
            "Requirement already satisfied: beautifulsoup4 in c:\\users\\parti\\anaconda3\\lib\\site-packages (from wiktionaryparser) (4.11.1)\n",
            "Requirement already satisfied: soupsieve>1.2 in c:\\users\\parti\\anaconda3\\lib\\site-packages (from beautifulsoup4->wiktionaryparser) (2.3.1)\n",
            "Requirement already satisfied: urllib3<1.27,>=1.21.1 in c:\\users\\parti\\anaconda3\\lib\\site-packages (from requests->wiktionaryparser) (1.26.11)\n",
            "Requirement already satisfied: idna<4,>=2.5 in c:\\users\\parti\\anaconda3\\lib\\site-packages (from requests->wiktionaryparser) (3.3)\n",
            "Requirement already satisfied: charset-normalizer<3,>=2 in c:\\users\\parti\\anaconda3\\lib\\site-packages (from requests->wiktionaryparser) (2.0.4)\n",
            "Requirement already satisfied: certifi>=2017.4.17 in c:\\users\\parti\\anaconda3\\lib\\site-packages (from requests->wiktionaryparser) (2022.9.14)\n"
          ]
        }
      ],
      "source": [
        "# !pip install wiktionaryparser"
      ]
    },
    {
      "cell_type": "code",
      "execution_count": null,
      "metadata": {},
      "outputs": [
        {
          "name": "stdout",
          "output_type": "stream",
          "text": [
            "[{'etymology': 'From Middle English anys, borrowed from Old French anis, from Latin anīsum, from Ancient Greek ἄνισον (ánison), from Egyptian jnst.\\n', 'definitions': [{'partOfSpeech': 'noun', 'text': ['anise (countable and uncountable, plural anises)', 'An umbelliferous plant (Pimpinella anisum) growing naturally in Egypt, and cultivated in Spain, Malta, etc., for its carminative and aromatic seeds, which are used as a spice. It has a licorice scent.', '(US, often qualified as \"sweet anise\" or \"wild anise\") Fennel, Foeniculum vulgare.'], 'relatedWords': [], 'examples': ['[…]  of the butcherbirds which were perched on the electric wires skirting the road must be nesting birds, and that in the absence of trees or brush they must be nesting in some of the weeds along the highway, mostly anise .']}], 'pronunciations': {'text': ['(UK) IPA: /əˈniːz/, (dated) /ˈæn.ɪs/', '(US) IPA: /ˈæn.ɪs/, /æˈnis/', '(Canada) IPA: /əˈnis/', 'Rhymes: -iːs, -iːz'], 'audio': []}}]\n",
            "[{'etymology': 'fa +\\u200e héj', 'definitions': [{'partOfSpeech': 'noun', 'text': ['fahéj (plural fahéjak)', 'cinnamon (spice)'], 'relatedWords': [], 'examples': []}], 'pronunciations': {'text': ['IPA: [ˈfɒɦeːj]', 'Hyphenation: fa‧héj', 'Rhymes: -eːj'], 'audio': []}}]\n"
          ]
        }
      ],
      "source": [
        "# Wiktionary parser\n",
        "from wiktionaryparser import WiktionaryParser\n",
        "\n",
        "parser = WiktionaryParser()\n",
        "\n",
        "# Commands:\n",
        "# parser.set_default_language('english')\n",
        "# parser.include_part_of_speech('noun')\n",
        "# parser.exclude_part_of_speech('noun')\n",
        "# parser.include_relation('alternative forms')\n",
        "# parser.exclude_relation('alternative forms')\n",
        "\n",
        "word = parser.fetch('anise')\n",
        "print(word)\n",
        "\n",
        "another_word = parser.fetch('fahéj', 'hungarian')\n",
        "print(another_word)"
      ]
    },
    {
      "cell_type": "markdown",
      "metadata": {},
      "source": [
        "## Wiktextract"
      ]
    },
    {
      "cell_type": "code",
      "execution_count": null,
      "metadata": {},
      "outputs": [],
      "source": [
        "# !pip install wiktextract"
      ]
    },
    {
      "cell_type": "code",
      "execution_count": null,
      "metadata": {},
      "outputs": [],
      "source": [
        "# import json\n",
        "# ...\n",
        "# with open(\"filename.json\", \"r\", encoding=\"utf-8\") as f:\n",
        "#     for line in f: data = json.loads(line)\n",
        "        # ... parse the data in this record"
      ]
    },
    {
      "cell_type": "markdown",
      "metadata": {
        "id": "1i60vw36hDmr"
      },
      "source": [
        "## CLICS3"
      ]
    },
    {
      "cell_type": "code",
      "execution_count": null,
      "metadata": {
        "colab": {
          "base_uri": "https://localhost:8080/",
          "height": 1000
        },
        "id": "cUacjAhPhFdF",
        "outputId": "68df9dfb-1063-4fc9-e21b-e0b511abf22b"
      },
      "outputs": [],
      "source": [
        "# !pip install \"pyclics>=3.0\""
      ]
    },
    {
      "cell_type": "markdown",
      "metadata": {
        "id": "gKoLBBYOXKRy"
      },
      "source": [
        "## Ety"
      ]
    },
    {
      "cell_type": "code",
      "execution_count": null,
      "metadata": {
        "colab": {
          "base_uri": "https://localhost:8080/"
        },
        "id": "xHIH1LW7XLRp",
        "outputId": "66d37c81-3ac7-4c04-d38d-2e1d4aacd192"
      },
      "outputs": [],
      "source": [
        "# !pip install ety\n",
        "import ety"
      ]
    },
    {
      "cell_type": "code",
      "execution_count": null,
      "metadata": {
        "id": "npN0HBRsXMiw"
      },
      "outputs": [],
      "source": [
        "ety.origins(\"paprika\")"
      ]
    },
    {
      "cell_type": "code",
      "execution_count": null,
      "metadata": {
        "colab": {
          "base_uri": "https://localhost:8080/"
        },
        "id": "y98u3sVbXSMd",
        "outputId": "183ac23d-2187-4960-bac5-ebe819decb5d"
      },
      "outputs": [
        {
          "data": {
            "text/plain": [
              "[Word(paprika, Hungarian [hun]),\n",
              " Word(paprika, Serbo-Croatian [hbs]),\n",
              " Word(papar, Serbo-Croatian [hbs]),\n",
              " Word(piper, Latin [lat]),\n",
              " Word(πέπερι, Ancient Greek (to 1453) [grc])]"
            ]
          },
          "metadata": {},
          "output_type": "display_data"
        }
      ],
      "source": [
        "ety.origins(\"paprika\", recursive=True)"
      ]
    },
    {
      "cell_type": "code",
      "execution_count": null,
      "metadata": {
        "colab": {
          "base_uri": "https://localhost:8080/"
        },
        "id": "ThihJonAXVKd",
        "outputId": "b424fd83-d2f6-4b4d-a7c2-59b5595aece0"
      },
      "outputs": [
        {
          "name": "stdout",
          "output_type": "stream",
          "text": [
            "pepper (English)\n",
            "└── piper (Latin)\n",
            "    └── πέπερι (Ancient Greek (to 1453))\n"
          ]
        }
      ],
      "source": [
        "print(ety.tree(\"pepper\"))"
      ]
    },
    {
      "cell_type": "markdown",
      "metadata": {
        "id": "JZ2Hyiio8i2R"
      },
      "source": [
        "## LingPy\n",
        "http://lingpy.org/docu/index.html"
      ]
    },
    {
      "cell_type": "code",
      "execution_count": null,
      "metadata": {
        "colab": {
          "base_uri": "https://localhost:8080/"
        },
        "id": "uM2C7RKk8lD1",
        "outputId": "7834745c-8680-4867-8752-9bec9eca6825"
      },
      "outputs": [],
      "source": [
        "# !pip install lingpy\n",
        "import lingpy as lp\n",
        "from lingpy import *"
      ]
    },
    {
      "cell_type": "code",
      "execution_count": null,
      "metadata": {
        "colab": {
          "base_uri": "https://localhost:8080/"
        },
        "id": "CaEpcUlC_6RD",
        "outputId": "fed7b7a7-0d07-4a7f-ce52-7114e9dcd586"
      },
      "outputs": [],
      "source": [
        "seqs = ['woldemort','waldemar','wladimir','vladymyr']\n",
        "msa = Multiple(seqs)\n",
        "msa.prog_align()\n",
        "print(msa)\n",
        "mult_align(['woldemort', 'waldemar', 'wladimir', 'vladymyr'], pprint=True)"
      ]
    },
    {
      "cell_type": "code",
      "execution_count": null,
      "metadata": {
        "colab": {
          "base_uri": "https://localhost:8080/"
        },
        "id": "ECmkDwdQAMLy",
        "outputId": "f88a006d-cf78-4e5c-a2c9-3247b8866468"
      },
      "outputs": [],
      "source": [
        "from lingpy.algorithm import squareform\n",
        "\n",
        "languages = ['Norwegian','Swedish','Icelandic','Dutch','English']\n",
        "\n",
        "# Define a distance matrix:\n",
        "distances = squareform([0.5,0.67,0.8,0.2,0.4,0.7,0.6,0.8,0.8,0.3])\n",
        "\n",
        "# Carry out a Neighbor-Joining cluster analysis:\n",
        "tree = neighbor(distances,languages)\n",
        "\n",
        "print(tree)\n",
        "\n",
        "# Print the tree in ASCII-Art to the screen (using PyCogent’s tree class):\n",
        "tree = Tree(tree)\n",
        "\n",
        "print(tree.asciiArt())"
      ]
    },
    {
      "cell_type": "markdown",
      "metadata": {
        "id": "B6BOdsdA939E"
      },
      "source": [
        "## CL Toolkit\n",
        "https://github.com/cldf/cltoolkit/tree/v0.1.0"
      ]
    },
    {
      "cell_type": "code",
      "execution_count": null,
      "metadata": {
        "id": "kPk0PBve-CVB"
      },
      "outputs": [],
      "source": [
        "# !pip install cltoolkit"
      ]
    },
    {
      "cell_type": "code",
      "execution_count": null,
      "metadata": {
        "id": "cGX6oE_hCOpf"
      },
      "outputs": [],
      "source": [
        "from cltoolkit import Wordlist\n",
        "from pycldf import Dataset\n",
        "import pybtex.database.input.bibtex\n",
        "# wl = Wordlist([Dataset.from_metadata(\"https://raw.githubusercontent.com/lexibank/wold/v4.0/cldf/cldf-metadata.json\")])\n",
        "# # loading forms for wold: 100%|██████████| 64289/64289 [00:01<00:00, 33125.96it/s]\n",
        "# print(wl)"
      ]
    },
    {
      "cell_type": "markdown",
      "metadata": {
        "id": "aUdgp4YBbtbS"
      },
      "source": [
        "## Ete3"
      ]
    },
    {
      "cell_type": "code",
      "execution_count": null,
      "metadata": {
        "colab": {
          "base_uri": "https://localhost:8080/"
        },
        "id": "ZE5l4dmjbtnH",
        "outputId": "f56288ea-cc8e-4175-942b-bc940e895df2"
      },
      "outputs": [
        {
          "name": "stdout",
          "output_type": "stream",
          "text": [
            "Looking in indexes: https://pypi.org/simple, https://us-python.pkg.dev/colab-wheels/public/simple/\n",
            "Collecting ete3\n",
            "  Downloading ete3-3.1.2.tar.gz (4.7 MB)\n",
            "\u001b[K     |████████████████████████████████| 4.7 MB 3.9 MB/s \n",
            "\u001b[?25hBuilding wheels for collected packages: ete3\n",
            "  Building wheel for ete3 (setup.py) ... \u001b[?25l\u001b[?25hdone\n",
            "  Created wheel for ete3: filename=ete3-3.1.2-py3-none-any.whl size=2273013 sha256=9b3f3b1431db0d4fd18ea408f62dd53f2d695d6bd5bab5960af9e94aecc6a948\n",
            "  Stored in directory: /root/.cache/pip/wheels/17/fd/e2/6ac384d8c2484789304657dde01b96d7ab83f4f1dd96d266df\n",
            "Successfully built ete3\n",
            "Installing collected packages: ete3\n",
            "Successfully installed ete3-3.1.2\n"
          ]
        }
      ],
      "source": [
        "# !pip install --upgrade ete3"
      ]
    },
    {
      "cell_type": "code",
      "execution_count": null,
      "metadata": {
        "colab": {
          "base_uri": "https://localhost:8080/"
        },
        "id": "g3xkZqOAbuMe",
        "outputId": "2efa2607-65bd-4d1f-d15a-460567f73843"
      },
      "outputs": [
        {
          "name": "stderr",
          "output_type": "stream",
          "text": [
            "NCBI database not present yet (first time used?)\n",
            "Downloading taxdump.tar.gz from NCBI FTP site (via HTTP)...\n",
            "Done. Parsing...\n"
          ]
        },
        {
          "name": "stdout",
          "output_type": "stream",
          "text": [
            "Loading node names...\n",
            "2426007 names loaded.\n",
            "277781 synonyms loaded.\n",
            "Loading nodes...\n",
            "2426007 nodes loaded.\n",
            "Linking nodes...\n",
            "Tree is loaded.\n",
            "Updating database: /root/.etetoolkit/taxa.sqlite ...\n",
            " 2426000 generating entries... "
          ]
        },
        {
          "name": "stderr",
          "output_type": "stream",
          "text": [
            "Inserting synonyms:      15000 "
          ]
        },
        {
          "name": "stdout",
          "output_type": "stream",
          "text": [
            "\n",
            "Uploading to /root/.etetoolkit/taxa.sqlite\n",
            "\n"
          ]
        },
        {
          "name": "stderr",
          "output_type": "stream",
          "text": [
            "Inserting taxid merges:  15000 "
          ]
        },
        {
          "name": "stdout",
          "output_type": "stream",
          "text": [
            "\n"
          ]
        },
        {
          "name": "stderr",
          "output_type": "stream",
          "text": [
            "Inserting taxids:       20000 "
          ]
        },
        {
          "name": "stdout",
          "output_type": "stream",
          "text": [
            "\n"
          ]
        },
        {
          "name": "stderr",
          "output_type": "stream",
          "text": [
            "Inserting taxids:       2425000 "
          ]
        },
        {
          "name": "stdout",
          "output_type": "stream",
          "text": [
            "\n"
          ]
        },
        {
          "name": "stderr",
          "output_type": "stream",
          "text": [
            "Local taxdump.tar.gz seems up-to-date\n"
          ]
        },
        {
          "name": "stdout",
          "output_type": "stream",
          "text": [
            "Loading node names...\n",
            "2426007 names loaded.\n",
            "277781 synonyms loaded.\n",
            "Loading nodes...\n",
            "2426007 nodes loaded.\n",
            "Linking nodes...\n",
            "Tree is loaded.\n",
            "Updating database: /root/.etetoolkit/taxa.sqlite ...\n",
            " 2426000 generating entries... \n",
            "Uploading to /root/.etetoolkit/taxa.sqlite\n"
          ]
        },
        {
          "name": "stderr",
          "output_type": "stream",
          "text": [
            "Inserting synonyms:      15000 "
          ]
        },
        {
          "name": "stdout",
          "output_type": "stream",
          "text": [
            "\n"
          ]
        },
        {
          "name": "stderr",
          "output_type": "stream",
          "text": [
            "Inserting taxid merges:  25000 "
          ]
        },
        {
          "name": "stdout",
          "output_type": "stream",
          "text": [
            "\n"
          ]
        },
        {
          "name": "stderr",
          "output_type": "stream",
          "text": [
            "Inserting taxids:       20000 "
          ]
        },
        {
          "name": "stdout",
          "output_type": "stream",
          "text": [
            "\n"
          ]
        },
        {
          "name": "stderr",
          "output_type": "stream",
          "text": [
            "Inserting taxids:       2425000 "
          ]
        },
        {
          "name": "stdout",
          "output_type": "stream",
          "text": [
            "\n"
          ]
        }
      ],
      "source": [
        "from ete3 import NCBITaxa\n",
        "ncbi = NCBITaxa()\n",
        "ncbi.update_taxonomy_database()"
      ]
    },
    {
      "cell_type": "code",
      "execution_count": null,
      "metadata": {
        "colab": {
          "base_uri": "https://localhost:8080/"
        },
        "id": "c9N2q3SAc6Y4",
        "outputId": "e792058b-e039-4bf7-f5c5-6abbe4890139"
      },
      "outputs": [
        {
          "name": "stdout",
          "output_type": "stream",
          "text": [
            "{9443: 'Primates', 9606: 'Homo sapiens'}\n",
            "{'Homo sapiens': [9606], 'primates': [9443]}\n",
            "{'Bacteria': [2]}\n"
          ]
        }
      ],
      "source": [
        "from ete3 import NCBITaxa\n",
        "ncbi = NCBITaxa()\n",
        "taxid2name = ncbi.get_taxid_translator([9606, 9443])\n",
        "print(taxid2name)\n",
        "# {9443: u'Primates', 9606: u'Homo sapiens'}\n",
        "\n",
        "name2taxid = ncbi.get_name_translator(['Homo sapiens', 'primates'])\n",
        "print(name2taxid)\n",
        "# {'Homo sapiens': [9606], 'primates': [9443]}\n",
        "\n",
        "# when the same name points to several taxa, all taxids are returned\n",
        "name2taxid = ncbi.get_name_translator(['Bacteria'])\n",
        "print(name2taxid)\n",
        "# {'Bacteria': [2, 629395]}"
      ]
    },
    {
      "cell_type": "code",
      "execution_count": null,
      "metadata": {
        "colab": {
          "base_uri": "https://localhost:8080/"
        },
        "id": "ApWg9_4Ac-un",
        "outputId": "191ebaf8-d3a5-42e7-e4c1-34fae15bb5d6"
      },
      "outputs": [
        {
          "name": "stdout",
          "output_type": "stream",
          "text": [
            "{9443: 'order', 9606: 'species'}\n",
            "[1, 131567, 2759, 33154, 33208, 6072, 33213, 33511, 7711, 89593, 7742, 7776, 117570, 117571, 8287, 1338369, 32523, 32524, 40674, 32525, 9347, 1437010, 314146, 9443, 376913, 314293, 9526, 314295, 9604, 207598, 9605, 9606]\n"
          ]
        }
      ],
      "source": [
        "from ete3 import NCBITaxa\n",
        "ncbi = NCBITaxa()\n",
        "\n",
        "print(ncbi.get_rank([9606, 9443]))\n",
        "# {9443: u'order', 9606: u'species'}\n",
        "\n",
        "print(ncbi.get_lineage(9606))\n",
        "\n",
        "# [1, 131567, 2759, 33154, 33208, 6072, 33213, 33511, 7711, 89593, 7742,\n",
        "# 7776, 117570, 117571, 8287, 1338369, 32523, 32524, 40674, 32525, 9347,\n",
        "# 1437010, 314146, 9443, 376913, 314293, 9526, 314295, 9604, 207598, 9605,\n",
        "# 9606]"
      ]
    },
    {
      "cell_type": "code",
      "execution_count": null,
      "metadata": {
        "colab": {
          "base_uri": "https://localhost:8080/"
        },
        "id": "sSfm-A-xhrZB",
        "outputId": "5ddd223d-d3f0-4567-cf94-8b5b94925567"
      },
      "outputs": [
        {
          "name": "stdout",
          "output_type": "stream",
          "text": [
            "[1, 131567, 2759, 33154, 33208, 6072, 33213, 33511, 7711, 89593, 7742, 7776, 117570, 117571, 8287, 1338369, 32523, 32524, 40674, 32525, 9347, 1437010, 314146, 9443, 376913, 314293, 9526, 314295, 9604, 207598, 9605, 9606]\n",
            "['root', 'cellular organisms', 'Eukaryota', 'Opisthokonta', 'Metazoa', 'Eumetazoa', 'Bilateria', 'Deuterostomia', 'Chordata', 'Craniata', 'Vertebrata', 'Gnathostomata', 'Teleostomi', 'Euteleostomi', 'Sarcopterygii', 'Dipnotetrapodomorpha', 'Tetrapoda', 'Amniota', 'Mammalia', 'Theria', 'Eutheria', 'Boreoeutheria', 'Euarchontoglires', 'Primates', 'Haplorrhini', 'Simiiformes', 'Catarrhini', 'Hominoidea', 'Hominidae', 'Homininae', 'Homo', 'Homo sapiens']\n"
          ]
        }
      ],
      "source": [
        "from ete3 import NCBITaxa\n",
        "ncbi = NCBITaxa()\n",
        "\n",
        "lineage = ncbi.get_lineage(9606)\n",
        "print(lineage)\n",
        "\n",
        "# [1, 131567, 2759, 33154, 33208, 6072, 33213, 33511, 7711, 89593, 7742,\n",
        "# 7776, 117570, 117571, 8287, 1338369, 32523, 32524, 40674, 32525, 9347,\n",
        "# 1437010, 314146, 9443, 376913, 314293, 9526, 314295, 9604, 207598, 9605,\n",
        "# 9606]\n",
        "\n",
        "names = ncbi.get_taxid_translator(lineage)\n",
        "print([names[taxid] for taxid in lineage])\n",
        "\n",
        "# [u'root', u'cellular organisms', u'Eukaryota', u'Opisthokonta', u'Metazoa',\n",
        "# u'Eumetazoa', u'Bilateria', u'Deuterostomia', u'Chordata', u'Craniata',\n",
        "# u'Vertebrata', u'Gnathostomata', u'Teleostomi', u'Euteleostomi',\n",
        "# u'Sarcopterygii', u'Dipnotetrapodomorpha', u'Tetrapoda', u'Amniota',\n",
        "# u'Mammalia', u'Theria', u'Eutheria', u'Boreoeutheria', u'Euarchontoglires',\n",
        "# u'Primates', u'Haplorrhini', u'Simiiformes', u'Catarrhini', u'Hominoidea',\n",
        "# u'Hominidae', u'Homininae', u'Homo', u'Homo sapiens']"
      ]
    },
    {
      "cell_type": "code",
      "execution_count": null,
      "metadata": {
        "colab": {
          "base_uri": "https://localhost:8080/"
        },
        "id": "aAbxtct8huR9",
        "outputId": "a654088f-a0a8-4260-e447-f768e397a180"
      },
      "outputs": [
        {
          "name": "stdout",
          "output_type": "stream",
          "text": [
            "['Homo sapiens neanderthalensis', \"Homo sapiens subsp. 'Denisova'\", 'Homo heidelbergensis', 'Homo sapiens environmental sample', 'Homo sp.']\n",
            "[]\n",
            "\n",
            "          /environmental samples, 2665952-Homo sapiens environmental sample, 2665953\n",
            "         |\n",
            "         |--Homo sapiens, 9606\n",
            "-Homo, 9605\n",
            "         |--Homo heidelbergensis, 1425170\n",
            "         |\n",
            "          \\unclassified Homo, 2813598-Homo sp., 2813599\n"
          ]
        }
      ],
      "source": [
        "from ete3 import NCBITaxa\n",
        "ncbi = NCBITaxa()\n",
        "\n",
        "descendants = ncbi.get_descendant_taxa('Homo')\n",
        "print(ncbi.translate_to_names(descendants))\n",
        "\n",
        "# [u'Homo heidelbergensis', u'Homo sapiens ssp. Denisova', u'Homo sapiens neanderthalensis']\n",
        "\n",
        "# you can easily ignore subspecies, so only taxa labeled as \"species\" will be reported:\n",
        "descendants = ncbi.get_descendant_taxa('Homo', collapse_subspecies=True)\n",
        "print( ncbi.translate_to_names(descendants))\n",
        "\n",
        "# [u'Homo sapiens', u'Homo heidelbergensis']\n",
        "\n",
        "# or even returned as an annotated tree\n",
        "tree = ncbi.get_descendant_taxa('Homo', collapse_subspecies=True, return_tree=True)\n",
        "print(tree.get_ascii(attributes=['sci_name', 'taxid']))\n",
        "\n",
        "#           /-Homo sapiens, 9606\n",
        "# -Homo, 9605\n",
        "#           \\-Homo heidelbergensis, 1425170"
      ]
    },
    {
      "cell_type": "code",
      "execution_count": null,
      "metadata": {
        "colab": {
          "base_uri": "https://localhost:8080/"
        },
        "id": "a2XWWRlMh-mX",
        "outputId": "18bc43f6-532c-4dbb-d1da-1d672a32e372"
      },
      "outputs": [
        {
          "name": "stdout",
          "output_type": "stream",
          "text": [
            "\n",
            "                    /-Dendrochirotida, order\n",
            "                   |\n",
            "                   |                                                              /-Homo sapiens, species\n",
            "-Deuterostomia, clade                                         /Homininae, subfamily\n",
            "                   |              /Euarchontoglires, superorder                   \\-Pan troglodytes, species\n",
            "                   |             |                           |\n",
            "                    \\Amniota, clade                           \\-Mus musculus, species\n",
            "                                 |\n",
            "                                  \\-Aves, class\n"
          ]
        }
      ],
      "source": [
        "from ete3 import NCBITaxa\n",
        "ncbi = NCBITaxa()\n",
        "\n",
        "tree = ncbi.get_topology([9606, 9598, 10090, 7707, 8782])\n",
        "print(tree.get_ascii(attributes=[\"sci_name\", \"rank\"]))\n",
        "\n",
        "#                     /-Dendrochirotida, order\n",
        "#                    |\n",
        "#                    |                                                                /-Pan troglodytes, species\n",
        "# -Deuterostomia, no rank                                           /Homininae, subfamily\n",
        "#                    |                /Euarchontoglires, superorder                   \\-Homo sapiens, species\n",
        "#                    |               |                           |\n",
        "#                     \\Amniota, no rank                           \\-Mus musculus, species\n",
        "#                                    |\n",
        "#                                     \\-Aves, class"
      ]
    },
    {
      "cell_type": "code",
      "execution_count": null,
      "metadata": {
        "colab": {
          "base_uri": "https://localhost:8080/"
        },
        "id": "o6jY-bzKiEN0",
        "outputId": "95284bda-746c-4e1b-e3fc-452c3db3473e"
      },
      "outputs": [
        {
          "name": "stdout",
          "output_type": "stream",
          "text": [
            "\n",
            "                  /EukaryotaOpisthokonta-Metazoa\n",
            "-cellular organisms\n",
            "                  \\-Bacteria\n"
          ]
        }
      ],
      "source": [
        "from ete3 import NCBITaxa\n",
        "ncbi = NCBITaxa()\n",
        "\n",
        "tree = ncbi.get_topology([2, 33208], intermediate_nodes=True)\n",
        "print(tree.get_ascii(attributes=[\"sci_name\"]))\n",
        "\n",
        "#                  /Eukaryota - Opisthokonta - Metazoa\n",
        "# -cellular organisms\n",
        "#                  \\-Bacteria"
      ]
    },
    {
      "cell_type": "code",
      "execution_count": null,
      "metadata": {
        "colab": {
          "base_uri": "https://localhost:8080/"
        },
        "id": "MrsQe2FdiTOo",
        "outputId": "c7ec8724-c85a-4d32-c406-df874a7c30f9"
      },
      "outputs": [
        {
          "name": "stdout",
          "output_type": "stream",
          "text": [
            "\n",
            "                                             /-9606|protA, Homo sapiens, 9606\n",
            "                          /, Homininae, 207598\n",
            "-, Euarchontoglires, 314146                  \\-9598|protA, Pan troglodytes, 9598\n",
            "                         |\n",
            "                          \\-10090|protB, Mus musculus, 10090\n"
          ]
        }
      ],
      "source": [
        "from ete3 import PhyloTree\n",
        "\n",
        "# load the whole leaf name as species taxid\n",
        "tree = PhyloTree('((9606, 9598), 10090);', sp_naming_function=lambda name: name)\n",
        "tax2names, tax2lineages, tax2rank = tree.annotate_ncbi_taxa()\n",
        "\n",
        "# split names by '|' and return the first part as the species taxid\n",
        "tree = PhyloTree('((9606|protA, 9598|protA), 10090|protB);', sp_naming_function=lambda name: name.split('|')[0])\n",
        "tax2names, tax2lineages, tax2rank = tree.annotate_ncbi_taxa()\n",
        "\n",
        "print(tree.get_ascii(attributes=[\"name\", \"sci_name\", \"taxid\"]))\n",
        "\n",
        "\n",
        "#                                             /-9606|protA, Homo sapiens, 9606\n",
        "#                          /, Homininae, 207598\n",
        "#-, Euarchontoglires, 314146                  \\-9598|protA, Pan troglodytes, 9598\n",
        "#                         |\n",
        "#                          \\-10090|protB, Mus musculus, 10090"
      ]
    },
    {
      "cell_type": "code",
      "execution_count": null,
      "metadata": {
        "id": "Ez2Qt76kihz_"
      },
      "outputs": [],
      "source": [
        "from ete3 import Tree, NCBITaxa\n",
        "ncbi = NCBITaxa()\n",
        "tree = PhyloTree('((9606, 9598), 10090);', sp_naming_function=lambda name: name)\n",
        "ncbi.annotate_tree(tree, taxid_attr=\"name\")"
      ]
    }
  ],
  "metadata": {
    "colab": {
      "collapsed_sections": [
        "a5QgbBnYb0D4",
        "ShZ_AFalJgmS",
        "gKoLBBYOXKRy",
        "JZ2Hyiio8i2R",
        "B6BOdsdA939E"
      ],
      "provenance": [],
      "toc_visible": true
    },
    "kernelspec": {
      "display_name": "base",
      "language": "python",
      "name": "python3"
    },
    "language_info": {
      "codemirror_mode": {
        "name": "ipython",
        "version": 3
      },
      "file_extension": ".py",
      "mimetype": "text/x-python",
      "name": "python",
      "nbconvert_exporter": "python",
      "pygments_lexer": "ipython3",
      "version": "3.9.13 (main, Aug 25 2022, 23:51:50) [MSC v.1916 64 bit (AMD64)]"
    },
    "vscode": {
      "interpreter": {
        "hash": "18c4d285bf73f8d33795481156cb8e20c5329867a6af52097d4f49f8abbf9900"
      }
    }
  },
  "nbformat": 4,
  "nbformat_minor": 0
}
