{
 "cells": [
  {
   "cell_type": "code",
   "execution_count": null,
   "metadata": {},
   "outputs": [],
   "source": [
    "# Import dependencies\n",
    "import pandas as pd\n",
    "import regex as re\n",
    "import numpy as np\n",
    "import glob\n",
    "import json\n",
    "from collections import defaultdict\n",
    "import subprocess\n",
    "from openpyxl import Workbook\n",
    "import csv\n",
    "from datetime import date, datetime\n",
    "from markdownTable import markdownTable\n",
    "\n",
    "import plotly\n",
    "import plotly.io as pio\n",
    "from plotly.io import write_image, write_json\n",
    "import plotly.express as px\n",
    "import plotly.graph_objs as go\n",
    "from plotly.offline import plot\n",
    "from plotly.subplots import make_subplots\n",
    "import kaleido\n",
    "\n",
    "# from mdutils.mdutils import MdUtils\n",
    "# from mdutils import Html\n",
    "\n",
    "# from IPython.display import display\n",
    "\n",
    "# if using Google Colab:\n",
    "# from google.colab import files\n",
    "# %load_ext google.colab.data_table\n",
    "\n",
    "print(\"Dependencies have been loaded with no problems.\")"
   ]
  },
  {
   "cell_type": "code",
   "execution_count": null,
   "metadata": {},
   "outputs": [],
   "source": []
  }
 ],
 "metadata": {
  "kernelspec": {
   "display_name": "base",
   "language": "python",
   "name": "python3"
  },
  "language_info": {
   "name": "python",
   "version": "3.9.13 (main, Aug 25 2022, 23:51:50) [MSC v.1916 64 bit (AMD64)]"
  },
  "orig_nbformat": 4,
  "vscode": {
   "interpreter": {
    "hash": "18c4d285bf73f8d33795481156cb8e20c5329867a6af52097d4f49f8abbf9900"
   }
  }
 },
 "nbformat": 4,
 "nbformat_minor": 2
}
