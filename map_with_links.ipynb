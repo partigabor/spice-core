{
 "cells": [
  {
   "cell_type": "code",
   "execution_count": 8,
   "metadata": {},
   "outputs": [],
   "source": [
    "# Import dependencies\n",
    "import pandas as pd\n",
    "import re\n",
    "import json\n",
    "\n",
    "import plotly\n",
    "from plotly.offline import plot\n",
    "from plotly.io import write_image, write_json\n",
    "import plotly.express as px\n",
    "import plotly.graph_objs as go\n",
    "from palette import *\n",
    "\n",
    "path_in = \"data/\"\n",
    "\n",
    "# from PIL import ImageColor as ic\n",
    "# def hex_to_rgba(hex):\n",
    "#     rgb = str(ic.getrgb(hex))\n",
    "#     rgba = re.sub('\\)', ', 1.0)', rgb)\n",
    "#     return rgba\n",
    "\n",
    "# hex_to_rgba(nord0)"
   ]
  },
  {
   "cell_type": "code",
   "execution_count": 9,
   "metadata": {},
   "outputs": [
    {
     "name": "stdout",
     "output_type": "stream",
     "text": [
      "24 spices in total.\n",
      " ['Sichuan pepper', 'allspice', 'anise', 'asafoetida', 'caraway', 'cardamom', 'cassia', 'chile', 'cinnamon', 'clove', 'coriander', 'cumin', 'dill', 'fennel', 'fenugreek', 'ginger', 'long pepper', 'mace', 'nutmeg', 'pepper', 'saffron', 'star anise', 'turmeric', 'vanilla']\n"
     ]
    },
    {
     "data": {
      "text/html": [
       "<div>\n",
       "<style scoped>\n",
       "    .dataframe tbody tr th:only-of-type {\n",
       "        vertical-align: middle;\n",
       "    }\n",
       "\n",
       "    .dataframe tbody tr th {\n",
       "        vertical-align: top;\n",
       "    }\n",
       "\n",
       "    .dataframe thead th {\n",
       "        text-align: right;\n",
       "    }\n",
       "</style>\n",
       "<table border=\"1\" class=\"dataframe\">\n",
       "  <thead>\n",
       "    <tr style=\"text-align: right;\">\n",
       "      <th></th>\n",
       "      <th>include</th>\n",
       "      <th>web</th>\n",
       "      <th>id</th>\n",
       "      <th>url</th>\n",
       "      <th>description</th>\n",
       "      <th>source</th>\n",
       "      <th>dalby_dangerous_2000</th>\n",
       "      <th>nature</th>\n",
       "      <th>category</th>\n",
       "      <th>tag</th>\n",
       "      <th>...</th>\n",
       "      <th>NCBI</th>\n",
       "      <th>NCBI id</th>\n",
       "      <th>EOL</th>\n",
       "      <th>Hindi</th>\n",
       "      <th>Hi transliteration</th>\n",
       "      <th>Hi literal</th>\n",
       "      <th>Hi alt</th>\n",
       "      <th>Indonesian</th>\n",
       "      <th>Malay</th>\n",
       "      <th>Persian</th>\n",
       "    </tr>\n",
       "  </thead>\n",
       "  <tbody>\n",
       "    <tr>\n",
       "      <th>0</th>\n",
       "      <td>in</td>\n",
       "      <td>yes</td>\n",
       "      <td>allspice</td>\n",
       "      <td>https://partigabor.github.io/spice/book/materi...</td>\n",
       "      <td>dried unripe berries of a Caribbean tree</td>\n",
       "      <td>van_wyk_culinary_2014</td>\n",
       "      <td>yes</td>\n",
       "      <td>Plantae</td>\n",
       "      <td>spice</td>\n",
       "      <td>culinary</td>\n",
       "      <td>...</td>\n",
       "      <td>https://www.ncbi.nlm.nih.gov/labs/data-hub/tax...</td>\n",
       "      <td>375272</td>\n",
       "      <td>NaN</td>\n",
       "      <td>गंधद्रव्य?</td>\n",
       "      <td>gandhadravya?</td>\n",
       "      <td>NaN</td>\n",
       "      <td>NaN</td>\n",
       "      <td>NaN</td>\n",
       "      <td>NaN</td>\n",
       "      <td>NaN</td>\n",
       "    </tr>\n",
       "    <tr>\n",
       "      <th>1</th>\n",
       "      <td>in</td>\n",
       "      <td>yes</td>\n",
       "      <td>anise</td>\n",
       "      <td>https://partigabor.github.io/spice/book/materi...</td>\n",
       "      <td>The seed-like fruits of a Mediterranean herb</td>\n",
       "      <td>van_wyk_culinary_2014</td>\n",
       "      <td>yes</td>\n",
       "      <td>Plantae</td>\n",
       "      <td>spice</td>\n",
       "      <td>culinary</td>\n",
       "      <td>...</td>\n",
       "      <td>NaN</td>\n",
       "      <td>271192</td>\n",
       "      <td>NaN</td>\n",
       "      <td>मोटी सौंफ़</td>\n",
       "      <td>moti saunf</td>\n",
       "      <td>fat fennel</td>\n",
       "      <td>NaN</td>\n",
       "      <td>adas manis</td>\n",
       "      <td>NaN</td>\n",
       "      <td>بادیان رومی، انیسون</td>\n",
       "    </tr>\n",
       "    <tr>\n",
       "      <th>2</th>\n",
       "      <td>in</td>\n",
       "      <td>yes</td>\n",
       "      <td>asafoetida</td>\n",
       "      <td>https://partigabor.github.io/spice/book/materi...</td>\n",
       "      <td>The dried gum-resin of several species of Feru...</td>\n",
       "      <td>van_wyk_culinary_2014</td>\n",
       "      <td>yes</td>\n",
       "      <td>Plantae</td>\n",
       "      <td>spice</td>\n",
       "      <td>culinary; medicinal</td>\n",
       "      <td>...</td>\n",
       "      <td>NaN</td>\n",
       "      <td>371345</td>\n",
       "      <td>NaN</td>\n",
       "      <td>हींग</td>\n",
       "      <td>hīng</td>\n",
       "      <td>NaN</td>\n",
       "      <td>NaN</td>\n",
       "      <td>NaN</td>\n",
       "      <td>NaN</td>\n",
       "      <td>NaN</td>\n",
       "    </tr>\n",
       "    <tr>\n",
       "      <th>3</th>\n",
       "      <td>in</td>\n",
       "      <td>yes</td>\n",
       "      <td>caraway</td>\n",
       "      <td>https://partigabor.github.io/spice/book/materi...</td>\n",
       "      <td>The seed-like fruits of an Eurasian herb</td>\n",
       "      <td>van_wyk_culinary_2014</td>\n",
       "      <td>yes</td>\n",
       "      <td>Plantae</td>\n",
       "      <td>spice</td>\n",
       "      <td>culinary</td>\n",
       "      <td>...</td>\n",
       "      <td>NaN</td>\n",
       "      <td>48032</td>\n",
       "      <td>NaN</td>\n",
       "      <td>NaN</td>\n",
       "      <td>NaN</td>\n",
       "      <td>NaN</td>\n",
       "      <td>NaN</td>\n",
       "      <td>NaN</td>\n",
       "      <td>jintan</td>\n",
       "      <td>NaN</td>\n",
       "    </tr>\n",
       "    <tr>\n",
       "      <th>4</th>\n",
       "      <td>in</td>\n",
       "      <td>yes</td>\n",
       "      <td>cardamom</td>\n",
       "      <td>https://partigabor.github.io/spice/book/materi...</td>\n",
       "      <td>The bright-green seed pods of an Indian plant;...</td>\n",
       "      <td>van_wyk_culinary_2014</td>\n",
       "      <td>yes</td>\n",
       "      <td>Plantae</td>\n",
       "      <td>spice</td>\n",
       "      <td>culinary</td>\n",
       "      <td>...</td>\n",
       "      <td>NaN</td>\n",
       "      <td>105181</td>\n",
       "      <td>NaN</td>\n",
       "      <td>NaN</td>\n",
       "      <td>NaN</td>\n",
       "      <td>NaN</td>\n",
       "      <td>NaN</td>\n",
       "      <td>NaN</td>\n",
       "      <td>NaN</td>\n",
       "      <td>NaN</td>\n",
       "    </tr>\n",
       "  </tbody>\n",
       "</table>\n",
       "<p>5 rows × 108 columns</p>\n",
       "</div>"
      ],
      "text/plain": [
       "  include  web          id                                                url  \\\n",
       "0      in  yes    allspice  https://partigabor.github.io/spice/book/materi...   \n",
       "1      in  yes       anise  https://partigabor.github.io/spice/book/materi...   \n",
       "2      in  yes  asafoetida  https://partigabor.github.io/spice/book/materi...   \n",
       "3      in  yes     caraway  https://partigabor.github.io/spice/book/materi...   \n",
       "4      in  yes    cardamom  https://partigabor.github.io/spice/book/materi...   \n",
       "\n",
       "                                         description                 source  \\\n",
       "0           dried unripe berries of a Caribbean tree  van_wyk_culinary_2014   \n",
       "1       The seed-like fruits of a Mediterranean herb  van_wyk_culinary_2014   \n",
       "2  The dried gum-resin of several species of Feru...  van_wyk_culinary_2014   \n",
       "3           The seed-like fruits of an Eurasian herb  van_wyk_culinary_2014   \n",
       "4  The bright-green seed pods of an Indian plant;...  van_wyk_culinary_2014   \n",
       "\n",
       "  dalby_dangerous_2000   nature category                  tag  ...  \\\n",
       "0                  yes  Plantae    spice             culinary  ...   \n",
       "1                  yes  Plantae    spice             culinary  ...   \n",
       "2                  yes  Plantae    spice  culinary; medicinal  ...   \n",
       "3                  yes  Plantae    spice             culinary  ...   \n",
       "4                  yes  Plantae    spice             culinary  ...   \n",
       "\n",
       "                                                NCBI NCBI id  EOL       Hindi  \\\n",
       "0  https://www.ncbi.nlm.nih.gov/labs/data-hub/tax...  375272  NaN  गंधद्रव्य?   \n",
       "1                                                NaN  271192  NaN   मोटी सौंफ़   \n",
       "2                                                NaN  371345  NaN        हींग   \n",
       "3                                                NaN   48032  NaN         NaN   \n",
       "4                                                NaN  105181  NaN         NaN   \n",
       "\n",
       "  Hi transliteration  Hi literal Hi alt   Indonesian   Malay  \\\n",
       "0      gandhadravya?         NaN     NaN         NaN     NaN   \n",
       "1         moti saunf  fat fennel     NaN  adas manis     NaN   \n",
       "2               hīng         NaN     NaN         NaN     NaN   \n",
       "3                NaN         NaN     NaN         NaN  jintan   \n",
       "4                NaN         NaN     NaN         NaN     NaN   \n",
       "\n",
       "               Persian  \n",
       "0                  NaN  \n",
       "1  بادیان رومی، انیسون  \n",
       "2                  NaN  \n",
       "3                  NaN  \n",
       "4                  NaN  \n",
       "\n",
       "[5 rows x 108 columns]"
      ]
     },
     "execution_count": 9,
     "metadata": {},
     "output_type": "execute_result"
    }
   ],
   "source": [
    "# Read and store content of an excel file \n",
    "df = pd.read_excel(path_in+\"spices.xlsx\")\n",
    "\n",
    "# Write the dataframe object into csv file\n",
    "df.to_csv (path_in+\"spices.csv\", index = None, header=True)\n",
    "\n",
    "# Load in dataset of spices as a dataframe\n",
    "df = pd.read_csv(path_in+'spices.csv', header=[0], delimiter=',', encoding=\"utf-8\")\n",
    "\n",
    "# Select ones to include\n",
    "df = df.loc[(df['include'] == \"in\")]\n",
    "\n",
    "# Info\n",
    "list_of_spices = df['id'].tolist()\n",
    "list_of_spices.sort()\n",
    "print(len(list_of_spices), \"spices in total.\\n\", list_of_spices)\n",
    "\n",
    "# Generate geo-coordinates from location\n",
    "# generate_coordinates(df)\n",
    "\n",
    "# Get a definition from wordnet\n",
    "# wn_define(df)\n",
    "\n",
    "# Translate the names to other languages using OMWN\n",
    "# wn_translate(df, 'fra')\n",
    "\n",
    "# Machine ranslate the names to other languages # https://developers.google.com/admin-sdk/directory/v1/languages\n",
    "# translate(df, 'hi')\n",
    "\n",
    "# Assign\n",
    "df_spices = df.copy()\n",
    "df.head()"
   ]
  },
  {
   "cell_type": "markdown",
   "metadata": {},
   "source": [
    "## Plot with links"
   ]
  },
  {
   "cell_type": "code",
   "execution_count": 10,
   "metadata": {},
   "outputs": [],
   "source": [
    "# Visual variables for map (dark mode)\n",
    "font_size = 14\n",
    "font_color = nord4\n",
    "font_family = \"Sans-Serif\"\n",
    "marker_symbol= 'circle'\n",
    "marker_size = 14\n",
    "max_marker_size = 32\n",
    "edge_color = transparent\n",
    "edge_size = 1\n",
    "opacity = 0.7\n",
    "line_width = 4\n",
    "water = nord0\n",
    "grid_color = nord1\n",
    "land = nord2\n",
    "lines = nord2\n",
    "copyright_color = nord3 \n",
    "background_color = transparent\n",
    "legend_background_color = half_transparent\n",
    "color_scheme = prism"
   ]
  },
  {
   "cell_type": "code",
   "execution_count": 11,
   "metadata": {},
   "outputs": [],
   "source": [
    "# Visual variables for map (light mode)\n",
    "font_size = 14\n",
    "font_color = nord0\n",
    "font_family = \"Sans-Serif\"\n",
    "marker_symbol= 'circle'\n",
    "marker_size = 14\n",
    "max_marker_size = 32\n",
    "edge_color = transparent\n",
    "edge_size = 1\n",
    "opacity = 0.7\n",
    "line_width = 4\n",
    "water = nord4\n",
    "grid_color = nord5\n",
    "land = nord6\n",
    "lines = nord6\n",
    "copyright_color = nord4\n",
    "background_color = transparent\n",
    "legend_background_color = 'rgba(216,222,233,0.5)'\n",
    "color_scheme = prism"
   ]
  },
  {
   "cell_type": "code",
   "execution_count": 12,
   "metadata": {},
   "outputs": [],
   "source": [
    "# Original colors\n",
    "font_color = 'black'\n",
    "font_family = \"Serif\"\n",
    "water = 'white'\n",
    "grid_color = '#ededed'\n",
    "land = 'gainsboro'\n",
    "lines = 'gainsboro'\n",
    "copyright_color = 'lightgray'\n",
    "\n",
    "background_color = transparent\n",
    "legend_background_color = half_transparent_white"
   ]
  },
  {
   "cell_type": "code",
   "execution_count": 15,
   "metadata": {},
   "outputs": [],
   "source": [
    "# Natural Earth\n",
    "ne_traces = dict(\n",
    "    textposition = 'middle right',\n",
    "    textfont = dict(size=font_size, color=font_color, family=font_family),\n",
    "    hovertemplate=\n",
    "        \"<b>%{text}</b><br><br>\" +\n",
    "        \"Species: <i>%{customdata[1]}</i><br>\" +\n",
    "        \"Family: <i>%{customdata[2]}</i><br>\" +\n",
    "        \"Region of origin: %{customdata[3]}<br>\" +\n",
    "        \"Arabic: %{customdata[4]} <i>%{customdata[5]}</i><br>\" +\n",
    "        \"Chinese: %{customdata[6]} <i>%{customdata[7]}</i><br>\" +\n",
    "        \"Spreadability: %{customdata[8]:.2f}<br>\" +\n",
    "        \"<extra></extra>\",\n",
    "    marker = dict(\n",
    "        symbol = marker_symbol,\n",
    "        # size = marker_size,\n",
    "        line = dict(\n",
    "            color=edge_color,\n",
    "            width=edge_size\n",
    "        )\n",
    "    )\n",
    ")\n",
    "\n",
    "ne_layout = go.Layout(\n",
    "    paper_bgcolor=background_color,\n",
    "    plot_bgcolor=background_color,\n",
    "    geo = dict(\n",
    "        resolution=110, #50 is large or 110 small\n",
    "        scope='world',\n",
    "        projection_type = 'natural earth',\n",
    "        projection_scale = 1,\n",
    "        # projection_rotation = {'lat': 15, 'lon': 30, 'roll': 0}, #not good for NE\n",
    "        bgcolor=background_color,\n",
    "        showcoastlines=True, coastlinewidth = 1, coastlinecolor = lines,\n",
    "        showcountries=False, countrywidth = 1, countrycolor = lines, \n",
    "        showframe=True, framewidth = 1, framecolor = lines, \n",
    "        showlakes=True, lakecolor = water,\n",
    "        showland=True, landcolor = land, \n",
    "        showocean=True, oceancolor = water,\n",
    "        showrivers=True, riverwidth = 1, rivercolor = water,\n",
    "        showsubunits=False, subunitwidth = 1, subunitcolor = lines, \n",
    "        # lonaxis = dict(showgrid = True, gridwidth = 0.5, dtick = 10, gridcolor=grid_color),\n",
    "        # lataxis = dict (showgrid = True, gridwidth = 0.5, dtick = 10, gridcolor=grid_color),\n",
    "    ),\n",
    "    showlegend = True,\n",
    "    legend=dict(x=0, y=0, xanchor=\"left\", yanchor=\"bottom\", bgcolor=legend_background_color,  \n",
    "                font=dict(color=font_color, size=font_size, family=font_family), \n",
    "                title_font=dict(color=font_color, size=font_size+4, family=font_family),\n",
    "                traceorder = 'normal', orientation=\"v\"),\n",
    "    title=dict(x=0.5, y=0.98, xanchor='center', yanchor='top', text='',\n",
    "               font=dict(color=font_color, size=font_size+6, family=font_family)),\n",
    "    margin={\"r\":0,\"t\":0,\"l\":0,\"b\":0},\n",
    "    hoverlabel=dict(#bgcolor=\"white\", \n",
    "                    font_size=font_size, \n",
    "                    font_family=font_family),\n",
    "    )\n",
    "\n",
    "# Info\n",
    "info = dict(\n",
    "    name=\"info\",\n",
    "    text=\"Click on a material to navigate to its corresponding page!\",\n",
    "    font=dict(color=font_color, size=font_size, family=font_family),\n",
    "    opacity=0.9,\n",
    "    xref=\"paper\",\n",
    "    yref=\"paper\",\n",
    "    x=0.5,\n",
    "    y=0.05,\n",
    "    # xanchor=\"right\", \n",
    "    # yanchor=\"bottom\", \n",
    "    # align=\"center\",\n",
    "    showarrow=False,\n",
    ")\n",
    "# fig.update_layout(annotations = [info]) # to call it\n",
    "\n",
    "# Copyright\n",
    "cr = dict(\n",
    "    name=\"copyright\",\n",
    "    text=\"© Gábor Parti, 2023\",\n",
    "    font=dict(color=copyright_color, size=font_size-6, family=font_family),\n",
    "    opacity=0.9,\n",
    "    xref=\"paper\",\n",
    "    yref=\"paper\",\n",
    "    x=0.5,\n",
    "    y=0,\n",
    "    # xanchor=\"right\", \n",
    "    # yanchor=\"bottom\", \n",
    "    # align=\"center\",\n",
    "    showarrow=False,\n",
    ")\n",
    "# fig.update_layout(annotations = [cr]) # to call it\n",
    "\n",
    "# Adding layout images\n",
    "logo = dict(\n",
    "    source=\"https://upload.wikimedia.org/wikipedia/en/thumb/9/9e/PolyU_Logo_with_wordmark.svg/1024px-PolyU_Logo_with_wordmark.svg.png\",\n",
    "    sizex=0.15, \n",
    "    sizey=0.15,\n",
    "    x=1, \n",
    "    y=0, \n",
    "    xanchor=\"right\", \n",
    "    yanchor=\"bottom\", \n",
    ")\n",
    "# fig.add_layout_image(logo) # to call it"
   ]
  },
  {
   "cell_type": "code",
   "execution_count": 16,
   "metadata": {},
   "outputs": [
    {
     "data": {
      "application/vnd.plotly.v1+json": {
       "config": {
        "plotlyServerURL": "https://plot.ly"
       },
       "data": [
        {
         "customdata": [
          [
           "https://partigabor.github.io/spice/book/materials/allspice",
           "Pimenta dioica",
           "Myrtaceae",
           "S. Mexico to C. America; Caribbean",
           "فلفل إفرنجي",
           "fulful ifranjī",
           "多香果",
           "duōxiāngguǒ",
           0.85,
           "-77",
           "18",
           2.85
          ],
          [
           "https://partigabor.github.io/spice/book/materials/clove",
           "Syzygium aromaticum",
           "Myrtaceae",
           "Moluccas (Indonesia)",
           "قرنفل",
           "qaranful",
           "丁香",
           "dīngxiāng",
           9,
           "127",
           "0",
           11
          ]
         ],
         "geo": "geo",
         "hovertemplate": "<b>%{text}</b><br><br>Species: <i>%{customdata[1]}</i><br>Family: <i>%{customdata[2]}</i><br>Region of origin: %{customdata[3]}<br>Arabic: %{customdata[4]} <i>%{customdata[5]}</i><br>Chinese: %{customdata[6]} <i>%{customdata[7]}</i><br>Spreadability: %{customdata[8]:.2f}<br><extra></extra>",
         "hovertext": [
          "allspice",
          "clove"
         ],
         "lat": [
          "18",
          "0"
         ],
         "legendgroup": "Myrtaceae",
         "lon": [
          "-77",
          "127"
         ],
         "marker": {
          "color": "#5f4690",
          "line": {
           "color": "rgba(0,0,0,0)",
           "width": 1
          },
          "opacity": 0.7,
          "size": [
           2.85,
           11
          ],
          "sizemode": "area",
          "sizeref": 0.0537109375,
          "symbol": "circle"
         },
         "mode": "markers+text",
         "name": "Myrtaceae",
         "showlegend": true,
         "text": [
          "allspice",
          "clove"
         ],
         "textfont": {
          "color": "black",
          "family": "Serif",
          "size": 14
         },
         "textposition": "middle right",
         "type": "scattergeo"
        },
        {
         "customdata": [
          [
           "https://partigabor.github.io/spice/book/materials/anise",
           "Pimpinella anisum",
           "Apiaceae",
           null,
           "أنيسون",
           "anīsūn",
           "茴芹",
           "huíqín",
           10.5,
           "35",
           "39",
           12.5
          ],
          [
           "https://partigabor.github.io/spice/book/materials/asafoetida",
           "Ferula foetida",
           "Apiaceae",
           "Iran; W. and C. Asia",
           "حلتیت",
           "ḥiltīt",
           "阿魏",
           "āwèi",
           0.12,
           "55",
           "35",
           2.12
          ],
          [
           "https://partigabor.github.io/spice/book/materials/caraway",
           "Carum carvi",
           "Apiaceae",
           "Mediterranean; Eurasia",
           "كراويا",
           "karāwiyā",
           "葛縷子",
           "gě​lǚ​zi",
           0.85,
           "69",
           "45",
           2.85
          ],
          [
           "https://partigabor.github.io/spice/book/materials/coriander",
           "Coriandrum sativum",
           "Apiaceae",
           "Mediterranean; W. Asia; India; SW As",
           "كزبرة",
           "kuzbara",
           "芫荽",
           "yán​sui",
           15,
           "39",
           "35",
           17
          ],
          [
           "https://partigabor.github.io/spice/book/materials/cumin",
           "Cuminum cyminum",
           "Apiaceae",
           "W. \\& C. Asia; India ",
           "كمون ",
           "kammūn",
           "孜然",
           "zī​rán",
           8.67,
           "53",
           "32",
           10.67
          ],
          [
           "https://partigabor.github.io/spice/book/materials/dill",
           "Anethum graveolens",
           "Apiaceae",
           "Nort Africa; West Asia",
           "شبت",
           "shibitt",
           "蒔蘿",
           "shíluó",
           12.18,
           "30",
           "28",
           14.18
          ],
          [
           "https://partigabor.github.io/spice/book/materials/fennel",
           "Foeniculum vulgare",
           "Apiaceae",
           "Med",
           "شمر",
           "shamar",
           "茴香",
           "huíxiāng",
           2.78,
           "42",
           "29",
           4.779999999999999
          ]
         ],
         "geo": "geo",
         "hovertemplate": "<b>%{text}</b><br><br>Species: <i>%{customdata[1]}</i><br>Family: <i>%{customdata[2]}</i><br>Region of origin: %{customdata[3]}<br>Arabic: %{customdata[4]} <i>%{customdata[5]}</i><br>Chinese: %{customdata[6]} <i>%{customdata[7]}</i><br>Spreadability: %{customdata[8]:.2f}<br><extra></extra>",
         "hovertext": [
          "anise",
          "asafoetida",
          "caraway",
          "coriander",
          "cumin",
          "dill",
          "fennel"
         ],
         "lat": [
          "39",
          "35",
          "45",
          "35",
          "32",
          "28",
          "29"
         ],
         "legendgroup": "Apiaceae",
         "lon": [
          "35",
          "55",
          "69",
          "39",
          "53",
          "30",
          "42"
         ],
         "marker": {
          "color": "#1d6996",
          "line": {
           "color": "rgba(0,0,0,0)",
           "width": 1
          },
          "opacity": 0.7,
          "size": [
           12.5,
           2.12,
           2.85,
           17,
           10.67,
           14.18,
           4.779999999999999
          ],
          "sizemode": "area",
          "sizeref": 0.0537109375,
          "symbol": "circle"
         },
         "mode": "markers+text",
         "name": "Apiaceae",
         "showlegend": true,
         "text": [
          "anise",
          "asafoetida",
          "caraway",
          "coriander",
          "cumin",
          "dill",
          "fennel"
         ],
         "textfont": {
          "color": "black",
          "family": "Serif",
          "size": 14
         },
         "textposition": "middle right",
         "type": "scattergeo"
        },
        {
         "customdata": [
          [
           "https://partigabor.github.io/spice/book/materials/cardamom",
           "Elettaria cardamomum",
           "Zingiberaceae",
           "India",
           "هال",
           "hāl",
           "豆蔻",
           "dòukòu",
           3.5,
           "75",
           "16",
           5.5
          ],
          [
           "https://partigabor.github.io/spice/book/materials/ginger",
           "Zingiber officinale",
           "Zingiberaceae",
           "South East Asia; India (secondary)",
           "زنجبيل",
           "zanjabīl",
           "薑",
           "jiāng",
           8.75,
           "95",
           "24",
           10.75
          ],
          [
           "https://partigabor.github.io/spice/book/materials/turmeric",
           "Curcuma longa",
           "Zingiberaceae",
           "India",
           "كركم",
           "kurkum",
           "薑黃",
           "jiānghuáng",
           53,
           "79",
           "12",
           55
          ]
         ],
         "geo": "geo",
         "hovertemplate": "<b>%{text}</b><br><br>Species: <i>%{customdata[1]}</i><br>Family: <i>%{customdata[2]}</i><br>Region of origin: %{customdata[3]}<br>Arabic: %{customdata[4]} <i>%{customdata[5]}</i><br>Chinese: %{customdata[6]} <i>%{customdata[7]}</i><br>Spreadability: %{customdata[8]:.2f}<br><extra></extra>",
         "hovertext": [
          "cardamom",
          "ginger",
          "turmeric"
         ],
         "lat": [
          "16",
          "24",
          "12"
         ],
         "legendgroup": "Zingiberaceae",
         "lon": [
          "75",
          "95",
          "79"
         ],
         "marker": {
          "color": "#38a6a5",
          "line": {
           "color": "rgba(0,0,0,0)",
           "width": 1
          },
          "opacity": 0.7,
          "size": [
           5.5,
           10.75,
           55
          ],
          "sizemode": "area",
          "sizeref": 0.0537109375,
          "symbol": "circle"
         },
         "mode": "markers+text",
         "name": "Zingiberaceae",
         "showlegend": true,
         "text": [
          "cardamom",
          "ginger",
          "turmeric"
         ],
         "textfont": {
          "color": "black",
          "family": "Serif",
          "size": 14
         },
         "textposition": "middle right",
         "type": "scattergeo"
        },
        {
         "customdata": [
          [
           "https://partigabor.github.io/spice/book/materials/cassia",
           "Cinnamomum cassia",
           "Lauraceae",
           null,
           "سليخة",
           "salīkha",
           "肉桂",
           "ròuguì",
           15,
           "111",
           "22",
           17
          ],
          [
           "https://partigabor.github.io/spice/book/materials/cinnamon",
           "Cinnamomum verum",
           "Lauraceae",
           "Sri Lanka; SW. India",
           "قرفة",
           "qirfa",
           "錫蘭肉桂",
           "xīlánròuguì",
           26,
           "81",
           "7",
           28
          ]
         ],
         "geo": "geo",
         "hovertemplate": "<b>%{text}</b><br><br>Species: <i>%{customdata[1]}</i><br>Family: <i>%{customdata[2]}</i><br>Region of origin: %{customdata[3]}<br>Arabic: %{customdata[4]} <i>%{customdata[5]}</i><br>Chinese: %{customdata[6]} <i>%{customdata[7]}</i><br>Spreadability: %{customdata[8]:.2f}<br><extra></extra>",
         "hovertext": [
          "cassia",
          "cinnamon"
         ],
         "lat": [
          "22",
          "7"
         ],
         "legendgroup": "Lauraceae",
         "lon": [
          "111",
          "81"
         ],
         "marker": {
          "color": "#0f8554",
          "line": {
           "color": "rgba(0,0,0,0)",
           "width": 1
          },
          "opacity": 0.7,
          "size": [
           17,
           28
          ],
          "sizemode": "area",
          "sizeref": 0.0537109375,
          "symbol": "circle"
         },
         "mode": "markers+text",
         "name": "Lauraceae",
         "showlegend": true,
         "text": [
          "cassia",
          "cinnamon"
         ],
         "textfont": {
          "color": "black",
          "family": "Serif",
          "size": 14
         },
         "textposition": "middle right",
         "type": "scattergeo"
        },
        {
         "customdata": [
          [
           "https://partigabor.github.io/spice/book/materials/chile",
           "Capsicum annuum",
           "Solanaceae",
           "Central America",
           "فلفل حار",
           "fulful hārr",
           "辣椒",
           "làjiāo",
           17.14,
           "-85",
           "12",
           19.14
          ]
         ],
         "geo": "geo",
         "hovertemplate": "<b>%{text}</b><br><br>Species: <i>%{customdata[1]}</i><br>Family: <i>%{customdata[2]}</i><br>Region of origin: %{customdata[3]}<br>Arabic: %{customdata[4]} <i>%{customdata[5]}</i><br>Chinese: %{customdata[6]} <i>%{customdata[7]}</i><br>Spreadability: %{customdata[8]:.2f}<br><extra></extra>",
         "hovertext": [
          "chile"
         ],
         "lat": [
          "12"
         ],
         "legendgroup": "Solanaceae",
         "lon": [
          "-85"
         ],
         "marker": {
          "color": "#73af48",
          "line": {
           "color": "rgba(0,0,0,0)",
           "width": 1
          },
          "opacity": 0.7,
          "size": [
           19.14
          ],
          "sizemode": "area",
          "sizeref": 0.0537109375,
          "symbol": "circle"
         },
         "mode": "markers+text",
         "name": "Solanaceae",
         "showlegend": true,
         "text": [
          "chile"
         ],
         "textfont": {
          "color": "black",
          "family": "Serif",
          "size": 14
         },
         "textposition": "middle right",
         "type": "scattergeo"
        },
        {
         "customdata": [
          [
           "https://partigabor.github.io/spice/book/materials/fenugreek",
           "Trigonella foenum-graecum",
           "Fabaceae",
           "S Eur; W As",
           "حلبة",
           "ḥulba",
           "胡蘆巴",
           "húlúbā",
           17,
           "67",
           "33",
           19
          ]
         ],
         "geo": "geo",
         "hovertemplate": "<b>%{text}</b><br><br>Species: <i>%{customdata[1]}</i><br>Family: <i>%{customdata[2]}</i><br>Region of origin: %{customdata[3]}<br>Arabic: %{customdata[4]} <i>%{customdata[5]}</i><br>Chinese: %{customdata[6]} <i>%{customdata[7]}</i><br>Spreadability: %{customdata[8]:.2f}<br><extra></extra>",
         "hovertext": [
          "fenugreek"
         ],
         "lat": [
          "33"
         ],
         "legendgroup": "Fabaceae",
         "lon": [
          "67"
         ],
         "marker": {
          "color": "#edae08",
          "line": {
           "color": "rgba(0,0,0,0)",
           "width": 1
          },
          "opacity": 0.7,
          "size": [
           19
          ],
          "sizemode": "area",
          "sizeref": 0.0537109375,
          "symbol": "circle"
         },
         "mode": "markers+text",
         "name": "Fabaceae",
         "showlegend": true,
         "text": [
          "fenugreek"
         ],
         "textfont": {
          "color": "black",
          "family": "Serif",
          "size": 14
         },
         "textposition": "middle right",
         "type": "scattergeo"
        },
        {
         "customdata": [
          [
           "https://partigabor.github.io/spice/book/materials/long_pepper",
           "Piper longum",
           "Piperaceae",
           "E. Himalaya to S. China; Indo-China",
           "دارفلفل",
           "dārfilfil",
           "蓽撥",
           "bìbō",
           0.7,
           "80",
           "23",
           2.7
          ],
          [
           "https://partigabor.github.io/spice/book/materials/pepper",
           "Piper nigrum",
           "Piperaceae",
           "Malabar coast (South India)",
           "فلفل",
           "filfil, fulful",
           "胡椒",
           "hújiāo",
           37,
           "76",
           "14",
           39
          ]
         ],
         "geo": "geo",
         "hovertemplate": "<b>%{text}</b><br><br>Species: <i>%{customdata[1]}</i><br>Family: <i>%{customdata[2]}</i><br>Region of origin: %{customdata[3]}<br>Arabic: %{customdata[4]} <i>%{customdata[5]}</i><br>Chinese: %{customdata[6]} <i>%{customdata[7]}</i><br>Spreadability: %{customdata[8]:.2f}<br><extra></extra>",
         "hovertext": [
          "long pepper",
          "pepper"
         ],
         "lat": [
          "23",
          "14"
         ],
         "legendgroup": "Piperaceae",
         "lon": [
          "80",
          "76"
         ],
         "marker": {
          "color": "#e17909",
          "line": {
           "color": "rgba(0,0,0,0)",
           "width": 1
          },
          "opacity": 0.7,
          "size": [
           2.7,
           39
          ],
          "sizemode": "area",
          "sizeref": 0.0537109375,
          "symbol": "circle"
         },
         "mode": "markers+text",
         "name": "Piperaceae",
         "showlegend": true,
         "text": [
          "long pepper",
          "pepper"
         ],
         "textfont": {
          "color": "black",
          "family": "Serif",
          "size": 14
         },
         "textposition": "middle right",
         "type": "scattergeo"
        },
        {
         "customdata": [
          [
           "https://partigabor.github.io/spice/book/materials/mace",
           "Myristica fragrans",
           "Myristicaceae",
           "Moluccas (Indonesia)",
           "بسباسة",
           "basbāsa",
           "肉豆蔻皮",
           "ròudòukòupí",
           14,
           "130",
           "-6",
           16
          ],
          [
           "https://partigabor.github.io/spice/book/materials/nutmeg",
           "Myristica fragrans",
           "Myristicaceae",
           "Moluccas (Indonesia)",
           "جوز الطيب",
           "jawz al-ṭīb",
           "肉豆蔻",
           "ròudòukòu",
           14,
           "129",
           "-4",
           16
          ]
         ],
         "geo": "geo",
         "hovertemplate": "<b>%{text}</b><br><br>Species: <i>%{customdata[1]}</i><br>Family: <i>%{customdata[2]}</i><br>Region of origin: %{customdata[3]}<br>Arabic: %{customdata[4]} <i>%{customdata[5]}</i><br>Chinese: %{customdata[6]} <i>%{customdata[7]}</i><br>Spreadability: %{customdata[8]:.2f}<br><extra></extra>",
         "hovertext": [
          "mace",
          "nutmeg"
         ],
         "lat": [
          "-6",
          "-4"
         ],
         "legendgroup": "Myristicaceae",
         "lon": [
          "130",
          "129"
         ],
         "marker": {
          "color": "#cc503e",
          "line": {
           "color": "rgba(0,0,0,0)",
           "width": 1
          },
          "opacity": 0.7,
          "size": [
           16,
           16
          ],
          "sizemode": "area",
          "sizeref": 0.0537109375,
          "symbol": "circle"
         },
         "mode": "markers+text",
         "name": "Myristicaceae",
         "showlegend": true,
         "text": [
          "mace",
          "nutmeg"
         ],
         "textfont": {
          "color": "black",
          "family": "Serif",
          "size": 14
         },
         "textposition": "middle right",
         "type": "scattergeo"
        },
        {
         "customdata": [
          [
           "https://partigabor.github.io/spice/book/materials/saffron",
           "Crocus sativus",
           "Iridaceae",
           "Greece",
           "زعفران",
           "zaʿfarān",
           "藏紅花",
           "zànghónghuā",
           8,
           "22",
           "39",
           10
          ]
         ],
         "geo": "geo",
         "hovertemplate": "<b>%{text}</b><br><br>Species: <i>%{customdata[1]}</i><br>Family: <i>%{customdata[2]}</i><br>Region of origin: %{customdata[3]}<br>Arabic: %{customdata[4]} <i>%{customdata[5]}</i><br>Chinese: %{customdata[6]} <i>%{customdata[7]}</i><br>Spreadability: %{customdata[8]:.2f}<br><extra></extra>",
         "hovertext": [
          "saffron"
         ],
         "lat": [
          "39"
         ],
         "legendgroup": "Iridaceae",
         "lon": [
          "22"
         ],
         "marker": {
          "color": "#94346e",
          "line": {
           "color": "rgba(0,0,0,0)",
           "width": 1
          },
          "opacity": 0.7,
          "size": [
           10
          ],
          "sizemode": "area",
          "sizeref": 0.0537109375,
          "symbol": "circle"
         },
         "mode": "markers+text",
         "name": "Iridaceae",
         "showlegend": true,
         "text": [
          "saffron"
         ],
         "textfont": {
          "color": "black",
          "family": "Serif",
          "size": 14
         },
         "textposition": "middle right",
         "type": "scattergeo"
        },
        {
         "customdata": [
          [
           "https://partigabor.github.io/spice/book/materials/Sichuan_pepper",
           "Zanthoxylum bungeanum",
           "Rutaceae",
           "China",
           "فلفل سيتشوان",
           "fulful sītshuwān",
           "花椒",
           "huā​jiāo",
           0.1,
           "105",
           "35",
           2.1
          ]
         ],
         "geo": "geo",
         "hovertemplate": "<b>%{text}</b><br><br>Species: <i>%{customdata[1]}</i><br>Family: <i>%{customdata[2]}</i><br>Region of origin: %{customdata[3]}<br>Arabic: %{customdata[4]} <i>%{customdata[5]}</i><br>Chinese: %{customdata[6]} <i>%{customdata[7]}</i><br>Spreadability: %{customdata[8]:.2f}<br><extra></extra>",
         "hovertext": [
          "Sichuan pepper"
         ],
         "lat": [
          "35"
         ],
         "legendgroup": "Rutaceae",
         "lon": [
          "105"
         ],
         "marker": {
          "color": "#6f4070",
          "line": {
           "color": "rgba(0,0,0,0)",
           "width": 1
          },
          "opacity": 0.7,
          "size": [
           2.1
          ],
          "sizemode": "area",
          "sizeref": 0.0537109375,
          "symbol": "circle"
         },
         "mode": "markers+text",
         "name": "Rutaceae",
         "showlegend": true,
         "text": [
          "Sichuan pepper"
         ],
         "textfont": {
          "color": "black",
          "family": "Serif",
          "size": 14
         },
         "textposition": "middle right",
         "type": "scattergeo"
        },
        {
         "customdata": [
          [
           "https://partigabor.github.io/spice/book/materials/star_anise",
           "Illicium verum",
           "Schisandraceae",
           "SE. China; Vietnam",
           "يانسون نجمي",
           "yānsūn najmī",
           "八角",
           "bājiǎo",
           1,
           "106",
           "18",
           3
          ]
         ],
         "geo": "geo",
         "hovertemplate": "<b>%{text}</b><br><br>Species: <i>%{customdata[1]}</i><br>Family: <i>%{customdata[2]}</i><br>Region of origin: %{customdata[3]}<br>Arabic: %{customdata[4]} <i>%{customdata[5]}</i><br>Chinese: %{customdata[6]} <i>%{customdata[7]}</i><br>Spreadability: %{customdata[8]:.2f}<br><extra></extra>",
         "hovertext": [
          "star anise"
         ],
         "lat": [
          "18"
         ],
         "legendgroup": "Schisandraceae",
         "lon": [
          "106"
         ],
         "marker": {
          "color": "#a28aba",
          "line": {
           "color": "rgba(0,0,0,0)",
           "width": 1
          },
          "opacity": 0.7,
          "size": [
           3
          ],
          "sizemode": "area",
          "sizeref": 0.0537109375,
          "symbol": "circle"
         },
         "mode": "markers+text",
         "name": "Schisandraceae",
         "showlegend": true,
         "text": [
          "star anise"
         ],
         "textfont": {
          "color": "black",
          "family": "Serif",
          "size": 14
         },
         "textposition": "middle right",
         "type": "scattergeo"
        },
        {
         "customdata": [
          [
           "https://partigabor.github.io/spice/book/materials/vanilla",
           "Vanilla planifolia",
           "Orchidaceae",
           "Tropical America",
           "فانيليا",
           "fānīliyā",
           "香草",
           "xiāngcǎo",
           2.64,
           "-55",
           "-10",
           4.640000000000001
          ]
         ],
         "geo": "geo",
         "hovertemplate": "<b>%{text}</b><br><br>Species: <i>%{customdata[1]}</i><br>Family: <i>%{customdata[2]}</i><br>Region of origin: %{customdata[3]}<br>Arabic: %{customdata[4]} <i>%{customdata[5]}</i><br>Chinese: %{customdata[6]} <i>%{customdata[7]}</i><br>Spreadability: %{customdata[8]:.2f}<br><extra></extra>",
         "hovertext": [
          "vanilla"
         ],
         "lat": [
          "-10"
         ],
         "legendgroup": "Orchidaceae",
         "lon": [
          "-55"
         ],
         "marker": {
          "color": "#6baed6",
          "line": {
           "color": "rgba(0,0,0,0)",
           "width": 1
          },
          "opacity": 0.7,
          "size": [
           4.640000000000001
          ],
          "sizemode": "area",
          "sizeref": 0.0537109375,
          "symbol": "circle"
         },
         "mode": "markers+text",
         "name": "Orchidaceae",
         "showlegend": true,
         "text": [
          "vanilla"
         ],
         "textfont": {
          "color": "black",
          "family": "Serif",
          "size": 14
         },
         "textposition": "middle right",
         "type": "scattergeo"
        }
       ],
       "layout": {
        "annotations": [
         {
          "font": {
           "color": "black",
           "family": "Serif",
           "size": 14
          },
          "name": "info",
          "opacity": 0.9,
          "showarrow": false,
          "text": "Click on a material to navigate to its corresponding page!",
          "x": 0.5,
          "xref": "paper",
          "y": 0.05,
          "yref": "paper"
         },
         {
          "font": {
           "color": "lightgray",
           "family": "Serif",
           "size": 8
          },
          "name": "copyright",
          "opacity": 0.9,
          "showarrow": false,
          "text": "© Gábor Parti, 2023",
          "x": 0.5,
          "xref": "paper",
          "y": 0,
          "yref": "paper"
         }
        ],
        "geo": {
         "bgcolor": "rgba(0,0,0,0)",
         "center": {},
         "coastlinecolor": "gainsboro",
         "coastlinewidth": 1,
         "countrycolor": "gainsboro",
         "countrywidth": 1,
         "domain": {
          "x": [
           0,
           1
          ],
          "y": [
           0,
           1
          ]
         },
         "framecolor": "gainsboro",
         "framewidth": 1,
         "lakecolor": "white",
         "landcolor": "gainsboro",
         "oceancolor": "white",
         "projection": {
          "scale": 1,
          "type": "natural earth"
         },
         "resolution": 110,
         "rivercolor": "white",
         "riverwidth": 1,
         "scope": "world",
         "showcoastlines": true,
         "showcountries": false,
         "showframe": true,
         "showlakes": true,
         "showland": true,
         "showocean": true,
         "showrivers": true,
         "showsubunits": false,
         "subunitcolor": "gainsboro",
         "subunitwidth": 1
        },
        "hoverlabel": {
         "font": {
          "family": "Serif",
          "size": 14
         }
        },
        "images": [
         {
          "sizex": 0.15,
          "sizey": 0.15,
          "source": "https://upload.wikimedia.org/wikipedia/en/thumb/9/9e/PolyU_Logo_with_wordmark.svg/1024px-PolyU_Logo_with_wordmark.svg.png",
          "x": 1,
          "xanchor": "right",
          "y": 0,
          "yanchor": "bottom"
         }
        ],
        "legend": {
         "bgcolor": "rgba(255,255,255,0.5)",
         "font": {
          "color": "black",
          "family": "Serif",
          "size": 14
         },
         "itemsizing": "constant",
         "orientation": "v",
         "title": {
          "font": {
           "color": "black",
           "family": "Serif",
           "size": 18
          },
          "text": "family"
         },
         "tracegroupgap": 0,
         "traceorder": "normal",
         "x": 0,
         "xanchor": "left",
         "y": 0,
         "yanchor": "bottom"
        },
        "margin": {
         "b": 0,
         "l": 0,
         "r": 0,
         "t": 0
        },
        "paper_bgcolor": "rgba(0,0,0,0)",
        "plot_bgcolor": "rgba(0,0,0,0)",
        "showlegend": true,
        "template": {
         "data": {
          "bar": [
           {
            "error_x": {
             "color": "#2a3f5f"
            },
            "error_y": {
             "color": "#2a3f5f"
            },
            "marker": {
             "line": {
              "color": "#E5ECF6",
              "width": 0.5
             },
             "pattern": {
              "fillmode": "overlay",
              "size": 10,
              "solidity": 0.2
             }
            },
            "type": "bar"
           }
          ],
          "barpolar": [
           {
            "marker": {
             "line": {
              "color": "#E5ECF6",
              "width": 0.5
             },
             "pattern": {
              "fillmode": "overlay",
              "size": 10,
              "solidity": 0.2
             }
            },
            "type": "barpolar"
           }
          ],
          "carpet": [
           {
            "aaxis": {
             "endlinecolor": "#2a3f5f",
             "gridcolor": "white",
             "linecolor": "white",
             "minorgridcolor": "white",
             "startlinecolor": "#2a3f5f"
            },
            "baxis": {
             "endlinecolor": "#2a3f5f",
             "gridcolor": "white",
             "linecolor": "white",
             "minorgridcolor": "white",
             "startlinecolor": "#2a3f5f"
            },
            "type": "carpet"
           }
          ],
          "choropleth": [
           {
            "colorbar": {
             "outlinewidth": 0,
             "ticks": ""
            },
            "type": "choropleth"
           }
          ],
          "contour": [
           {
            "colorbar": {
             "outlinewidth": 0,
             "ticks": ""
            },
            "colorscale": [
             [
              0,
              "#0d0887"
             ],
             [
              0.1111111111111111,
              "#46039f"
             ],
             [
              0.2222222222222222,
              "#7201a8"
             ],
             [
              0.3333333333333333,
              "#9c179e"
             ],
             [
              0.4444444444444444,
              "#bd3786"
             ],
             [
              0.5555555555555556,
              "#d8576b"
             ],
             [
              0.6666666666666666,
              "#ed7953"
             ],
             [
              0.7777777777777778,
              "#fb9f3a"
             ],
             [
              0.8888888888888888,
              "#fdca26"
             ],
             [
              1,
              "#f0f921"
             ]
            ],
            "type": "contour"
           }
          ],
          "contourcarpet": [
           {
            "colorbar": {
             "outlinewidth": 0,
             "ticks": ""
            },
            "type": "contourcarpet"
           }
          ],
          "heatmap": [
           {
            "colorbar": {
             "outlinewidth": 0,
             "ticks": ""
            },
            "colorscale": [
             [
              0,
              "#0d0887"
             ],
             [
              0.1111111111111111,
              "#46039f"
             ],
             [
              0.2222222222222222,
              "#7201a8"
             ],
             [
              0.3333333333333333,
              "#9c179e"
             ],
             [
              0.4444444444444444,
              "#bd3786"
             ],
             [
              0.5555555555555556,
              "#d8576b"
             ],
             [
              0.6666666666666666,
              "#ed7953"
             ],
             [
              0.7777777777777778,
              "#fb9f3a"
             ],
             [
              0.8888888888888888,
              "#fdca26"
             ],
             [
              1,
              "#f0f921"
             ]
            ],
            "type": "heatmap"
           }
          ],
          "heatmapgl": [
           {
            "colorbar": {
             "outlinewidth": 0,
             "ticks": ""
            },
            "colorscale": [
             [
              0,
              "#0d0887"
             ],
             [
              0.1111111111111111,
              "#46039f"
             ],
             [
              0.2222222222222222,
              "#7201a8"
             ],
             [
              0.3333333333333333,
              "#9c179e"
             ],
             [
              0.4444444444444444,
              "#bd3786"
             ],
             [
              0.5555555555555556,
              "#d8576b"
             ],
             [
              0.6666666666666666,
              "#ed7953"
             ],
             [
              0.7777777777777778,
              "#fb9f3a"
             ],
             [
              0.8888888888888888,
              "#fdca26"
             ],
             [
              1,
              "#f0f921"
             ]
            ],
            "type": "heatmapgl"
           }
          ],
          "histogram": [
           {
            "marker": {
             "pattern": {
              "fillmode": "overlay",
              "size": 10,
              "solidity": 0.2
             }
            },
            "type": "histogram"
           }
          ],
          "histogram2d": [
           {
            "colorbar": {
             "outlinewidth": 0,
             "ticks": ""
            },
            "colorscale": [
             [
              0,
              "#0d0887"
             ],
             [
              0.1111111111111111,
              "#46039f"
             ],
             [
              0.2222222222222222,
              "#7201a8"
             ],
             [
              0.3333333333333333,
              "#9c179e"
             ],
             [
              0.4444444444444444,
              "#bd3786"
             ],
             [
              0.5555555555555556,
              "#d8576b"
             ],
             [
              0.6666666666666666,
              "#ed7953"
             ],
             [
              0.7777777777777778,
              "#fb9f3a"
             ],
             [
              0.8888888888888888,
              "#fdca26"
             ],
             [
              1,
              "#f0f921"
             ]
            ],
            "type": "histogram2d"
           }
          ],
          "histogram2dcontour": [
           {
            "colorbar": {
             "outlinewidth": 0,
             "ticks": ""
            },
            "colorscale": [
             [
              0,
              "#0d0887"
             ],
             [
              0.1111111111111111,
              "#46039f"
             ],
             [
              0.2222222222222222,
              "#7201a8"
             ],
             [
              0.3333333333333333,
              "#9c179e"
             ],
             [
              0.4444444444444444,
              "#bd3786"
             ],
             [
              0.5555555555555556,
              "#d8576b"
             ],
             [
              0.6666666666666666,
              "#ed7953"
             ],
             [
              0.7777777777777778,
              "#fb9f3a"
             ],
             [
              0.8888888888888888,
              "#fdca26"
             ],
             [
              1,
              "#f0f921"
             ]
            ],
            "type": "histogram2dcontour"
           }
          ],
          "mesh3d": [
           {
            "colorbar": {
             "outlinewidth": 0,
             "ticks": ""
            },
            "type": "mesh3d"
           }
          ],
          "parcoords": [
           {
            "line": {
             "colorbar": {
              "outlinewidth": 0,
              "ticks": ""
             }
            },
            "type": "parcoords"
           }
          ],
          "pie": [
           {
            "automargin": true,
            "type": "pie"
           }
          ],
          "scatter": [
           {
            "fillpattern": {
             "fillmode": "overlay",
             "size": 10,
             "solidity": 0.2
            },
            "type": "scatter"
           }
          ],
          "scatter3d": [
           {
            "line": {
             "colorbar": {
              "outlinewidth": 0,
              "ticks": ""
             }
            },
            "marker": {
             "colorbar": {
              "outlinewidth": 0,
              "ticks": ""
             }
            },
            "type": "scatter3d"
           }
          ],
          "scattercarpet": [
           {
            "marker": {
             "colorbar": {
              "outlinewidth": 0,
              "ticks": ""
             }
            },
            "type": "scattercarpet"
           }
          ],
          "scattergeo": [
           {
            "marker": {
             "colorbar": {
              "outlinewidth": 0,
              "ticks": ""
             }
            },
            "type": "scattergeo"
           }
          ],
          "scattergl": [
           {
            "marker": {
             "colorbar": {
              "outlinewidth": 0,
              "ticks": ""
             }
            },
            "type": "scattergl"
           }
          ],
          "scattermapbox": [
           {
            "marker": {
             "colorbar": {
              "outlinewidth": 0,
              "ticks": ""
             }
            },
            "type": "scattermapbox"
           }
          ],
          "scatterpolar": [
           {
            "marker": {
             "colorbar": {
              "outlinewidth": 0,
              "ticks": ""
             }
            },
            "type": "scatterpolar"
           }
          ],
          "scatterpolargl": [
           {
            "marker": {
             "colorbar": {
              "outlinewidth": 0,
              "ticks": ""
             }
            },
            "type": "scatterpolargl"
           }
          ],
          "scatterternary": [
           {
            "marker": {
             "colorbar": {
              "outlinewidth": 0,
              "ticks": ""
             }
            },
            "type": "scatterternary"
           }
          ],
          "surface": [
           {
            "colorbar": {
             "outlinewidth": 0,
             "ticks": ""
            },
            "colorscale": [
             [
              0,
              "#0d0887"
             ],
             [
              0.1111111111111111,
              "#46039f"
             ],
             [
              0.2222222222222222,
              "#7201a8"
             ],
             [
              0.3333333333333333,
              "#9c179e"
             ],
             [
              0.4444444444444444,
              "#bd3786"
             ],
             [
              0.5555555555555556,
              "#d8576b"
             ],
             [
              0.6666666666666666,
              "#ed7953"
             ],
             [
              0.7777777777777778,
              "#fb9f3a"
             ],
             [
              0.8888888888888888,
              "#fdca26"
             ],
             [
              1,
              "#f0f921"
             ]
            ],
            "type": "surface"
           }
          ],
          "table": [
           {
            "cells": {
             "fill": {
              "color": "#EBF0F8"
             },
             "line": {
              "color": "white"
             }
            },
            "header": {
             "fill": {
              "color": "#C8D4E3"
             },
             "line": {
              "color": "white"
             }
            },
            "type": "table"
           }
          ]
         },
         "layout": {
          "annotationdefaults": {
           "arrowcolor": "#2a3f5f",
           "arrowhead": 0,
           "arrowwidth": 1
          },
          "autotypenumbers": "strict",
          "coloraxis": {
           "colorbar": {
            "outlinewidth": 0,
            "ticks": ""
           }
          },
          "colorscale": {
           "diverging": [
            [
             0,
             "#8e0152"
            ],
            [
             0.1,
             "#c51b7d"
            ],
            [
             0.2,
             "#de77ae"
            ],
            [
             0.3,
             "#f1b6da"
            ],
            [
             0.4,
             "#fde0ef"
            ],
            [
             0.5,
             "#f7f7f7"
            ],
            [
             0.6,
             "#e6f5d0"
            ],
            [
             0.7,
             "#b8e186"
            ],
            [
             0.8,
             "#7fbc41"
            ],
            [
             0.9,
             "#4d9221"
            ],
            [
             1,
             "#276419"
            ]
           ],
           "sequential": [
            [
             0,
             "#0d0887"
            ],
            [
             0.1111111111111111,
             "#46039f"
            ],
            [
             0.2222222222222222,
             "#7201a8"
            ],
            [
             0.3333333333333333,
             "#9c179e"
            ],
            [
             0.4444444444444444,
             "#bd3786"
            ],
            [
             0.5555555555555556,
             "#d8576b"
            ],
            [
             0.6666666666666666,
             "#ed7953"
            ],
            [
             0.7777777777777778,
             "#fb9f3a"
            ],
            [
             0.8888888888888888,
             "#fdca26"
            ],
            [
             1,
             "#f0f921"
            ]
           ],
           "sequentialminus": [
            [
             0,
             "#0d0887"
            ],
            [
             0.1111111111111111,
             "#46039f"
            ],
            [
             0.2222222222222222,
             "#7201a8"
            ],
            [
             0.3333333333333333,
             "#9c179e"
            ],
            [
             0.4444444444444444,
             "#bd3786"
            ],
            [
             0.5555555555555556,
             "#d8576b"
            ],
            [
             0.6666666666666666,
             "#ed7953"
            ],
            [
             0.7777777777777778,
             "#fb9f3a"
            ],
            [
             0.8888888888888888,
             "#fdca26"
            ],
            [
             1,
             "#f0f921"
            ]
           ]
          },
          "colorway": [
           "#636efa",
           "#EF553B",
           "#00cc96",
           "#ab63fa",
           "#FFA15A",
           "#19d3f3",
           "#FF6692",
           "#B6E880",
           "#FF97FF",
           "#FECB52"
          ],
          "font": {
           "color": "#2a3f5f"
          },
          "geo": {
           "bgcolor": "white",
           "lakecolor": "white",
           "landcolor": "#E5ECF6",
           "showlakes": true,
           "showland": true,
           "subunitcolor": "white"
          },
          "hoverlabel": {
           "align": "left"
          },
          "hovermode": "closest",
          "mapbox": {
           "style": "light"
          },
          "paper_bgcolor": "white",
          "plot_bgcolor": "#E5ECF6",
          "polar": {
           "angularaxis": {
            "gridcolor": "white",
            "linecolor": "white",
            "ticks": ""
           },
           "bgcolor": "#E5ECF6",
           "radialaxis": {
            "gridcolor": "white",
            "linecolor": "white",
            "ticks": ""
           }
          },
          "scene": {
           "xaxis": {
            "backgroundcolor": "#E5ECF6",
            "gridcolor": "white",
            "gridwidth": 2,
            "linecolor": "white",
            "showbackground": true,
            "ticks": "",
            "zerolinecolor": "white"
           },
           "yaxis": {
            "backgroundcolor": "#E5ECF6",
            "gridcolor": "white",
            "gridwidth": 2,
            "linecolor": "white",
            "showbackground": true,
            "ticks": "",
            "zerolinecolor": "white"
           },
           "zaxis": {
            "backgroundcolor": "#E5ECF6",
            "gridcolor": "white",
            "gridwidth": 2,
            "linecolor": "white",
            "showbackground": true,
            "ticks": "",
            "zerolinecolor": "white"
           }
          },
          "shapedefaults": {
           "line": {
            "color": "#2a3f5f"
           }
          },
          "ternary": {
           "aaxis": {
            "gridcolor": "white",
            "linecolor": "white",
            "ticks": ""
           },
           "baxis": {
            "gridcolor": "white",
            "linecolor": "white",
            "ticks": ""
           },
           "bgcolor": "#E5ECF6",
           "caxis": {
            "gridcolor": "white",
            "linecolor": "white",
            "ticks": ""
           }
          },
          "title": {
           "x": 0.05
          },
          "xaxis": {
           "automargin": true,
           "gridcolor": "white",
           "linecolor": "white",
           "ticks": "",
           "title": {
            "standoff": 15
           },
           "zerolinecolor": "white",
           "zerolinewidth": 2
          },
          "yaxis": {
           "automargin": true,
           "gridcolor": "white",
           "linecolor": "white",
           "ticks": "",
           "title": {
            "standoff": 15
           },
           "zerolinecolor": "white",
           "zerolinewidth": 2
          }
         }
        },
        "title": {
         "font": {
          "color": "black",
          "family": "Serif",
          "size": 20
         },
         "text": "",
         "x": 0.5,
         "xanchor": "center",
         "y": 0.98,
         "yanchor": "top"
        }
       }
      }
     },
     "metadata": {},
     "output_type": "display_data"
    }
   ],
   "source": [
    "# Set size\n",
    "# df['size'] = 1\n",
    "# Size by spreadability\n",
    "df['spreadability'] = df['spreadability'].astype(float)\n",
    "df['spreadability'] = df['spreadability'].round(2)\n",
    "df['size'] = df['spreadability'] + 2\n",
    "max_marker_size = 32\n",
    "\n",
    "# Add links\n",
    "df['url'] = \"https://partigabor.github.io/spice/book/materials/\" + df['id'].str.replace(\" \", \"_\")\n",
    "\n",
    "# For the website, with hyperlinks\n",
    "data = px.scatter_geo(df, \n",
    "    lat='lat', lon='lon',\n",
    "    text='id',\n",
    "    color=\"family\",\n",
    "    color_discrete_sequence=color_scheme,\n",
    "    opacity = opacity,\n",
    "    size=\"size\",\n",
    "    size_max=max_marker_size,\n",
    "    hover_name=\"id\", \n",
    "    hover_data={'url':False, 'species':True, 'family':True, 'region of origin':True, 'Arabic':True, 'Ar transliteration':True, 'Chinese':True, 'pinyin':True, 'spreadability':':.2f', 'lon':False, 'lat':False, 'size':False},\n",
    "    # labels={\"group\": \"category\"},\n",
    "    )\n",
    "\n",
    "fig = data\n",
    "fig.update_traces(ne_traces)\n",
    "fig.update_layout(ne_layout)\n",
    "fig.update_layout(annotations=[info, cr])\n",
    "fig.add_layout_image(logo)\n",
    "\n",
    "# Write\n",
    "filename = \"distribution_map\"\n",
    "fig.write_json(filename + \".json\", validate=True, pretty=True)\n",
    "# fig.write_html(filename + \".html\")\n",
    "# fig.write_image(filename + \".pdf\", engine=\"kaleido\")\n",
    "# fig.write_image(filename + \".png\", scale=3)\n",
    "\n",
    "fig.show()\n",
    "\n",
    "######################################################\n",
    "# Get HTML representation of plotly.js and this figure\n",
    "plot_div = plot(fig, output_type='div', include_plotlyjs=True)\n",
    "\n",
    "# Get id of html div element that looks like\n",
    "# <div id=\"301d22ab-bfba-4621-8f5d-dc4fd855bb33\" ... >\n",
    "res = re.search('<div id=\"([^\"]*)\"', plot_div)\n",
    "div_id = res.groups()[0]\n",
    "\n",
    "# Build JavaScript callback for handling clicks\n",
    "# and opening the URL in the trace's customdata \n",
    "js_callback = \"\"\"\n",
    "<script>\n",
    "var plot_element = document.getElementById(\"{div_id}\");\n",
    "plot_element.on('plotly_click', function(data){{\n",
    "    console.log(data);\n",
    "    var point = data.points[0];\n",
    "    if (point) {{\n",
    "        console.log(point.customdata[0]);\n",
    "        window.open(point.customdata[0]);\n",
    "    }}\n",
    "}})\n",
    "</script>\n",
    "\"\"\".format(div_id=div_id)\n",
    "\n",
    "# Build HTML string\n",
    "html_str = \"\"\"\n",
    "<html>\n",
    "<body>\n",
    "{plot_div}\n",
    "{js_callback}\n",
    "</body>\n",
    "</html>\n",
    "\"\"\".format(plot_div=plot_div, js_callback=js_callback)\n",
    "\n",
    "# Write html with hyperlinks\n",
    "with open(filename + \".html\", 'w') as f:\n",
    "    f.write(html_str)\n",
    "\n",
    "# # Read back html and write it as json. Seems to work but does not open links when embedded...\n",
    "# def html_to_json(html_file):\n",
    "#     with open(html_file + '.html') as f:\n",
    "#         html = f.read()\n",
    "#     call_arg_str = re.findall(r'Plotly\\.newPlot\\((.*)\\)', html[-2**16:])[0]\n",
    "#     call_args = json.loads(f'[{call_arg_str}]')\n",
    "#     plotly_json = {'data': call_args[1], 'layout': call_args[2]}  \n",
    "#     figure=plotly.io.from_json(json.dumps(plotly_json))\n",
    "#     figure.write_json(filename + \".json\", validate=True, pretty=True)\n",
    "#     return\n",
    "\n",
    "# html_to_json('distribution_map')"
   ]
  },
  {
   "cell_type": "code",
   "execution_count": null,
   "metadata": {},
   "outputs": [],
   "source": []
  },
  {
   "cell_type": "code",
   "execution_count": null,
   "metadata": {},
   "outputs": [],
   "source": []
  }
 ],
 "metadata": {
  "kernelspec": {
   "display_name": "work",
   "language": "python",
   "name": "python3"
  },
  "language_info": {
   "codemirror_mode": {
    "name": "ipython",
    "version": 3
   },
   "file_extension": ".py",
   "mimetype": "text/x-python",
   "name": "python",
   "nbconvert_exporter": "python",
   "pygments_lexer": "ipython3",
   "version": "3.10.11"
  },
  "orig_nbformat": 4
 },
 "nbformat": 4,
 "nbformat_minor": 2
}
